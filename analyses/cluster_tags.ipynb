{
 "cells": [
  {
   "cell_type": "code",
   "execution_count": 1,
   "metadata": {
    "ExecuteTime": {
     "end_time": "2023-05-28T14:28:32.493341Z",
     "start_time": "2023-05-28T14:28:32.485508Z"
    }
   },
   "outputs": [
    {
     "data": {
      "text/html": [
       "        <script type=\"text/javascript\">\n",
       "        window.PlotlyConfig = {MathJaxConfig: 'local'};\n",
       "        if (window.MathJax && window.MathJax.Hub && window.MathJax.Hub.Config) {window.MathJax.Hub.Config({SVG: {font: \"STIX-Web\"}});}\n",
       "        if (typeof require !== 'undefined') {\n",
       "        require.undef(\"plotly\");\n",
       "        requirejs.config({\n",
       "            paths: {\n",
       "                'plotly': ['https://cdn.plot.ly/plotly-2.20.0.min']\n",
       "            }\n",
       "        });\n",
       "        require(['plotly'], function(Plotly) {\n",
       "            window._Plotly = Plotly;\n",
       "        });\n",
       "        }\n",
       "        </script>\n",
       "        "
      ]
     },
     "metadata": {},
     "output_type": "display_data"
    }
   ],
   "source": [
    "import json\n",
    "\n",
    "import networkx as nx\n",
    "import numpy as np\n",
    "import pandas as pd\n",
    "import plotly.express as px\n",
    "from plotly.offline import init_notebook_mode, iplot\n",
    "from sklearn.cluster import KMeans\n",
    "\n",
    "from src.encode_text import TextEmbeddings as te\n",
    "from src.text_model import text_model, tokenizer\n",
    "\n",
    "init_notebook_mode(connected=True)\n",
    "from pyvis.network import Network\n",
    "import plotly.io as pio\n",
    "import seaborn as sns\n",
    "pio.renderers.default = 'notebook_connected'\n",
    "\n",
    "from src.downstream_tasks.clustering import clustering\n",
    "from src.downstream_tasks.clustering import plot"
   ]
  },
  {
   "cell_type": "code",
   "execution_count": 2,
   "metadata": {
    "ExecuteTime": {
     "end_time": "2023-05-28T14:27:21.722540Z",
     "start_time": "2023-05-28T14:27:21.136042Z"
    }
   },
   "outputs": [],
   "source": [
    "rows = []\n",
    "with open('/Users/dgoldenberg/PycharmProjects/encode_templates/data/tags.json', 'r') as file:\n",
    "    for line in file:\n",
    "        rows.append(json.loads(line))\n",
    "df = pd.DataFrame(rows)"
   ]
  },
  {
   "cell_type": "code",
   "execution_count": 3,
   "metadata": {
    "ExecuteTime": {
     "end_time": "2023-05-28T14:24:44.205028Z",
     "start_time": "2023-05-28T14:24:44.154862Z"
    }
   },
   "outputs": [],
   "source": [
    "combined_tags = np.unique(np.concatenate([df['parent_tag'].unique(), df['child_tag'].unique()]))"
   ]
  },
  {
   "cell_type": "code",
   "execution_count": 4,
   "metadata": {
    "ExecuteTime": {
     "end_time": "2023-05-28T14:24:44.682360Z",
     "start_time": "2023-05-28T14:24:44.675846Z"
    }
   },
   "outputs": [],
   "source": [
    "embs = te(list(combined_tags), text_model, tokenizer)"
   ]
  },
  {
   "cell_type": "code",
   "execution_count": 5,
   "metadata": {
    "ExecuteTime": {
     "end_time": "2023-05-28T14:24:50.714939Z",
     "start_time": "2023-05-28T14:24:45.156824Z"
    }
   },
   "outputs": [],
   "source": [
    "embeddings = embs.get_embeddings()"
   ]
  },
  {
   "cell_type": "code",
   "execution_count": 6,
   "metadata": {
    "ExecuteTime": {
     "end_time": "2023-05-28T14:24:50.737015Z",
     "start_time": "2023-05-28T14:24:50.735377Z"
    }
   },
   "outputs": [],
   "source": [
    "# Convert the tensor to a numpy array\n",
    "numpy_array = embeddings.numpy()\n",
    "\n",
    "# Convert numpy array to list\n",
    "list_of_arrays = numpy_array.tolist()\n",
    "\n",
    "df_encoding = pd.concat([pd.Series(combined_tags), pd.Series(list_of_arrays)], axis=1)\n",
    "df_encoding.columns = ['tags', 'weights']"
   ]
  },
  {
   "cell_type": "code",
   "execution_count": 7,
   "metadata": {
    "ExecuteTime": {
     "end_time": "2023-05-28T14:24:50.957265Z",
     "start_time": "2023-05-28T14:24:50.738845Z"
    }
   },
   "outputs": [],
   "source": [
    "df_parent = df[['parent_template_id', 'parent_tag']].drop_duplicates()\n",
    "df_parent.columns = ['template_id', 'tag']\n",
    "df_child = df[['template_id', 'child_tag']].drop_duplicates().drop_duplicates()\n",
    "df_child.columns = ['template_id', 'tag']\n",
    "\n",
    "df_tags = pd.concat([df_parent, df_child], axis=0).drop_duplicates()"
   ]
  },
  {
   "cell_type": "code",
   "execution_count": 8,
   "metadata": {
    "ExecuteTime": {
     "end_time": "2023-05-28T14:24:51.506460Z",
     "start_time": "2023-05-28T14:24:50.982488Z"
    }
   },
   "outputs": [],
   "source": [
    "# Convert the weights column in df_encoding to numpy arrays\n",
    "df_encoding['weights'] = df_encoding['weights'].apply(np.array)\n",
    "\n",
    "# Join the dataframes based on parent_tag and tags\n",
    "merged_df = df_tags.merge(df_encoding, left_on='tag', right_on='tags')\n",
    "\n",
    "# Group by parent_template_id and calculate the mean of weights\n",
    "average_encoding_df = merged_df.groupby('template_id')['weights'].apply(np.mean).reset_index()"
   ]
  },
  {
   "cell_type": "code",
   "execution_count": 9,
   "metadata": {
    "ExecuteTime": {
     "end_time": "2023-05-28T14:24:51.507066Z",
     "start_time": "2023-05-28T14:24:51.506766Z"
    }
   },
   "outputs": [],
   "source": [
    "s = average_encoding_df['weights'].tolist()\n",
    "X = np.array(s)"
   ]
  },
  {
   "cell_type": "code",
   "execution_count": 10,
   "metadata": {
    "ExecuteTime": {
     "end_time": "2023-05-28T14:08:17.355337Z",
     "start_time": "2023-05-28T14:07:29.211921Z"
    }
   },
   "outputs": [
    {
     "name": "stderr",
     "output_type": "stream",
     "text": [
      "/Users/dgoldenberg/Library/Caches/pypoetry/virtualenvs/encode-templates-ASgds6RF-py3.9/lib/python3.9/site-packages/sklearn/cluster/_kmeans.py:870: FutureWarning:\n",
      "\n",
      "The default value of `n_init` will change from 10 to 'auto' in 1.4. Set the value of `n_init` explicitly to suppress the warning\n",
      "\n",
      "/Users/dgoldenberg/Library/Caches/pypoetry/virtualenvs/encode-templates-ASgds6RF-py3.9/lib/python3.9/site-packages/sklearn/cluster/_kmeans.py:870: FutureWarning:\n",
      "\n",
      "The default value of `n_init` will change from 10 to 'auto' in 1.4. Set the value of `n_init` explicitly to suppress the warning\n",
      "\n",
      "/Users/dgoldenberg/Library/Caches/pypoetry/virtualenvs/encode-templates-ASgds6RF-py3.9/lib/python3.9/site-packages/sklearn/cluster/_kmeans.py:870: FutureWarning:\n",
      "\n",
      "The default value of `n_init` will change from 10 to 'auto' in 1.4. Set the value of `n_init` explicitly to suppress the warning\n",
      "\n",
      "/Users/dgoldenberg/Library/Caches/pypoetry/virtualenvs/encode-templates-ASgds6RF-py3.9/lib/python3.9/site-packages/sklearn/cluster/_kmeans.py:870: FutureWarning:\n",
      "\n",
      "The default value of `n_init` will change from 10 to 'auto' in 1.4. Set the value of `n_init` explicitly to suppress the warning\n",
      "\n",
      "/Users/dgoldenberg/Library/Caches/pypoetry/virtualenvs/encode-templates-ASgds6RF-py3.9/lib/python3.9/site-packages/sklearn/cluster/_kmeans.py:870: FutureWarning:\n",
      "\n",
      "The default value of `n_init` will change from 10 to 'auto' in 1.4. Set the value of `n_init` explicitly to suppress the warning\n",
      "\n",
      "/Users/dgoldenberg/Library/Caches/pypoetry/virtualenvs/encode-templates-ASgds6RF-py3.9/lib/python3.9/site-packages/sklearn/cluster/_kmeans.py:870: FutureWarning:\n",
      "\n",
      "The default value of `n_init` will change from 10 to 'auto' in 1.4. Set the value of `n_init` explicitly to suppress the warning\n",
      "\n"
     ]
    }
   ],
   "source": [
    "# kmeans_params = {'n_clusters': [10, 30, 50, 80, 90, 100]}\n",
    "\n",
    "# # # Perform grid search for K-means\n",
    "# kmeans_results = clustering.grid_search_clustering(X, 'kmeans', kmeans_params)"
   ]
  },
  {
   "cell_type": "code",
   "execution_count": 12,
   "metadata": {
    "ExecuteTime": {
     "end_time": "2023-05-28T14:24:59.435617Z",
     "start_time": "2023-05-28T14:24:54.339068Z"
    }
   },
   "outputs": [
    {
     "name": "stderr",
     "output_type": "stream",
     "text": [
      "/Users/dgoldenberg/Library/Caches/pypoetry/virtualenvs/encode-templates-ASgds6RF-py3.9/lib/python3.9/site-packages/sklearn/cluster/_kmeans.py:870: FutureWarning:\n",
      "\n",
      "The default value of `n_init` will change from 10 to 'auto' in 1.4. Set the value of `n_init` explicitly to suppress the warning\n",
      "\n"
     ]
    }
   ],
   "source": [
    "n_clusters=50\n",
    "clusters = clustering.create_clustering(X, KMeans, n_clusters=n_clusters)"
   ]
  },
  {
   "cell_type": "code",
   "execution_count": 13,
   "metadata": {
    "ExecuteTime": {
     "end_time": "2023-05-28T14:24:59.441348Z",
     "start_time": "2023-05-28T14:24:59.437522Z"
    }
   },
   "outputs": [],
   "source": [
    "meta = pd.concat([average_encoding_df, clusters], axis=1).reset_index(drop=True)\n",
    "meta.columns=['name', 'weights', 'cluster']"
   ]
  },
  {
   "cell_type": "code",
   "execution_count": null,
   "metadata": {
    "ExecuteTime": {
     "end_time": "2023-05-28T14:27:55.457594Z",
     "start_time": "2023-05-28T14:27:28.875886Z"
    }
   },
   "outputs": [],
   "source": [
    "fig = plot.plot_tsne_data(X, meta)\n",
    "fig.show()"
   ]
  },
  {
   "cell_type": "code",
   "execution_count": null,
   "metadata": {},
   "outputs": [],
   "source": [
    "iplot(fig)"
   ]
  },
  {
   "cell_type": "code",
   "execution_count": 14,
   "metadata": {
    "ExecuteTime": {
     "end_time": "2023-05-28T14:26:01.787801Z",
     "start_time": "2023-05-28T14:26:01.774318Z"
    }
   },
   "outputs": [],
   "source": [
    "def get_popular_tags(cluster_num, n=5):\n",
    "    cluster_num = str(cluster_num)\n",
    "    ids = meta[meta['cluster']==cluster_num]['name'].values\n",
    "    popular = df_tags[df_tags['template_id'].isin(ids)]['tag'].value_counts()\n",
    "    head_popular = pd.DataFrame(popular.head(n).index)\n",
    "    head_popular['cluster'] = cluster_num\n",
    "    return head_popular\n",
    "\n",
    "def get_popular_df(n=5):\n",
    "    df = pd.concat([get_popular_tags(str(i), n) for i in list(range(n_clusters))],axis=0)\n",
    "    return df"
   ]
  },
  {
   "cell_type": "code",
   "execution_count": 76,
   "metadata": {},
   "outputs": [],
   "source": [
    "most_defining = get_popular_df(n=1)"
   ]
  },
  {
   "cell_type": "code",
   "execution_count": 77,
   "metadata": {
    "ExecuteTime": {
     "end_time": "2023-05-28T14:26:03.248877Z",
     "start_time": "2023-05-28T14:26:03.226860Z"
    }
   },
   "outputs": [
    {
     "data": {
      "text/html": [
       "<div>\n",
       "<style scoped>\n",
       "    .dataframe tbody tr th:only-of-type {\n",
       "        vertical-align: middle;\n",
       "    }\n",
       "\n",
       "    .dataframe tbody tr th {\n",
       "        vertical-align: top;\n",
       "    }\n",
       "\n",
       "    .dataframe thead th {\n",
       "        text-align: right;\n",
       "    }\n",
       "</style>\n",
       "<table border=\"1\" class=\"dataframe\">\n",
       "  <thead>\n",
       "    <tr style=\"text-align: right;\">\n",
       "      <th></th>\n",
       "      <th>tag</th>\n",
       "      <th>cluster</th>\n",
       "    </tr>\n",
       "  </thead>\n",
       "  <tbody>\n",
       "    <tr>\n",
       "      <th>0</th>\n",
       "      <td>underwater</td>\n",
       "      <td>49</td>\n",
       "    </tr>\n",
       "    <tr>\n",
       "      <th>1</th>\n",
       "      <td>sports</td>\n",
       "      <td>49</td>\n",
       "    </tr>\n",
       "    <tr>\n",
       "      <th>2</th>\n",
       "      <td>diving</td>\n",
       "      <td>49</td>\n",
       "    </tr>\n",
       "    <tr>\n",
       "      <th>3</th>\n",
       "      <td>swimming pool</td>\n",
       "      <td>49</td>\n",
       "    </tr>\n",
       "    <tr>\n",
       "      <th>4</th>\n",
       "      <td>water sport</td>\n",
       "      <td>49</td>\n",
       "    </tr>\n",
       "  </tbody>\n",
       "</table>\n",
       "</div>"
      ],
      "text/plain": [
       "             tag cluster\n",
       "0     underwater      49\n",
       "1         sports      49\n",
       "2         diving      49\n",
       "3  swimming pool      49\n",
       "4    water sport      49"
      ]
     },
     "execution_count": 77,
     "metadata": {},
     "output_type": "execute_result"
    }
   ],
   "source": [
    "get_popular_tags(cluster_num=49)"
   ]
  },
  {
   "cell_type": "code",
   "execution_count": null,
   "metadata": {
    "ExecuteTime": {
     "end_time": "2023-05-28T14:26:04.343745Z",
     "start_time": "2023-05-28T14:26:04.032111Z"
    }
   },
   "outputs": [],
   "source": [
    "def add_tag_weight(df, id_col, value_col):\n",
    "    weight_col = value_col+\"_weight\"\n",
    "    df1 = df[[id_col, value_col]].drop_duplicates()\n",
    "    df1 = df1.groupby(id_col)[value_col].count()\n",
    "    df1 = df1.reset_index()\n",
    "    df1.rename(columns={value_col: weight_col}, inplace=True)\n",
    "    weight = df.merge(df1, left_on=id_col, right_on=id_col)\n",
    "    weight = 1/weight[[weight_col]]\n",
    "    return weight\n",
    "\n",
    "df['parent_tag_weight'] = add_tag_weight(df, id_col=\"parent_template_id\", value_col='parent_tag')\n",
    "df['child_tag_weight'] = add_tag_weight(df, id_col=\"template_id\", value_col='child_tag')"
   ]
  },
  {
   "cell_type": "code",
   "execution_count": null,
   "metadata": {
    "ExecuteTime": {
     "end_time": "2023-05-28T14:26:04.979894Z",
     "start_time": "2023-05-28T14:26:04.959210Z"
    }
   },
   "outputs": [],
   "source": [
    "df['weight'] = df['parent_tag_weight']*df['child_tag_weight']"
   ]
  },
  {
   "cell_type": "code",
   "execution_count": null,
   "metadata": {
    "ExecuteTime": {
     "end_time": "2023-05-28T14:26:06.116293Z",
     "start_time": "2023-05-28T14:26:05.957971Z"
    }
   },
   "outputs": [],
   "source": [
    "df1 = df.merge(meta[['name', 'cluster']], left_on = 'parent_template_id', right_on='name')\n",
    "df1 = df1.merge(meta[['name', 'cluster']], left_on = 'template_id', right_on='name', suffixes=('_parent', '_child'))\n"
   ]
  },
  {
   "cell_type": "code",
   "execution_count": 72,
   "metadata": {
    "ExecuteTime": {
     "end_time": "2023-05-28T14:26:06.978871Z",
     "start_time": "2023-05-28T14:26:06.495533Z"
    }
   },
   "outputs": [],
   "source": [
    "popular_df = get_popular_df()\n",
    "popular_df = popular_df.groupby('cluster')['tag'].apply(list)\n",
    "df1 = df1.merge(popular_df, left_on = 'cluster_child', right_on='cluster')\n",
    "df1 = df1.merge(popular_df, left_on = 'cluster_parent', right_on='cluster')"
   ]
  },
  {
   "cell_type": "code",
   "execution_count": 73,
   "metadata": {
    "ExecuteTime": {
     "end_time": "2023-05-28T14:46:12.753274Z",
     "start_time": "2023-05-28T14:46:12.695073Z"
    }
   },
   "outputs": [],
   "source": [
    "df1 = df1[['name_parent', 'cluster_parent', 'name_child', 'cluster_child', 'tag_x', 'tag_y']].drop_duplicates(['name_parent', 'cluster_parent', 'name_child', 'cluster_child'])"
   ]
  },
  {
   "cell_type": "code",
   "execution_count": 79,
   "metadata": {
    "ExecuteTime": {
     "end_time": "2023-05-28T14:46:15.006304Z",
     "start_time": "2023-05-28T14:46:14.996791Z"
    }
   },
   "outputs": [],
   "source": [
    "def tags_count(df, id_col, tag_col):\n",
    "    df2 = df[[id_col, tag_col]].drop_duplicates()\n",
    "    tags_counts = df2.groupby(tag_col).count().reset_index()\n",
    "    tags_counts = tags_counts.sort_values(id_col, ascending=False)\n",
    "    fig = px.bar(tags_counts, x=tag_col, y=id_col, title='Popular Clusters')\n",
    "    fig.update_xaxes(labelalias=dict(dict(zip(most_defining.cluster,most_defining.tag))))\n",
    "    return fig"
   ]
  },
  {
   "cell_type": "code",
   "execution_count": 80,
   "metadata": {
    "ExecuteTime": {
     "end_time": "2023-05-28T14:46:15.443262Z",
     "start_time": "2023-05-28T14:46:15.401405Z"
    }
   },
   "outputs": [
    {
     "data": {
      "text/html": [
       "<div>                            <div id=\"8b57f8a9-fd6d-4abc-9ff3-0a53b935f743\" class=\"plotly-graph-div\" style=\"height:525px; width:100%;\"></div>            <script type=\"text/javascript\">                require([\"plotly\"], function(Plotly) {                    window.PLOTLYENV=window.PLOTLYENV || {};                                    if (document.getElementById(\"8b57f8a9-fd6d-4abc-9ff3-0a53b935f743\")) {                    Plotly.newPlot(                        \"8b57f8a9-fd6d-4abc-9ff3-0a53b935f743\",                        [{\"alignmentgroup\":\"True\",\"hovertemplate\":\"cluster_parent=%{x}<br>name_parent=%{y}<extra></extra>\",\"legendgroup\":\"\",\"marker\":{\"color\":\"#636efa\",\"pattern\":{\"shape\":\"\"}},\"name\":\"\",\"offsetgroup\":\"\",\"orientation\":\"v\",\"showlegend\":false,\"textposition\":\"auto\",\"x\":[\"16\",\"4\",\"22\",\"34\",\"11\",\"0\",\"27\",\"2\",\"1\",\"32\",\"28\",\"3\",\"8\",\"23\",\"30\",\"19\",\"7\",\"21\",\"43\",\"24\",\"5\",\"17\",\"37\",\"33\",\"29\",\"15\",\"18\",\"6\",\"9\",\"40\",\"47\",\"39\",\"42\",\"45\",\"36\",\"26\",\"13\",\"10\",\"46\",\"20\",\"35\",\"44\",\"48\",\"12\",\"38\",\"31\",\"25\",\"49\",\"41\",\"14\"],\"xaxis\":\"x\",\"y\":[705,701,633,631,600,536,514,497,486,381,379,363,349,339,333,329,324,305,304,282,282,276,272,267,249,246,236,228,224,220,211,193,189,182,163,142,142,132,108,107,105,101,78,73,73,69,49,46,44,42],\"yaxis\":\"y\",\"type\":\"bar\"}],                        {\"template\":{\"data\":{\"histogram2dcontour\":[{\"type\":\"histogram2dcontour\",\"colorbar\":{\"outlinewidth\":0,\"ticks\":\"\"},\"colorscale\":[[0.0,\"#0d0887\"],[0.1111111111111111,\"#46039f\"],[0.2222222222222222,\"#7201a8\"],[0.3333333333333333,\"#9c179e\"],[0.4444444444444444,\"#bd3786\"],[0.5555555555555556,\"#d8576b\"],[0.6666666666666666,\"#ed7953\"],[0.7777777777777778,\"#fb9f3a\"],[0.8888888888888888,\"#fdca26\"],[1.0,\"#f0f921\"]]}],\"choropleth\":[{\"type\":\"choropleth\",\"colorbar\":{\"outlinewidth\":0,\"ticks\":\"\"}}],\"histogram2d\":[{\"type\":\"histogram2d\",\"colorbar\":{\"outlinewidth\":0,\"ticks\":\"\"},\"colorscale\":[[0.0,\"#0d0887\"],[0.1111111111111111,\"#46039f\"],[0.2222222222222222,\"#7201a8\"],[0.3333333333333333,\"#9c179e\"],[0.4444444444444444,\"#bd3786\"],[0.5555555555555556,\"#d8576b\"],[0.6666666666666666,\"#ed7953\"],[0.7777777777777778,\"#fb9f3a\"],[0.8888888888888888,\"#fdca26\"],[1.0,\"#f0f921\"]]}],\"heatmap\":[{\"type\":\"heatmap\",\"colorbar\":{\"outlinewidth\":0,\"ticks\":\"\"},\"colorscale\":[[0.0,\"#0d0887\"],[0.1111111111111111,\"#46039f\"],[0.2222222222222222,\"#7201a8\"],[0.3333333333333333,\"#9c179e\"],[0.4444444444444444,\"#bd3786\"],[0.5555555555555556,\"#d8576b\"],[0.6666666666666666,\"#ed7953\"],[0.7777777777777778,\"#fb9f3a\"],[0.8888888888888888,\"#fdca26\"],[1.0,\"#f0f921\"]]}],\"heatmapgl\":[{\"type\":\"heatmapgl\",\"colorbar\":{\"outlinewidth\":0,\"ticks\":\"\"},\"colorscale\":[[0.0,\"#0d0887\"],[0.1111111111111111,\"#46039f\"],[0.2222222222222222,\"#7201a8\"],[0.3333333333333333,\"#9c179e\"],[0.4444444444444444,\"#bd3786\"],[0.5555555555555556,\"#d8576b\"],[0.6666666666666666,\"#ed7953\"],[0.7777777777777778,\"#fb9f3a\"],[0.8888888888888888,\"#fdca26\"],[1.0,\"#f0f921\"]]}],\"contourcarpet\":[{\"type\":\"contourcarpet\",\"colorbar\":{\"outlinewidth\":0,\"ticks\":\"\"}}],\"contour\":[{\"type\":\"contour\",\"colorbar\":{\"outlinewidth\":0,\"ticks\":\"\"},\"colorscale\":[[0.0,\"#0d0887\"],[0.1111111111111111,\"#46039f\"],[0.2222222222222222,\"#7201a8\"],[0.3333333333333333,\"#9c179e\"],[0.4444444444444444,\"#bd3786\"],[0.5555555555555556,\"#d8576b\"],[0.6666666666666666,\"#ed7953\"],[0.7777777777777778,\"#fb9f3a\"],[0.8888888888888888,\"#fdca26\"],[1.0,\"#f0f921\"]]}],\"surface\":[{\"type\":\"surface\",\"colorbar\":{\"outlinewidth\":0,\"ticks\":\"\"},\"colorscale\":[[0.0,\"#0d0887\"],[0.1111111111111111,\"#46039f\"],[0.2222222222222222,\"#7201a8\"],[0.3333333333333333,\"#9c179e\"],[0.4444444444444444,\"#bd3786\"],[0.5555555555555556,\"#d8576b\"],[0.6666666666666666,\"#ed7953\"],[0.7777777777777778,\"#fb9f3a\"],[0.8888888888888888,\"#fdca26\"],[1.0,\"#f0f921\"]]}],\"mesh3d\":[{\"type\":\"mesh3d\",\"colorbar\":{\"outlinewidth\":0,\"ticks\":\"\"}}],\"scatter\":[{\"fillpattern\":{\"fillmode\":\"overlay\",\"size\":10,\"solidity\":0.2},\"type\":\"scatter\"}],\"parcoords\":[{\"type\":\"parcoords\",\"line\":{\"colorbar\":{\"outlinewidth\":0,\"ticks\":\"\"}}}],\"scatterpolargl\":[{\"type\":\"scatterpolargl\",\"marker\":{\"colorbar\":{\"outlinewidth\":0,\"ticks\":\"\"}}}],\"bar\":[{\"error_x\":{\"color\":\"#2a3f5f\"},\"error_y\":{\"color\":\"#2a3f5f\"},\"marker\":{\"line\":{\"color\":\"#E5ECF6\",\"width\":0.5},\"pattern\":{\"fillmode\":\"overlay\",\"size\":10,\"solidity\":0.2}},\"type\":\"bar\"}],\"scattergeo\":[{\"type\":\"scattergeo\",\"marker\":{\"colorbar\":{\"outlinewidth\":0,\"ticks\":\"\"}}}],\"scatterpolar\":[{\"type\":\"scatterpolar\",\"marker\":{\"colorbar\":{\"outlinewidth\":0,\"ticks\":\"\"}}}],\"histogram\":[{\"marker\":{\"pattern\":{\"fillmode\":\"overlay\",\"size\":10,\"solidity\":0.2}},\"type\":\"histogram\"}],\"scattergl\":[{\"type\":\"scattergl\",\"marker\":{\"colorbar\":{\"outlinewidth\":0,\"ticks\":\"\"}}}],\"scatter3d\":[{\"type\":\"scatter3d\",\"line\":{\"colorbar\":{\"outlinewidth\":0,\"ticks\":\"\"}},\"marker\":{\"colorbar\":{\"outlinewidth\":0,\"ticks\":\"\"}}}],\"scattermapbox\":[{\"type\":\"scattermapbox\",\"marker\":{\"colorbar\":{\"outlinewidth\":0,\"ticks\":\"\"}}}],\"scatterternary\":[{\"type\":\"scatterternary\",\"marker\":{\"colorbar\":{\"outlinewidth\":0,\"ticks\":\"\"}}}],\"scattercarpet\":[{\"type\":\"scattercarpet\",\"marker\":{\"colorbar\":{\"outlinewidth\":0,\"ticks\":\"\"}}}],\"carpet\":[{\"aaxis\":{\"endlinecolor\":\"#2a3f5f\",\"gridcolor\":\"white\",\"linecolor\":\"white\",\"minorgridcolor\":\"white\",\"startlinecolor\":\"#2a3f5f\"},\"baxis\":{\"endlinecolor\":\"#2a3f5f\",\"gridcolor\":\"white\",\"linecolor\":\"white\",\"minorgridcolor\":\"white\",\"startlinecolor\":\"#2a3f5f\"},\"type\":\"carpet\"}],\"table\":[{\"cells\":{\"fill\":{\"color\":\"#EBF0F8\"},\"line\":{\"color\":\"white\"}},\"header\":{\"fill\":{\"color\":\"#C8D4E3\"},\"line\":{\"color\":\"white\"}},\"type\":\"table\"}],\"barpolar\":[{\"marker\":{\"line\":{\"color\":\"#E5ECF6\",\"width\":0.5},\"pattern\":{\"fillmode\":\"overlay\",\"size\":10,\"solidity\":0.2}},\"type\":\"barpolar\"}],\"pie\":[{\"automargin\":true,\"type\":\"pie\"}]},\"layout\":{\"autotypenumbers\":\"strict\",\"colorway\":[\"#636efa\",\"#EF553B\",\"#00cc96\",\"#ab63fa\",\"#FFA15A\",\"#19d3f3\",\"#FF6692\",\"#B6E880\",\"#FF97FF\",\"#FECB52\"],\"font\":{\"color\":\"#2a3f5f\"},\"hovermode\":\"closest\",\"hoverlabel\":{\"align\":\"left\"},\"paper_bgcolor\":\"white\",\"plot_bgcolor\":\"#E5ECF6\",\"polar\":{\"bgcolor\":\"#E5ECF6\",\"angularaxis\":{\"gridcolor\":\"white\",\"linecolor\":\"white\",\"ticks\":\"\"},\"radialaxis\":{\"gridcolor\":\"white\",\"linecolor\":\"white\",\"ticks\":\"\"}},\"ternary\":{\"bgcolor\":\"#E5ECF6\",\"aaxis\":{\"gridcolor\":\"white\",\"linecolor\":\"white\",\"ticks\":\"\"},\"baxis\":{\"gridcolor\":\"white\",\"linecolor\":\"white\",\"ticks\":\"\"},\"caxis\":{\"gridcolor\":\"white\",\"linecolor\":\"white\",\"ticks\":\"\"}},\"coloraxis\":{\"colorbar\":{\"outlinewidth\":0,\"ticks\":\"\"}},\"colorscale\":{\"sequential\":[[0.0,\"#0d0887\"],[0.1111111111111111,\"#46039f\"],[0.2222222222222222,\"#7201a8\"],[0.3333333333333333,\"#9c179e\"],[0.4444444444444444,\"#bd3786\"],[0.5555555555555556,\"#d8576b\"],[0.6666666666666666,\"#ed7953\"],[0.7777777777777778,\"#fb9f3a\"],[0.8888888888888888,\"#fdca26\"],[1.0,\"#f0f921\"]],\"sequentialminus\":[[0.0,\"#0d0887\"],[0.1111111111111111,\"#46039f\"],[0.2222222222222222,\"#7201a8\"],[0.3333333333333333,\"#9c179e\"],[0.4444444444444444,\"#bd3786\"],[0.5555555555555556,\"#d8576b\"],[0.6666666666666666,\"#ed7953\"],[0.7777777777777778,\"#fb9f3a\"],[0.8888888888888888,\"#fdca26\"],[1.0,\"#f0f921\"]],\"diverging\":[[0,\"#8e0152\"],[0.1,\"#c51b7d\"],[0.2,\"#de77ae\"],[0.3,\"#f1b6da\"],[0.4,\"#fde0ef\"],[0.5,\"#f7f7f7\"],[0.6,\"#e6f5d0\"],[0.7,\"#b8e186\"],[0.8,\"#7fbc41\"],[0.9,\"#4d9221\"],[1,\"#276419\"]]},\"xaxis\":{\"gridcolor\":\"white\",\"linecolor\":\"white\",\"ticks\":\"\",\"title\":{\"standoff\":15},\"zerolinecolor\":\"white\",\"automargin\":true,\"zerolinewidth\":2},\"yaxis\":{\"gridcolor\":\"white\",\"linecolor\":\"white\",\"ticks\":\"\",\"title\":{\"standoff\":15},\"zerolinecolor\":\"white\",\"automargin\":true,\"zerolinewidth\":2},\"scene\":{\"xaxis\":{\"backgroundcolor\":\"#E5ECF6\",\"gridcolor\":\"white\",\"linecolor\":\"white\",\"showbackground\":true,\"ticks\":\"\",\"zerolinecolor\":\"white\",\"gridwidth\":2},\"yaxis\":{\"backgroundcolor\":\"#E5ECF6\",\"gridcolor\":\"white\",\"linecolor\":\"white\",\"showbackground\":true,\"ticks\":\"\",\"zerolinecolor\":\"white\",\"gridwidth\":2},\"zaxis\":{\"backgroundcolor\":\"#E5ECF6\",\"gridcolor\":\"white\",\"linecolor\":\"white\",\"showbackground\":true,\"ticks\":\"\",\"zerolinecolor\":\"white\",\"gridwidth\":2}},\"shapedefaults\":{\"line\":{\"color\":\"#2a3f5f\"}},\"annotationdefaults\":{\"arrowcolor\":\"#2a3f5f\",\"arrowhead\":0,\"arrowwidth\":1},\"geo\":{\"bgcolor\":\"white\",\"landcolor\":\"#E5ECF6\",\"subunitcolor\":\"white\",\"showland\":true,\"showlakes\":true,\"lakecolor\":\"white\"},\"title\":{\"x\":0.05},\"mapbox\":{\"style\":\"light\"}}},\"xaxis\":{\"anchor\":\"y\",\"domain\":[0.0,1.0],\"title\":{\"text\":\"cluster_parent\"},\"labelalias\":{\"0\":\"clothing\",\"1\":\"music\",\"2\":\"vehicle\",\"3\":\"geographical feature\",\"4\":\"food\",\"5\":\"sports\",\"6\":\"food\",\"7\":\"animal\",\"8\":\"eyebrow\",\"9\":\"room\",\"10\":\"person\",\"11\":\"art\",\"12\":\"glasses\",\"13\":\"footwear\",\"14\":\"monument\",\"15\":\"hair\",\"16\":\"sports\",\"17\":\"food\",\"18\":\"city\",\"19\":\"person\",\"20\":\"room\",\"21\":\"plant\",\"22\":\"clothing\",\"23\":\"event\",\"24\":\"motor vehicle\",\"25\":\"tattoo\",\"26\":\"sky\",\"27\":\"person\",\"28\":\"plant\",\"29\":\"computer\",\"30\":\"sea\",\"31\":\"sports\",\"32\":\"hand\",\"33\":\"vehicle\",\"34\":\"song\",\"35\":\"musical instrument\",\"36\":\"vehicle\",\"37\":\"building\",\"38\":\"toy\",\"39\":\"hair\",\"40\":\"sports\",\"41\":\"light\",\"42\":\"furniture\",\"43\":\"infant\",\"44\":\"style\",\"45\":\"road\",\"46\":\"style\",\"47\":\"artwork\",\"48\":\"nature\",\"49\":\"underwater\"}},\"yaxis\":{\"anchor\":\"x\",\"domain\":[0.0,1.0],\"title\":{\"text\":\"name_parent\"}},\"legend\":{\"tracegroupgap\":0},\"title\":{\"text\":\"Popular Clusters\"},\"barmode\":\"relative\"},                        {\"responsive\": true}                    ).then(function(){\n",
       "                            \n",
       "var gd = document.getElementById('8b57f8a9-fd6d-4abc-9ff3-0a53b935f743');\n",
       "var x = new MutationObserver(function (mutations, observer) {{\n",
       "        var display = window.getComputedStyle(gd).display;\n",
       "        if (!display || display === 'none') {{\n",
       "            console.log([gd, 'removed!']);\n",
       "            Plotly.purge(gd);\n",
       "            observer.disconnect();\n",
       "        }}\n",
       "}});\n",
       "\n",
       "// Listen for the removal of the full notebook cells\n",
       "var notebookContainer = gd.closest('#notebook-container');\n",
       "if (notebookContainer) {{\n",
       "    x.observe(notebookContainer, {childList: true});\n",
       "}}\n",
       "\n",
       "// Listen for the clearing of the current output cell\n",
       "var outputEl = gd.closest('.output');\n",
       "if (outputEl) {{\n",
       "    x.observe(outputEl, {childList: true});\n",
       "}}\n",
       "\n",
       "                        })                };                });            </script>        </div>"
      ]
     },
     "metadata": {},
     "output_type": "display_data"
    }
   ],
   "source": [
    "fig = tags_count(df1, \"name_parent\", \"cluster_parent\")\n",
    "fig.show()"
   ]
  },
  {
   "cell_type": "code",
   "execution_count": 81,
   "metadata": {
    "ExecuteTime": {
     "end_time": "2023-05-28T14:46:16.538424Z",
     "start_time": "2023-05-28T14:46:16.487594Z"
    }
   },
   "outputs": [
    {
     "data": {
      "text/html": [
       "<div>                            <div id=\"cd47821b-31a8-4891-b782-9c886aedffe8\" class=\"plotly-graph-div\" style=\"height:525px; width:100%;\"></div>            <script type=\"text/javascript\">                require([\"plotly\"], function(Plotly) {                    window.PLOTLYENV=window.PLOTLYENV || {};                                    if (document.getElementById(\"cd47821b-31a8-4891-b782-9c886aedffe8\")) {                    Plotly.newPlot(                        \"cd47821b-31a8-4891-b782-9c886aedffe8\",                        [{\"alignmentgroup\":\"True\",\"hovertemplate\":\"cluster_child=%{x}<br>name_child=%{y}<extra></extra>\",\"legendgroup\":\"\",\"marker\":{\"color\":\"#636efa\",\"pattern\":{\"shape\":\"\"}},\"name\":\"\",\"offsetgroup\":\"\",\"orientation\":\"v\",\"showlegend\":false,\"textposition\":\"auto\",\"x\":[\"16\",\"34\",\"4\",\"1\",\"2\",\"7\",\"0\",\"24\",\"22\",\"14\",\"27\",\"19\",\"11\",\"23\",\"28\",\"5\",\"40\",\"17\",\"33\",\"36\",\"30\",\"15\",\"21\",\"3\",\"37\",\"32\",\"6\",\"9\",\"10\",\"18\",\"39\",\"8\",\"47\",\"43\",\"29\",\"26\",\"12\",\"42\",\"13\",\"38\",\"35\",\"31\",\"49\",\"20\",\"46\",\"48\",\"45\",\"44\",\"41\",\"25\"],\"xaxis\":\"x\",\"y\":[3481,2855,2713,2702,2463,2257,2181,1991,1932,1913,1843,1712,1710,1644,1605,1467,1466,1453,1347,1343,1307,1298,1250,1244,1186,1177,1133,1081,1063,1024,1018,990,822,808,758,738,729,693,666,649,634,595,531,471,380,358,334,332,250,228],\"yaxis\":\"y\",\"type\":\"bar\"}],                        {\"template\":{\"data\":{\"histogram2dcontour\":[{\"type\":\"histogram2dcontour\",\"colorbar\":{\"outlinewidth\":0,\"ticks\":\"\"},\"colorscale\":[[0.0,\"#0d0887\"],[0.1111111111111111,\"#46039f\"],[0.2222222222222222,\"#7201a8\"],[0.3333333333333333,\"#9c179e\"],[0.4444444444444444,\"#bd3786\"],[0.5555555555555556,\"#d8576b\"],[0.6666666666666666,\"#ed7953\"],[0.7777777777777778,\"#fb9f3a\"],[0.8888888888888888,\"#fdca26\"],[1.0,\"#f0f921\"]]}],\"choropleth\":[{\"type\":\"choropleth\",\"colorbar\":{\"outlinewidth\":0,\"ticks\":\"\"}}],\"histogram2d\":[{\"type\":\"histogram2d\",\"colorbar\":{\"outlinewidth\":0,\"ticks\":\"\"},\"colorscale\":[[0.0,\"#0d0887\"],[0.1111111111111111,\"#46039f\"],[0.2222222222222222,\"#7201a8\"],[0.3333333333333333,\"#9c179e\"],[0.4444444444444444,\"#bd3786\"],[0.5555555555555556,\"#d8576b\"],[0.6666666666666666,\"#ed7953\"],[0.7777777777777778,\"#fb9f3a\"],[0.8888888888888888,\"#fdca26\"],[1.0,\"#f0f921\"]]}],\"heatmap\":[{\"type\":\"heatmap\",\"colorbar\":{\"outlinewidth\":0,\"ticks\":\"\"},\"colorscale\":[[0.0,\"#0d0887\"],[0.1111111111111111,\"#46039f\"],[0.2222222222222222,\"#7201a8\"],[0.3333333333333333,\"#9c179e\"],[0.4444444444444444,\"#bd3786\"],[0.5555555555555556,\"#d8576b\"],[0.6666666666666666,\"#ed7953\"],[0.7777777777777778,\"#fb9f3a\"],[0.8888888888888888,\"#fdca26\"],[1.0,\"#f0f921\"]]}],\"heatmapgl\":[{\"type\":\"heatmapgl\",\"colorbar\":{\"outlinewidth\":0,\"ticks\":\"\"},\"colorscale\":[[0.0,\"#0d0887\"],[0.1111111111111111,\"#46039f\"],[0.2222222222222222,\"#7201a8\"],[0.3333333333333333,\"#9c179e\"],[0.4444444444444444,\"#bd3786\"],[0.5555555555555556,\"#d8576b\"],[0.6666666666666666,\"#ed7953\"],[0.7777777777777778,\"#fb9f3a\"],[0.8888888888888888,\"#fdca26\"],[1.0,\"#f0f921\"]]}],\"contourcarpet\":[{\"type\":\"contourcarpet\",\"colorbar\":{\"outlinewidth\":0,\"ticks\":\"\"}}],\"contour\":[{\"type\":\"contour\",\"colorbar\":{\"outlinewidth\":0,\"ticks\":\"\"},\"colorscale\":[[0.0,\"#0d0887\"],[0.1111111111111111,\"#46039f\"],[0.2222222222222222,\"#7201a8\"],[0.3333333333333333,\"#9c179e\"],[0.4444444444444444,\"#bd3786\"],[0.5555555555555556,\"#d8576b\"],[0.6666666666666666,\"#ed7953\"],[0.7777777777777778,\"#fb9f3a\"],[0.8888888888888888,\"#fdca26\"],[1.0,\"#f0f921\"]]}],\"surface\":[{\"type\":\"surface\",\"colorbar\":{\"outlinewidth\":0,\"ticks\":\"\"},\"colorscale\":[[0.0,\"#0d0887\"],[0.1111111111111111,\"#46039f\"],[0.2222222222222222,\"#7201a8\"],[0.3333333333333333,\"#9c179e\"],[0.4444444444444444,\"#bd3786\"],[0.5555555555555556,\"#d8576b\"],[0.6666666666666666,\"#ed7953\"],[0.7777777777777778,\"#fb9f3a\"],[0.8888888888888888,\"#fdca26\"],[1.0,\"#f0f921\"]]}],\"mesh3d\":[{\"type\":\"mesh3d\",\"colorbar\":{\"outlinewidth\":0,\"ticks\":\"\"}}],\"scatter\":[{\"fillpattern\":{\"fillmode\":\"overlay\",\"size\":10,\"solidity\":0.2},\"type\":\"scatter\"}],\"parcoords\":[{\"type\":\"parcoords\",\"line\":{\"colorbar\":{\"outlinewidth\":0,\"ticks\":\"\"}}}],\"scatterpolargl\":[{\"type\":\"scatterpolargl\",\"marker\":{\"colorbar\":{\"outlinewidth\":0,\"ticks\":\"\"}}}],\"bar\":[{\"error_x\":{\"color\":\"#2a3f5f\"},\"error_y\":{\"color\":\"#2a3f5f\"},\"marker\":{\"line\":{\"color\":\"#E5ECF6\",\"width\":0.5},\"pattern\":{\"fillmode\":\"overlay\",\"size\":10,\"solidity\":0.2}},\"type\":\"bar\"}],\"scattergeo\":[{\"type\":\"scattergeo\",\"marker\":{\"colorbar\":{\"outlinewidth\":0,\"ticks\":\"\"}}}],\"scatterpolar\":[{\"type\":\"scatterpolar\",\"marker\":{\"colorbar\":{\"outlinewidth\":0,\"ticks\":\"\"}}}],\"histogram\":[{\"marker\":{\"pattern\":{\"fillmode\":\"overlay\",\"size\":10,\"solidity\":0.2}},\"type\":\"histogram\"}],\"scattergl\":[{\"type\":\"scattergl\",\"marker\":{\"colorbar\":{\"outlinewidth\":0,\"ticks\":\"\"}}}],\"scatter3d\":[{\"type\":\"scatter3d\",\"line\":{\"colorbar\":{\"outlinewidth\":0,\"ticks\":\"\"}},\"marker\":{\"colorbar\":{\"outlinewidth\":0,\"ticks\":\"\"}}}],\"scattermapbox\":[{\"type\":\"scattermapbox\",\"marker\":{\"colorbar\":{\"outlinewidth\":0,\"ticks\":\"\"}}}],\"scatterternary\":[{\"type\":\"scatterternary\",\"marker\":{\"colorbar\":{\"outlinewidth\":0,\"ticks\":\"\"}}}],\"scattercarpet\":[{\"type\":\"scattercarpet\",\"marker\":{\"colorbar\":{\"outlinewidth\":0,\"ticks\":\"\"}}}],\"carpet\":[{\"aaxis\":{\"endlinecolor\":\"#2a3f5f\",\"gridcolor\":\"white\",\"linecolor\":\"white\",\"minorgridcolor\":\"white\",\"startlinecolor\":\"#2a3f5f\"},\"baxis\":{\"endlinecolor\":\"#2a3f5f\",\"gridcolor\":\"white\",\"linecolor\":\"white\",\"minorgridcolor\":\"white\",\"startlinecolor\":\"#2a3f5f\"},\"type\":\"carpet\"}],\"table\":[{\"cells\":{\"fill\":{\"color\":\"#EBF0F8\"},\"line\":{\"color\":\"white\"}},\"header\":{\"fill\":{\"color\":\"#C8D4E3\"},\"line\":{\"color\":\"white\"}},\"type\":\"table\"}],\"barpolar\":[{\"marker\":{\"line\":{\"color\":\"#E5ECF6\",\"width\":0.5},\"pattern\":{\"fillmode\":\"overlay\",\"size\":10,\"solidity\":0.2}},\"type\":\"barpolar\"}],\"pie\":[{\"automargin\":true,\"type\":\"pie\"}]},\"layout\":{\"autotypenumbers\":\"strict\",\"colorway\":[\"#636efa\",\"#EF553B\",\"#00cc96\",\"#ab63fa\",\"#FFA15A\",\"#19d3f3\",\"#FF6692\",\"#B6E880\",\"#FF97FF\",\"#FECB52\"],\"font\":{\"color\":\"#2a3f5f\"},\"hovermode\":\"closest\",\"hoverlabel\":{\"align\":\"left\"},\"paper_bgcolor\":\"white\",\"plot_bgcolor\":\"#E5ECF6\",\"polar\":{\"bgcolor\":\"#E5ECF6\",\"angularaxis\":{\"gridcolor\":\"white\",\"linecolor\":\"white\",\"ticks\":\"\"},\"radialaxis\":{\"gridcolor\":\"white\",\"linecolor\":\"white\",\"ticks\":\"\"}},\"ternary\":{\"bgcolor\":\"#E5ECF6\",\"aaxis\":{\"gridcolor\":\"white\",\"linecolor\":\"white\",\"ticks\":\"\"},\"baxis\":{\"gridcolor\":\"white\",\"linecolor\":\"white\",\"ticks\":\"\"},\"caxis\":{\"gridcolor\":\"white\",\"linecolor\":\"white\",\"ticks\":\"\"}},\"coloraxis\":{\"colorbar\":{\"outlinewidth\":0,\"ticks\":\"\"}},\"colorscale\":{\"sequential\":[[0.0,\"#0d0887\"],[0.1111111111111111,\"#46039f\"],[0.2222222222222222,\"#7201a8\"],[0.3333333333333333,\"#9c179e\"],[0.4444444444444444,\"#bd3786\"],[0.5555555555555556,\"#d8576b\"],[0.6666666666666666,\"#ed7953\"],[0.7777777777777778,\"#fb9f3a\"],[0.8888888888888888,\"#fdca26\"],[1.0,\"#f0f921\"]],\"sequentialminus\":[[0.0,\"#0d0887\"],[0.1111111111111111,\"#46039f\"],[0.2222222222222222,\"#7201a8\"],[0.3333333333333333,\"#9c179e\"],[0.4444444444444444,\"#bd3786\"],[0.5555555555555556,\"#d8576b\"],[0.6666666666666666,\"#ed7953\"],[0.7777777777777778,\"#fb9f3a\"],[0.8888888888888888,\"#fdca26\"],[1.0,\"#f0f921\"]],\"diverging\":[[0,\"#8e0152\"],[0.1,\"#c51b7d\"],[0.2,\"#de77ae\"],[0.3,\"#f1b6da\"],[0.4,\"#fde0ef\"],[0.5,\"#f7f7f7\"],[0.6,\"#e6f5d0\"],[0.7,\"#b8e186\"],[0.8,\"#7fbc41\"],[0.9,\"#4d9221\"],[1,\"#276419\"]]},\"xaxis\":{\"gridcolor\":\"white\",\"linecolor\":\"white\",\"ticks\":\"\",\"title\":{\"standoff\":15},\"zerolinecolor\":\"white\",\"automargin\":true,\"zerolinewidth\":2},\"yaxis\":{\"gridcolor\":\"white\",\"linecolor\":\"white\",\"ticks\":\"\",\"title\":{\"standoff\":15},\"zerolinecolor\":\"white\",\"automargin\":true,\"zerolinewidth\":2},\"scene\":{\"xaxis\":{\"backgroundcolor\":\"#E5ECF6\",\"gridcolor\":\"white\",\"linecolor\":\"white\",\"showbackground\":true,\"ticks\":\"\",\"zerolinecolor\":\"white\",\"gridwidth\":2},\"yaxis\":{\"backgroundcolor\":\"#E5ECF6\",\"gridcolor\":\"white\",\"linecolor\":\"white\",\"showbackground\":true,\"ticks\":\"\",\"zerolinecolor\":\"white\",\"gridwidth\":2},\"zaxis\":{\"backgroundcolor\":\"#E5ECF6\",\"gridcolor\":\"white\",\"linecolor\":\"white\",\"showbackground\":true,\"ticks\":\"\",\"zerolinecolor\":\"white\",\"gridwidth\":2}},\"shapedefaults\":{\"line\":{\"color\":\"#2a3f5f\"}},\"annotationdefaults\":{\"arrowcolor\":\"#2a3f5f\",\"arrowhead\":0,\"arrowwidth\":1},\"geo\":{\"bgcolor\":\"white\",\"landcolor\":\"#E5ECF6\",\"subunitcolor\":\"white\",\"showland\":true,\"showlakes\":true,\"lakecolor\":\"white\"},\"title\":{\"x\":0.05},\"mapbox\":{\"style\":\"light\"}}},\"xaxis\":{\"anchor\":\"y\",\"domain\":[0.0,1.0],\"title\":{\"text\":\"cluster_child\"},\"labelalias\":{\"0\":\"clothing\",\"1\":\"music\",\"2\":\"vehicle\",\"3\":\"geographical feature\",\"4\":\"food\",\"5\":\"sports\",\"6\":\"food\",\"7\":\"animal\",\"8\":\"eyebrow\",\"9\":\"room\",\"10\":\"person\",\"11\":\"art\",\"12\":\"glasses\",\"13\":\"footwear\",\"14\":\"monument\",\"15\":\"hair\",\"16\":\"sports\",\"17\":\"food\",\"18\":\"city\",\"19\":\"person\",\"20\":\"room\",\"21\":\"plant\",\"22\":\"clothing\",\"23\":\"event\",\"24\":\"motor vehicle\",\"25\":\"tattoo\",\"26\":\"sky\",\"27\":\"person\",\"28\":\"plant\",\"29\":\"computer\",\"30\":\"sea\",\"31\":\"sports\",\"32\":\"hand\",\"33\":\"vehicle\",\"34\":\"song\",\"35\":\"musical instrument\",\"36\":\"vehicle\",\"37\":\"building\",\"38\":\"toy\",\"39\":\"hair\",\"40\":\"sports\",\"41\":\"light\",\"42\":\"furniture\",\"43\":\"infant\",\"44\":\"style\",\"45\":\"road\",\"46\":\"style\",\"47\":\"artwork\",\"48\":\"nature\",\"49\":\"underwater\"}},\"yaxis\":{\"anchor\":\"x\",\"domain\":[0.0,1.0],\"title\":{\"text\":\"name_child\"}},\"legend\":{\"tracegroupgap\":0},\"title\":{\"text\":\"Popular Clusters\"},\"barmode\":\"relative\"},                        {\"responsive\": true}                    ).then(function(){\n",
       "                            \n",
       "var gd = document.getElementById('cd47821b-31a8-4891-b782-9c886aedffe8');\n",
       "var x = new MutationObserver(function (mutations, observer) {{\n",
       "        var display = window.getComputedStyle(gd).display;\n",
       "        if (!display || display === 'none') {{\n",
       "            console.log([gd, 'removed!']);\n",
       "            Plotly.purge(gd);\n",
       "            observer.disconnect();\n",
       "        }}\n",
       "}});\n",
       "\n",
       "// Listen for the removal of the full notebook cells\n",
       "var notebookContainer = gd.closest('#notebook-container');\n",
       "if (notebookContainer) {{\n",
       "    x.observe(notebookContainer, {childList: true});\n",
       "}}\n",
       "\n",
       "// Listen for the clearing of the current output cell\n",
       "var outputEl = gd.closest('.output');\n",
       "if (outputEl) {{\n",
       "    x.observe(outputEl, {childList: true});\n",
       "}}\n",
       "\n",
       "                        })                };                });            </script>        </div>"
      ]
     },
     "metadata": {},
     "output_type": "display_data"
    }
   ],
   "source": [
    "fig = tags_count(df1, \"name_child\", \"cluster_child\")\n",
    "fig.show()"
   ]
  },
  {
   "cell_type": "code",
   "execution_count": 82,
   "metadata": {
    "ExecuteTime": {
     "end_time": "2023-05-28T14:46:17.470711Z",
     "start_time": "2023-05-28T14:46:17.461977Z"
    }
   },
   "outputs": [],
   "source": [
    "def heatmap_tags(df, id_col, tag_col):\n",
    "    df1 = df[[id_col, tag_col]].drop_duplicates()\n",
    "    indicator_matrix = pd.get_dummies(df1[[tag_col]], prefix=\"\", prefix_sep=\"\")\n",
    "    result = df1[[id_col]].join(indicator_matrix)\n",
    "    result = result.groupby(id_col).sum().reset_index()\n",
    "    result = result.fillna(0)\n",
    "\n",
    "    a = result.iloc[:,1:].values\n",
    "    b = result.iloc[:,1:].values.T\n",
    "    c = b.dot(a)\n",
    "    c = pd.DataFrame(c)\n",
    "    fig = px.imshow(c, x = result.iloc[:,1:].columns, y = result.iloc[:,1:].columns)\n",
    "    iplot(fig)"
   ]
  },
  {
   "cell_type": "code",
   "execution_count": 83,
   "metadata": {
    "ExecuteTime": {
     "end_time": "2023-05-28T14:46:19.322885Z",
     "start_time": "2023-05-28T14:46:19.270132Z"
    }
   },
   "outputs": [
    {
     "data": {
      "text/html": [
       "<div>                            <div id=\"ad463488-18b6-4152-8787-352122a9e9ba\" class=\"plotly-graph-div\" style=\"height:525px; width:100%;\"></div>            <script type=\"text/javascript\">                require([\"plotly\"], function(Plotly) {                    window.PLOTLYENV=window.PLOTLYENV || {};                                    if (document.getElementById(\"ad463488-18b6-4152-8787-352122a9e9ba\")) {                    Plotly.newPlot(                        \"ad463488-18b6-4152-8787-352122a9e9ba\",                        [{\"coloraxis\":\"coloraxis\",\"hovertemplate\":\"x: %{x}<br>y: %{y}<br>color: %{z}<extra></extra>\",\"name\":\"0\",\"x\":[\"0\",\"1\",\"10\",\"11\",\"12\",\"13\",\"14\",\"15\",\"16\",\"17\",\"18\",\"19\",\"2\",\"20\",\"21\",\"22\",\"23\",\"24\",\"25\",\"26\",\"27\",\"28\",\"29\",\"3\",\"30\",\"31\",\"32\",\"33\",\"34\",\"35\",\"36\",\"37\",\"38\",\"39\",\"4\",\"40\",\"41\",\"42\",\"43\",\"44\",\"45\",\"46\",\"47\",\"48\",\"49\",\"5\",\"6\",\"7\",\"8\",\"9\"],\"xaxis\":\"x\",\"y\":[\"0\",\"1\",\"10\",\"11\",\"12\",\"13\",\"14\",\"15\",\"16\",\"17\",\"18\",\"19\",\"2\",\"20\",\"21\",\"22\",\"23\",\"24\",\"25\",\"26\",\"27\",\"28\",\"29\",\"3\",\"30\",\"31\",\"32\",\"33\",\"34\",\"35\",\"36\",\"37\",\"38\",\"39\",\"4\",\"40\",\"41\",\"42\",\"43\",\"44\",\"45\",\"46\",\"47\",\"48\",\"49\",\"5\",\"6\",\"7\",\"8\",\"9\"],\"yaxis\":\"y\",\"z\":[[536,0,0,0,0,0,0,0,0,0,0,0,0,0,0,0,0,0,0,0,0,0,0,0,0,0,0,0,0,0,0,0,0,0,0,0,0,0,0,0,0,0,0,0,0,0,0,0,0,0],[0,486,0,0,0,0,0,0,0,0,0,0,0,0,0,0,0,0,0,0,0,0,0,0,0,0,0,0,0,0,0,0,0,0,0,0,0,0,0,0,0,0,0,0,0,0,0,0,0,0],[0,0,132,0,0,0,0,0,0,0,0,0,0,0,0,0,0,0,0,0,0,0,0,0,0,0,0,0,0,0,0,0,0,0,0,0,0,0,0,0,0,0,0,0,0,0,0,0,0,0],[0,0,0,600,0,0,0,0,0,0,0,0,0,0,0,0,0,0,0,0,0,0,0,0,0,0,0,0,0,0,0,0,0,0,0,0,0,0,0,0,0,0,0,0,0,0,0,0,0,0],[0,0,0,0,73,0,0,0,0,0,0,0,0,0,0,0,0,0,0,0,0,0,0,0,0,0,0,0,0,0,0,0,0,0,0,0,0,0,0,0,0,0,0,0,0,0,0,0,0,0],[0,0,0,0,0,142,0,0,0,0,0,0,0,0,0,0,0,0,0,0,0,0,0,0,0,0,0,0,0,0,0,0,0,0,0,0,0,0,0,0,0,0,0,0,0,0,0,0,0,0],[0,0,0,0,0,0,42,0,0,0,0,0,0,0,0,0,0,0,0,0,0,0,0,0,0,0,0,0,0,0,0,0,0,0,0,0,0,0,0,0,0,0,0,0,0,0,0,0,0,0],[0,0,0,0,0,0,0,246,0,0,0,0,0,0,0,0,0,0,0,0,0,0,0,0,0,0,0,0,0,0,0,0,0,0,0,0,0,0,0,0,0,0,0,0,0,0,0,0,0,0],[0,0,0,0,0,0,0,0,705,0,0,0,0,0,0,0,0,0,0,0,0,0,0,0,0,0,0,0,0,0,0,0,0,0,0,0,0,0,0,0,0,0,0,0,0,0,0,0,0,0],[0,0,0,0,0,0,0,0,0,276,0,0,0,0,0,0,0,0,0,0,0,0,0,0,0,0,0,0,0,0,0,0,0,0,0,0,0,0,0,0,0,0,0,0,0,0,0,0,0,0],[0,0,0,0,0,0,0,0,0,0,236,0,0,0,0,0,0,0,0,0,0,0,0,0,0,0,0,0,0,0,0,0,0,0,0,0,0,0,0,0,0,0,0,0,0,0,0,0,0,0],[0,0,0,0,0,0,0,0,0,0,0,329,0,0,0,0,0,0,0,0,0,0,0,0,0,0,0,0,0,0,0,0,0,0,0,0,0,0,0,0,0,0,0,0,0,0,0,0,0,0],[0,0,0,0,0,0,0,0,0,0,0,0,497,0,0,0,0,0,0,0,0,0,0,0,0,0,0,0,0,0,0,0,0,0,0,0,0,0,0,0,0,0,0,0,0,0,0,0,0,0],[0,0,0,0,0,0,0,0,0,0,0,0,0,107,0,0,0,0,0,0,0,0,0,0,0,0,0,0,0,0,0,0,0,0,0,0,0,0,0,0,0,0,0,0,0,0,0,0,0,0],[0,0,0,0,0,0,0,0,0,0,0,0,0,0,305,0,0,0,0,0,0,0,0,0,0,0,0,0,0,0,0,0,0,0,0,0,0,0,0,0,0,0,0,0,0,0,0,0,0,0],[0,0,0,0,0,0,0,0,0,0,0,0,0,0,0,633,0,0,0,0,0,0,0,0,0,0,0,0,0,0,0,0,0,0,0,0,0,0,0,0,0,0,0,0,0,0,0,0,0,0],[0,0,0,0,0,0,0,0,0,0,0,0,0,0,0,0,339,0,0,0,0,0,0,0,0,0,0,0,0,0,0,0,0,0,0,0,0,0,0,0,0,0,0,0,0,0,0,0,0,0],[0,0,0,0,0,0,0,0,0,0,0,0,0,0,0,0,0,282,0,0,0,0,0,0,0,0,0,0,0,0,0,0,0,0,0,0,0,0,0,0,0,0,0,0,0,0,0,0,0,0],[0,0,0,0,0,0,0,0,0,0,0,0,0,0,0,0,0,0,49,0,0,0,0,0,0,0,0,0,0,0,0,0,0,0,0,0,0,0,0,0,0,0,0,0,0,0,0,0,0,0],[0,0,0,0,0,0,0,0,0,0,0,0,0,0,0,0,0,0,0,142,0,0,0,0,0,0,0,0,0,0,0,0,0,0,0,0,0,0,0,0,0,0,0,0,0,0,0,0,0,0],[0,0,0,0,0,0,0,0,0,0,0,0,0,0,0,0,0,0,0,0,514,0,0,0,0,0,0,0,0,0,0,0,0,0,0,0,0,0,0,0,0,0,0,0,0,0,0,0,0,0],[0,0,0,0,0,0,0,0,0,0,0,0,0,0,0,0,0,0,0,0,0,379,0,0,0,0,0,0,0,0,0,0,0,0,0,0,0,0,0,0,0,0,0,0,0,0,0,0,0,0],[0,0,0,0,0,0,0,0,0,0,0,0,0,0,0,0,0,0,0,0,0,0,249,0,0,0,0,0,0,0,0,0,0,0,0,0,0,0,0,0,0,0,0,0,0,0,0,0,0,0],[0,0,0,0,0,0,0,0,0,0,0,0,0,0,0,0,0,0,0,0,0,0,0,363,0,0,0,0,0,0,0,0,0,0,0,0,0,0,0,0,0,0,0,0,0,0,0,0,0,0],[0,0,0,0,0,0,0,0,0,0,0,0,0,0,0,0,0,0,0,0,0,0,0,0,333,0,0,0,0,0,0,0,0,0,0,0,0,0,0,0,0,0,0,0,0,0,0,0,0,0],[0,0,0,0,0,0,0,0,0,0,0,0,0,0,0,0,0,0,0,0,0,0,0,0,0,69,0,0,0,0,0,0,0,0,0,0,0,0,0,0,0,0,0,0,0,0,0,0,0,0],[0,0,0,0,0,0,0,0,0,0,0,0,0,0,0,0,0,0,0,0,0,0,0,0,0,0,381,0,0,0,0,0,0,0,0,0,0,0,0,0,0,0,0,0,0,0,0,0,0,0],[0,0,0,0,0,0,0,0,0,0,0,0,0,0,0,0,0,0,0,0,0,0,0,0,0,0,0,267,0,0,0,0,0,0,0,0,0,0,0,0,0,0,0,0,0,0,0,0,0,0],[0,0,0,0,0,0,0,0,0,0,0,0,0,0,0,0,0,0,0,0,0,0,0,0,0,0,0,0,631,0,0,0,0,0,0,0,0,0,0,0,0,0,0,0,0,0,0,0,0,0],[0,0,0,0,0,0,0,0,0,0,0,0,0,0,0,0,0,0,0,0,0,0,0,0,0,0,0,0,0,105,0,0,0,0,0,0,0,0,0,0,0,0,0,0,0,0,0,0,0,0],[0,0,0,0,0,0,0,0,0,0,0,0,0,0,0,0,0,0,0,0,0,0,0,0,0,0,0,0,0,0,163,0,0,0,0,0,0,0,0,0,0,0,0,0,0,0,0,0,0,0],[0,0,0,0,0,0,0,0,0,0,0,0,0,0,0,0,0,0,0,0,0,0,0,0,0,0,0,0,0,0,0,272,0,0,0,0,0,0,0,0,0,0,0,0,0,0,0,0,0,0],[0,0,0,0,0,0,0,0,0,0,0,0,0,0,0,0,0,0,0,0,0,0,0,0,0,0,0,0,0,0,0,0,73,0,0,0,0,0,0,0,0,0,0,0,0,0,0,0,0,0],[0,0,0,0,0,0,0,0,0,0,0,0,0,0,0,0,0,0,0,0,0,0,0,0,0,0,0,0,0,0,0,0,0,193,0,0,0,0,0,0,0,0,0,0,0,0,0,0,0,0],[0,0,0,0,0,0,0,0,0,0,0,0,0,0,0,0,0,0,0,0,0,0,0,0,0,0,0,0,0,0,0,0,0,0,701,0,0,0,0,0,0,0,0,0,0,0,0,0,0,0],[0,0,0,0,0,0,0,0,0,0,0,0,0,0,0,0,0,0,0,0,0,0,0,0,0,0,0,0,0,0,0,0,0,0,0,220,0,0,0,0,0,0,0,0,0,0,0,0,0,0],[0,0,0,0,0,0,0,0,0,0,0,0,0,0,0,0,0,0,0,0,0,0,0,0,0,0,0,0,0,0,0,0,0,0,0,0,44,0,0,0,0,0,0,0,0,0,0,0,0,0],[0,0,0,0,0,0,0,0,0,0,0,0,0,0,0,0,0,0,0,0,0,0,0,0,0,0,0,0,0,0,0,0,0,0,0,0,0,189,0,0,0,0,0,0,0,0,0,0,0,0],[0,0,0,0,0,0,0,0,0,0,0,0,0,0,0,0,0,0,0,0,0,0,0,0,0,0,0,0,0,0,0,0,0,0,0,0,0,0,304,0,0,0,0,0,0,0,0,0,0,0],[0,0,0,0,0,0,0,0,0,0,0,0,0,0,0,0,0,0,0,0,0,0,0,0,0,0,0,0,0,0,0,0,0,0,0,0,0,0,0,101,0,0,0,0,0,0,0,0,0,0],[0,0,0,0,0,0,0,0,0,0,0,0,0,0,0,0,0,0,0,0,0,0,0,0,0,0,0,0,0,0,0,0,0,0,0,0,0,0,0,0,182,0,0,0,0,0,0,0,0,0],[0,0,0,0,0,0,0,0,0,0,0,0,0,0,0,0,0,0,0,0,0,0,0,0,0,0,0,0,0,0,0,0,0,0,0,0,0,0,0,0,0,108,0,0,0,0,0,0,0,0],[0,0,0,0,0,0,0,0,0,0,0,0,0,0,0,0,0,0,0,0,0,0,0,0,0,0,0,0,0,0,0,0,0,0,0,0,0,0,0,0,0,0,211,0,0,0,0,0,0,0],[0,0,0,0,0,0,0,0,0,0,0,0,0,0,0,0,0,0,0,0,0,0,0,0,0,0,0,0,0,0,0,0,0,0,0,0,0,0,0,0,0,0,0,78,0,0,0,0,0,0],[0,0,0,0,0,0,0,0,0,0,0,0,0,0,0,0,0,0,0,0,0,0,0,0,0,0,0,0,0,0,0,0,0,0,0,0,0,0,0,0,0,0,0,0,46,0,0,0,0,0],[0,0,0,0,0,0,0,0,0,0,0,0,0,0,0,0,0,0,0,0,0,0,0,0,0,0,0,0,0,0,0,0,0,0,0,0,0,0,0,0,0,0,0,0,0,282,0,0,0,0],[0,0,0,0,0,0,0,0,0,0,0,0,0,0,0,0,0,0,0,0,0,0,0,0,0,0,0,0,0,0,0,0,0,0,0,0,0,0,0,0,0,0,0,0,0,0,228,0,0,0],[0,0,0,0,0,0,0,0,0,0,0,0,0,0,0,0,0,0,0,0,0,0,0,0,0,0,0,0,0,0,0,0,0,0,0,0,0,0,0,0,0,0,0,0,0,0,0,324,0,0],[0,0,0,0,0,0,0,0,0,0,0,0,0,0,0,0,0,0,0,0,0,0,0,0,0,0,0,0,0,0,0,0,0,0,0,0,0,0,0,0,0,0,0,0,0,0,0,0,349,0],[0,0,0,0,0,0,0,0,0,0,0,0,0,0,0,0,0,0,0,0,0,0,0,0,0,0,0,0,0,0,0,0,0,0,0,0,0,0,0,0,0,0,0,0,0,0,0,0,0,224]],\"type\":\"heatmap\"}],                        {\"coloraxis\":{\"colorscale\":[[0.0,\"#0d0887\"],[0.1111111111111111,\"#46039f\"],[0.2222222222222222,\"#7201a8\"],[0.3333333333333333,\"#9c179e\"],[0.4444444444444444,\"#bd3786\"],[0.5555555555555556,\"#d8576b\"],[0.6666666666666666,\"#ed7953\"],[0.7777777777777778,\"#fb9f3a\"],[0.8888888888888888,\"#fdca26\"],[1.0,\"#f0f921\"]]},\"margin\":{\"t\":60},\"template\":{\"data\":{\"barpolar\":[{\"marker\":{\"line\":{\"color\":\"#E5ECF6\",\"width\":0.5},\"pattern\":{\"fillmode\":\"overlay\",\"size\":10,\"solidity\":0.2}},\"type\":\"barpolar\"}],\"bar\":[{\"error_x\":{\"color\":\"#2a3f5f\"},\"error_y\":{\"color\":\"#2a3f5f\"},\"marker\":{\"line\":{\"color\":\"#E5ECF6\",\"width\":0.5},\"pattern\":{\"fillmode\":\"overlay\",\"size\":10,\"solidity\":0.2}},\"type\":\"bar\"}],\"carpet\":[{\"aaxis\":{\"endlinecolor\":\"#2a3f5f\",\"gridcolor\":\"white\",\"linecolor\":\"white\",\"minorgridcolor\":\"white\",\"startlinecolor\":\"#2a3f5f\"},\"baxis\":{\"endlinecolor\":\"#2a3f5f\",\"gridcolor\":\"white\",\"linecolor\":\"white\",\"minorgridcolor\":\"white\",\"startlinecolor\":\"#2a3f5f\"},\"type\":\"carpet\"}],\"choropleth\":[{\"colorbar\":{\"outlinewidth\":0,\"ticks\":\"\"},\"type\":\"choropleth\"}],\"contourcarpet\":[{\"colorbar\":{\"outlinewidth\":0,\"ticks\":\"\"},\"type\":\"contourcarpet\"}],\"contour\":[{\"colorbar\":{\"outlinewidth\":0,\"ticks\":\"\"},\"colorscale\":[[0.0,\"#0d0887\"],[0.1111111111111111,\"#46039f\"],[0.2222222222222222,\"#7201a8\"],[0.3333333333333333,\"#9c179e\"],[0.4444444444444444,\"#bd3786\"],[0.5555555555555556,\"#d8576b\"],[0.6666666666666666,\"#ed7953\"],[0.7777777777777778,\"#fb9f3a\"],[0.8888888888888888,\"#fdca26\"],[1.0,\"#f0f921\"]],\"type\":\"contour\"}],\"heatmapgl\":[{\"colorbar\":{\"outlinewidth\":0,\"ticks\":\"\"},\"colorscale\":[[0.0,\"#0d0887\"],[0.1111111111111111,\"#46039f\"],[0.2222222222222222,\"#7201a8\"],[0.3333333333333333,\"#9c179e\"],[0.4444444444444444,\"#bd3786\"],[0.5555555555555556,\"#d8576b\"],[0.6666666666666666,\"#ed7953\"],[0.7777777777777778,\"#fb9f3a\"],[0.8888888888888888,\"#fdca26\"],[1.0,\"#f0f921\"]],\"type\":\"heatmapgl\"}],\"heatmap\":[{\"colorbar\":{\"outlinewidth\":0,\"ticks\":\"\"},\"colorscale\":[[0.0,\"#0d0887\"],[0.1111111111111111,\"#46039f\"],[0.2222222222222222,\"#7201a8\"],[0.3333333333333333,\"#9c179e\"],[0.4444444444444444,\"#bd3786\"],[0.5555555555555556,\"#d8576b\"],[0.6666666666666666,\"#ed7953\"],[0.7777777777777778,\"#fb9f3a\"],[0.8888888888888888,\"#fdca26\"],[1.0,\"#f0f921\"]],\"type\":\"heatmap\"}],\"histogram2dcontour\":[{\"colorbar\":{\"outlinewidth\":0,\"ticks\":\"\"},\"colorscale\":[[0.0,\"#0d0887\"],[0.1111111111111111,\"#46039f\"],[0.2222222222222222,\"#7201a8\"],[0.3333333333333333,\"#9c179e\"],[0.4444444444444444,\"#bd3786\"],[0.5555555555555556,\"#d8576b\"],[0.6666666666666666,\"#ed7953\"],[0.7777777777777778,\"#fb9f3a\"],[0.8888888888888888,\"#fdca26\"],[1.0,\"#f0f921\"]],\"type\":\"histogram2dcontour\"}],\"histogram2d\":[{\"colorbar\":{\"outlinewidth\":0,\"ticks\":\"\"},\"colorscale\":[[0.0,\"#0d0887\"],[0.1111111111111111,\"#46039f\"],[0.2222222222222222,\"#7201a8\"],[0.3333333333333333,\"#9c179e\"],[0.4444444444444444,\"#bd3786\"],[0.5555555555555556,\"#d8576b\"],[0.6666666666666666,\"#ed7953\"],[0.7777777777777778,\"#fb9f3a\"],[0.8888888888888888,\"#fdca26\"],[1.0,\"#f0f921\"]],\"type\":\"histogram2d\"}],\"histogram\":[{\"marker\":{\"pattern\":{\"fillmode\":\"overlay\",\"size\":10,\"solidity\":0.2}},\"type\":\"histogram\"}],\"mesh3d\":[{\"colorbar\":{\"outlinewidth\":0,\"ticks\":\"\"},\"type\":\"mesh3d\"}],\"parcoords\":[{\"line\":{\"colorbar\":{\"outlinewidth\":0,\"ticks\":\"\"}},\"type\":\"parcoords\"}],\"pie\":[{\"automargin\":true,\"type\":\"pie\"}],\"scatter3d\":[{\"line\":{\"colorbar\":{\"outlinewidth\":0,\"ticks\":\"\"}},\"marker\":{\"colorbar\":{\"outlinewidth\":0,\"ticks\":\"\"}},\"type\":\"scatter3d\"}],\"scattercarpet\":[{\"marker\":{\"colorbar\":{\"outlinewidth\":0,\"ticks\":\"\"}},\"type\":\"scattercarpet\"}],\"scattergeo\":[{\"marker\":{\"colorbar\":{\"outlinewidth\":0,\"ticks\":\"\"}},\"type\":\"scattergeo\"}],\"scattergl\":[{\"marker\":{\"colorbar\":{\"outlinewidth\":0,\"ticks\":\"\"}},\"type\":\"scattergl\"}],\"scattermapbox\":[{\"marker\":{\"colorbar\":{\"outlinewidth\":0,\"ticks\":\"\"}},\"type\":\"scattermapbox\"}],\"scatterpolargl\":[{\"marker\":{\"colorbar\":{\"outlinewidth\":0,\"ticks\":\"\"}},\"type\":\"scatterpolargl\"}],\"scatterpolar\":[{\"marker\":{\"colorbar\":{\"outlinewidth\":0,\"ticks\":\"\"}},\"type\":\"scatterpolar\"}],\"scatter\":[{\"fillpattern\":{\"fillmode\":\"overlay\",\"size\":10,\"solidity\":0.2},\"type\":\"scatter\"}],\"scatterternary\":[{\"marker\":{\"colorbar\":{\"outlinewidth\":0,\"ticks\":\"\"}},\"type\":\"scatterternary\"}],\"surface\":[{\"colorbar\":{\"outlinewidth\":0,\"ticks\":\"\"},\"colorscale\":[[0.0,\"#0d0887\"],[0.1111111111111111,\"#46039f\"],[0.2222222222222222,\"#7201a8\"],[0.3333333333333333,\"#9c179e\"],[0.4444444444444444,\"#bd3786\"],[0.5555555555555556,\"#d8576b\"],[0.6666666666666666,\"#ed7953\"],[0.7777777777777778,\"#fb9f3a\"],[0.8888888888888888,\"#fdca26\"],[1.0,\"#f0f921\"]],\"type\":\"surface\"}],\"table\":[{\"cells\":{\"fill\":{\"color\":\"#EBF0F8\"},\"line\":{\"color\":\"white\"}},\"header\":{\"fill\":{\"color\":\"#C8D4E3\"},\"line\":{\"color\":\"white\"}},\"type\":\"table\"}]},\"layout\":{\"annotationdefaults\":{\"arrowcolor\":\"#2a3f5f\",\"arrowhead\":0,\"arrowwidth\":1},\"autotypenumbers\":\"strict\",\"coloraxis\":{\"colorbar\":{\"outlinewidth\":0,\"ticks\":\"\"}},\"colorscale\":{\"diverging\":[[0,\"#8e0152\"],[0.1,\"#c51b7d\"],[0.2,\"#de77ae\"],[0.3,\"#f1b6da\"],[0.4,\"#fde0ef\"],[0.5,\"#f7f7f7\"],[0.6,\"#e6f5d0\"],[0.7,\"#b8e186\"],[0.8,\"#7fbc41\"],[0.9,\"#4d9221\"],[1,\"#276419\"]],\"sequential\":[[0.0,\"#0d0887\"],[0.1111111111111111,\"#46039f\"],[0.2222222222222222,\"#7201a8\"],[0.3333333333333333,\"#9c179e\"],[0.4444444444444444,\"#bd3786\"],[0.5555555555555556,\"#d8576b\"],[0.6666666666666666,\"#ed7953\"],[0.7777777777777778,\"#fb9f3a\"],[0.8888888888888888,\"#fdca26\"],[1.0,\"#f0f921\"]],\"sequentialminus\":[[0.0,\"#0d0887\"],[0.1111111111111111,\"#46039f\"],[0.2222222222222222,\"#7201a8\"],[0.3333333333333333,\"#9c179e\"],[0.4444444444444444,\"#bd3786\"],[0.5555555555555556,\"#d8576b\"],[0.6666666666666666,\"#ed7953\"],[0.7777777777777778,\"#fb9f3a\"],[0.8888888888888888,\"#fdca26\"],[1.0,\"#f0f921\"]]},\"colorway\":[\"#636efa\",\"#EF553B\",\"#00cc96\",\"#ab63fa\",\"#FFA15A\",\"#19d3f3\",\"#FF6692\",\"#B6E880\",\"#FF97FF\",\"#FECB52\"],\"font\":{\"color\":\"#2a3f5f\"},\"geo\":{\"bgcolor\":\"white\",\"lakecolor\":\"white\",\"landcolor\":\"#E5ECF6\",\"showlakes\":true,\"showland\":true,\"subunitcolor\":\"white\"},\"hoverlabel\":{\"align\":\"left\"},\"hovermode\":\"closest\",\"mapbox\":{\"style\":\"light\"},\"paper_bgcolor\":\"white\",\"plot_bgcolor\":\"#E5ECF6\",\"polar\":{\"angularaxis\":{\"gridcolor\":\"white\",\"linecolor\":\"white\",\"ticks\":\"\"},\"bgcolor\":\"#E5ECF6\",\"radialaxis\":{\"gridcolor\":\"white\",\"linecolor\":\"white\",\"ticks\":\"\"}},\"scene\":{\"xaxis\":{\"backgroundcolor\":\"#E5ECF6\",\"gridcolor\":\"white\",\"gridwidth\":2,\"linecolor\":\"white\",\"showbackground\":true,\"ticks\":\"\",\"zerolinecolor\":\"white\"},\"yaxis\":{\"backgroundcolor\":\"#E5ECF6\",\"gridcolor\":\"white\",\"gridwidth\":2,\"linecolor\":\"white\",\"showbackground\":true,\"ticks\":\"\",\"zerolinecolor\":\"white\"},\"zaxis\":{\"backgroundcolor\":\"#E5ECF6\",\"gridcolor\":\"white\",\"gridwidth\":2,\"linecolor\":\"white\",\"showbackground\":true,\"ticks\":\"\",\"zerolinecolor\":\"white\"}},\"shapedefaults\":{\"line\":{\"color\":\"#2a3f5f\"}},\"ternary\":{\"aaxis\":{\"gridcolor\":\"white\",\"linecolor\":\"white\",\"ticks\":\"\"},\"baxis\":{\"gridcolor\":\"white\",\"linecolor\":\"white\",\"ticks\":\"\"},\"bgcolor\":\"#E5ECF6\",\"caxis\":{\"gridcolor\":\"white\",\"linecolor\":\"white\",\"ticks\":\"\"}},\"title\":{\"x\":0.05},\"xaxis\":{\"automargin\":true,\"gridcolor\":\"white\",\"linecolor\":\"white\",\"ticks\":\"\",\"title\":{\"standoff\":15},\"zerolinecolor\":\"white\",\"zerolinewidth\":2},\"yaxis\":{\"automargin\":true,\"gridcolor\":\"white\",\"linecolor\":\"white\",\"ticks\":\"\",\"title\":{\"standoff\":15},\"zerolinecolor\":\"white\",\"zerolinewidth\":2}}},\"xaxis\":{\"anchor\":\"y\",\"constrain\":\"domain\",\"domain\":[0.0,1.0],\"scaleanchor\":\"y\"},\"yaxis\":{\"anchor\":\"x\",\"autorange\":\"reversed\",\"constrain\":\"domain\",\"domain\":[0.0,1.0]}},                        {\"responsive\": true}                    ).then(function(){\n",
       "                            \n",
       "var gd = document.getElementById('ad463488-18b6-4152-8787-352122a9e9ba');\n",
       "var x = new MutationObserver(function (mutations, observer) {{\n",
       "        var display = window.getComputedStyle(gd).display;\n",
       "        if (!display || display === 'none') {{\n",
       "            console.log([gd, 'removed!']);\n",
       "            Plotly.purge(gd);\n",
       "            observer.disconnect();\n",
       "        }}\n",
       "}});\n",
       "\n",
       "// Listen for the removal of the full notebook cells\n",
       "var notebookContainer = gd.closest('#notebook-container');\n",
       "if (notebookContainer) {{\n",
       "    x.observe(notebookContainer, {childList: true});\n",
       "}}\n",
       "\n",
       "// Listen for the clearing of the current output cell\n",
       "var outputEl = gd.closest('.output');\n",
       "if (outputEl) {{\n",
       "    x.observe(outputEl, {childList: true});\n",
       "}}\n",
       "\n",
       "                        })                };                });            </script>        </div>"
      ]
     },
     "metadata": {},
     "output_type": "display_data"
    }
   ],
   "source": [
    "heatmap_tags(df1, \"name_parent\", \"cluster_parent\")"
   ]
  },
  {
   "cell_type": "code",
   "execution_count": 84,
   "metadata": {
    "ExecuteTime": {
     "end_time": "2023-05-28T14:46:21.541156Z",
     "start_time": "2023-05-28T14:46:21.459668Z"
    }
   },
   "outputs": [
    {
     "data": {
      "text/html": [
       "<div>                            <div id=\"93b171c2-ef3d-4244-b303-603b5dabf476\" class=\"plotly-graph-div\" style=\"height:525px; width:100%;\"></div>            <script type=\"text/javascript\">                require([\"plotly\"], function(Plotly) {                    window.PLOTLYENV=window.PLOTLYENV || {};                                    if (document.getElementById(\"93b171c2-ef3d-4244-b303-603b5dabf476\")) {                    Plotly.newPlot(                        \"93b171c2-ef3d-4244-b303-603b5dabf476\",                        [{\"coloraxis\":\"coloraxis\",\"hovertemplate\":\"x: %{x}<br>y: %{y}<br>color: %{z}<extra></extra>\",\"name\":\"0\",\"x\":[\"0\",\"1\",\"10\",\"11\",\"12\",\"13\",\"14\",\"15\",\"16\",\"17\",\"18\",\"19\",\"2\",\"20\",\"21\",\"22\",\"23\",\"24\",\"25\",\"26\",\"27\",\"28\",\"29\",\"3\",\"30\",\"31\",\"32\",\"33\",\"34\",\"35\",\"36\",\"37\",\"38\",\"39\",\"4\",\"40\",\"41\",\"42\",\"43\",\"44\",\"45\",\"46\",\"47\",\"48\",\"49\",\"5\",\"6\",\"7\",\"8\",\"9\"],\"xaxis\":\"x\",\"y\":[\"0\",\"1\",\"10\",\"11\",\"12\",\"13\",\"14\",\"15\",\"16\",\"17\",\"18\",\"19\",\"2\",\"20\",\"21\",\"22\",\"23\",\"24\",\"25\",\"26\",\"27\",\"28\",\"29\",\"3\",\"30\",\"31\",\"32\",\"33\",\"34\",\"35\",\"36\",\"37\",\"38\",\"39\",\"4\",\"40\",\"41\",\"42\",\"43\",\"44\",\"45\",\"46\",\"47\",\"48\",\"49\",\"5\",\"6\",\"7\",\"8\",\"9\"],\"yaxis\":\"y\",\"z\":[[2181,0,0,0,0,0,0,0,0,0,0,0,0,0,0,0,0,0,0,0,0,0,0,0,0,0,0,0,0,0,0,0,0,0,0,0,0,0,0,0,0,0,0,0,0,0,0,0,0,0],[0,2702,0,0,0,0,0,0,0,0,0,0,0,0,0,0,0,0,0,0,0,0,0,0,0,0,0,0,0,0,0,0,0,0,0,0,0,0,0,0,0,0,0,0,0,0,0,0,0,0],[0,0,1063,0,0,0,0,0,0,0,0,0,0,0,0,0,0,0,0,0,0,0,0,0,0,0,0,0,0,0,0,0,0,0,0,0,0,0,0,0,0,0,0,0,0,0,0,0,0,0],[0,0,0,1710,0,0,0,0,0,0,0,0,0,0,0,0,0,0,0,0,0,0,0,0,0,0,0,0,0,0,0,0,0,0,0,0,0,0,0,0,0,0,0,0,0,0,0,0,0,0],[0,0,0,0,729,0,0,0,0,0,0,0,0,0,0,0,0,0,0,0,0,0,0,0,0,0,0,0,0,0,0,0,0,0,0,0,0,0,0,0,0,0,0,0,0,0,0,0,0,0],[0,0,0,0,0,666,0,0,0,0,0,0,0,0,0,0,0,0,0,0,0,0,0,0,0,0,0,0,0,0,0,0,0,0,0,0,0,0,0,0,0,0,0,0,0,0,0,0,0,0],[0,0,0,0,0,0,1913,0,0,0,0,0,0,0,0,0,0,0,0,0,0,0,0,0,0,0,0,0,0,0,0,0,0,0,0,0,0,0,0,0,0,0,0,0,0,0,0,0,0,0],[0,0,0,0,0,0,0,1298,0,0,0,0,0,0,0,0,0,0,0,0,0,0,0,0,0,0,0,0,0,0,0,0,0,0,0,0,0,0,0,0,0,0,0,0,0,0,0,0,0,0],[0,0,0,0,0,0,0,0,3481,0,0,0,0,0,0,0,0,0,0,0,0,0,0,0,0,0,0,0,0,0,0,0,0,0,0,0,0,0,0,0,0,0,0,0,0,0,0,0,0,0],[0,0,0,0,0,0,0,0,0,1453,0,0,0,0,0,0,0,0,0,0,0,0,0,0,0,0,0,0,0,0,0,0,0,0,0,0,0,0,0,0,0,0,0,0,0,0,0,0,0,0],[0,0,0,0,0,0,0,0,0,0,1024,0,0,0,0,0,0,0,0,0,0,0,0,0,0,0,0,0,0,0,0,0,0,0,0,0,0,0,0,0,0,0,0,0,0,0,0,0,0,0],[0,0,0,0,0,0,0,0,0,0,0,1712,0,0,0,0,0,0,0,0,0,0,0,0,0,0,0,0,0,0,0,0,0,0,0,0,0,0,0,0,0,0,0,0,0,0,0,0,0,0],[0,0,0,0,0,0,0,0,0,0,0,0,2463,0,0,0,0,0,0,0,0,0,0,0,0,0,0,0,0,0,0,0,0,0,0,0,0,0,0,0,0,0,0,0,0,0,0,0,0,0],[0,0,0,0,0,0,0,0,0,0,0,0,0,471,0,0,0,0,0,0,0,0,0,0,0,0,0,0,0,0,0,0,0,0,0,0,0,0,0,0,0,0,0,0,0,0,0,0,0,0],[0,0,0,0,0,0,0,0,0,0,0,0,0,0,1250,0,0,0,0,0,0,0,0,0,0,0,0,0,0,0,0,0,0,0,0,0,0,0,0,0,0,0,0,0,0,0,0,0,0,0],[0,0,0,0,0,0,0,0,0,0,0,0,0,0,0,1932,0,0,0,0,0,0,0,0,0,0,0,0,0,0,0,0,0,0,0,0,0,0,0,0,0,0,0,0,0,0,0,0,0,0],[0,0,0,0,0,0,0,0,0,0,0,0,0,0,0,0,1644,0,0,0,0,0,0,0,0,0,0,0,0,0,0,0,0,0,0,0,0,0,0,0,0,0,0,0,0,0,0,0,0,0],[0,0,0,0,0,0,0,0,0,0,0,0,0,0,0,0,0,1991,0,0,0,0,0,0,0,0,0,0,0,0,0,0,0,0,0,0,0,0,0,0,0,0,0,0,0,0,0,0,0,0],[0,0,0,0,0,0,0,0,0,0,0,0,0,0,0,0,0,0,228,0,0,0,0,0,0,0,0,0,0,0,0,0,0,0,0,0,0,0,0,0,0,0,0,0,0,0,0,0,0,0],[0,0,0,0,0,0,0,0,0,0,0,0,0,0,0,0,0,0,0,738,0,0,0,0,0,0,0,0,0,0,0,0,0,0,0,0,0,0,0,0,0,0,0,0,0,0,0,0,0,0],[0,0,0,0,0,0,0,0,0,0,0,0,0,0,0,0,0,0,0,0,1843,0,0,0,0,0,0,0,0,0,0,0,0,0,0,0,0,0,0,0,0,0,0,0,0,0,0,0,0,0],[0,0,0,0,0,0,0,0,0,0,0,0,0,0,0,0,0,0,0,0,0,1605,0,0,0,0,0,0,0,0,0,0,0,0,0,0,0,0,0,0,0,0,0,0,0,0,0,0,0,0],[0,0,0,0,0,0,0,0,0,0,0,0,0,0,0,0,0,0,0,0,0,0,758,0,0,0,0,0,0,0,0,0,0,0,0,0,0,0,0,0,0,0,0,0,0,0,0,0,0,0],[0,0,0,0,0,0,0,0,0,0,0,0,0,0,0,0,0,0,0,0,0,0,0,1244,0,0,0,0,0,0,0,0,0,0,0,0,0,0,0,0,0,0,0,0,0,0,0,0,0,0],[0,0,0,0,0,0,0,0,0,0,0,0,0,0,0,0,0,0,0,0,0,0,0,0,1307,0,0,0,0,0,0,0,0,0,0,0,0,0,0,0,0,0,0,0,0,0,0,0,0,0],[0,0,0,0,0,0,0,0,0,0,0,0,0,0,0,0,0,0,0,0,0,0,0,0,0,595,0,0,0,0,0,0,0,0,0,0,0,0,0,0,0,0,0,0,0,0,0,0,0,0],[0,0,0,0,0,0,0,0,0,0,0,0,0,0,0,0,0,0,0,0,0,0,0,0,0,0,1177,0,0,0,0,0,0,0,0,0,0,0,0,0,0,0,0,0,0,0,0,0,0,0],[0,0,0,0,0,0,0,0,0,0,0,0,0,0,0,0,0,0,0,0,0,0,0,0,0,0,0,1347,0,0,0,0,0,0,0,0,0,0,0,0,0,0,0,0,0,0,0,0,0,0],[0,0,0,0,0,0,0,0,0,0,0,0,0,0,0,0,0,0,0,0,0,0,0,0,0,0,0,0,2855,0,0,0,0,0,0,0,0,0,0,0,0,0,0,0,0,0,0,0,0,0],[0,0,0,0,0,0,0,0,0,0,0,0,0,0,0,0,0,0,0,0,0,0,0,0,0,0,0,0,0,634,0,0,0,0,0,0,0,0,0,0,0,0,0,0,0,0,0,0,0,0],[0,0,0,0,0,0,0,0,0,0,0,0,0,0,0,0,0,0,0,0,0,0,0,0,0,0,0,0,0,0,1343,0,0,0,0,0,0,0,0,0,0,0,0,0,0,0,0,0,0,0],[0,0,0,0,0,0,0,0,0,0,0,0,0,0,0,0,0,0,0,0,0,0,0,0,0,0,0,0,0,0,0,1186,0,0,0,0,0,0,0,0,0,0,0,0,0,0,0,0,0,0],[0,0,0,0,0,0,0,0,0,0,0,0,0,0,0,0,0,0,0,0,0,0,0,0,0,0,0,0,0,0,0,0,649,0,0,0,0,0,0,0,0,0,0,0,0,0,0,0,0,0],[0,0,0,0,0,0,0,0,0,0,0,0,0,0,0,0,0,0,0,0,0,0,0,0,0,0,0,0,0,0,0,0,0,1018,0,0,0,0,0,0,0,0,0,0,0,0,0,0,0,0],[0,0,0,0,0,0,0,0,0,0,0,0,0,0,0,0,0,0,0,0,0,0,0,0,0,0,0,0,0,0,0,0,0,0,2713,0,0,0,0,0,0,0,0,0,0,0,0,0,0,0],[0,0,0,0,0,0,0,0,0,0,0,0,0,0,0,0,0,0,0,0,0,0,0,0,0,0,0,0,0,0,0,0,0,0,0,1466,0,0,0,0,0,0,0,0,0,0,0,0,0,0],[0,0,0,0,0,0,0,0,0,0,0,0,0,0,0,0,0,0,0,0,0,0,0,0,0,0,0,0,0,0,0,0,0,0,0,0,250,0,0,0,0,0,0,0,0,0,0,0,0,0],[0,0,0,0,0,0,0,0,0,0,0,0,0,0,0,0,0,0,0,0,0,0,0,0,0,0,0,0,0,0,0,0,0,0,0,0,0,693,0,0,0,0,0,0,0,0,0,0,0,0],[0,0,0,0,0,0,0,0,0,0,0,0,0,0,0,0,0,0,0,0,0,0,0,0,0,0,0,0,0,0,0,0,0,0,0,0,0,0,808,0,0,0,0,0,0,0,0,0,0,0],[0,0,0,0,0,0,0,0,0,0,0,0,0,0,0,0,0,0,0,0,0,0,0,0,0,0,0,0,0,0,0,0,0,0,0,0,0,0,0,332,0,0,0,0,0,0,0,0,0,0],[0,0,0,0,0,0,0,0,0,0,0,0,0,0,0,0,0,0,0,0,0,0,0,0,0,0,0,0,0,0,0,0,0,0,0,0,0,0,0,0,334,0,0,0,0,0,0,0,0,0],[0,0,0,0,0,0,0,0,0,0,0,0,0,0,0,0,0,0,0,0,0,0,0,0,0,0,0,0,0,0,0,0,0,0,0,0,0,0,0,0,0,380,0,0,0,0,0,0,0,0],[0,0,0,0,0,0,0,0,0,0,0,0,0,0,0,0,0,0,0,0,0,0,0,0,0,0,0,0,0,0,0,0,0,0,0,0,0,0,0,0,0,0,822,0,0,0,0,0,0,0],[0,0,0,0,0,0,0,0,0,0,0,0,0,0,0,0,0,0,0,0,0,0,0,0,0,0,0,0,0,0,0,0,0,0,0,0,0,0,0,0,0,0,0,358,0,0,0,0,0,0],[0,0,0,0,0,0,0,0,0,0,0,0,0,0,0,0,0,0,0,0,0,0,0,0,0,0,0,0,0,0,0,0,0,0,0,0,0,0,0,0,0,0,0,0,531,0,0,0,0,0],[0,0,0,0,0,0,0,0,0,0,0,0,0,0,0,0,0,0,0,0,0,0,0,0,0,0,0,0,0,0,0,0,0,0,0,0,0,0,0,0,0,0,0,0,0,1467,0,0,0,0],[0,0,0,0,0,0,0,0,0,0,0,0,0,0,0,0,0,0,0,0,0,0,0,0,0,0,0,0,0,0,0,0,0,0,0,0,0,0,0,0,0,0,0,0,0,0,1133,0,0,0],[0,0,0,0,0,0,0,0,0,0,0,0,0,0,0,0,0,0,0,0,0,0,0,0,0,0,0,0,0,0,0,0,0,0,0,0,0,0,0,0,0,0,0,0,0,0,0,2257,0,0],[0,0,0,0,0,0,0,0,0,0,0,0,0,0,0,0,0,0,0,0,0,0,0,0,0,0,0,0,0,0,0,0,0,0,0,0,0,0,0,0,0,0,0,0,0,0,0,0,990,0],[0,0,0,0,0,0,0,0,0,0,0,0,0,0,0,0,0,0,0,0,0,0,0,0,0,0,0,0,0,0,0,0,0,0,0,0,0,0,0,0,0,0,0,0,0,0,0,0,0,1081]],\"type\":\"heatmap\"}],                        {\"coloraxis\":{\"colorscale\":[[0.0,\"#0d0887\"],[0.1111111111111111,\"#46039f\"],[0.2222222222222222,\"#7201a8\"],[0.3333333333333333,\"#9c179e\"],[0.4444444444444444,\"#bd3786\"],[0.5555555555555556,\"#d8576b\"],[0.6666666666666666,\"#ed7953\"],[0.7777777777777778,\"#fb9f3a\"],[0.8888888888888888,\"#fdca26\"],[1.0,\"#f0f921\"]]},\"margin\":{\"t\":60},\"template\":{\"data\":{\"barpolar\":[{\"marker\":{\"line\":{\"color\":\"#E5ECF6\",\"width\":0.5},\"pattern\":{\"fillmode\":\"overlay\",\"size\":10,\"solidity\":0.2}},\"type\":\"barpolar\"}],\"bar\":[{\"error_x\":{\"color\":\"#2a3f5f\"},\"error_y\":{\"color\":\"#2a3f5f\"},\"marker\":{\"line\":{\"color\":\"#E5ECF6\",\"width\":0.5},\"pattern\":{\"fillmode\":\"overlay\",\"size\":10,\"solidity\":0.2}},\"type\":\"bar\"}],\"carpet\":[{\"aaxis\":{\"endlinecolor\":\"#2a3f5f\",\"gridcolor\":\"white\",\"linecolor\":\"white\",\"minorgridcolor\":\"white\",\"startlinecolor\":\"#2a3f5f\"},\"baxis\":{\"endlinecolor\":\"#2a3f5f\",\"gridcolor\":\"white\",\"linecolor\":\"white\",\"minorgridcolor\":\"white\",\"startlinecolor\":\"#2a3f5f\"},\"type\":\"carpet\"}],\"choropleth\":[{\"colorbar\":{\"outlinewidth\":0,\"ticks\":\"\"},\"type\":\"choropleth\"}],\"contourcarpet\":[{\"colorbar\":{\"outlinewidth\":0,\"ticks\":\"\"},\"type\":\"contourcarpet\"}],\"contour\":[{\"colorbar\":{\"outlinewidth\":0,\"ticks\":\"\"},\"colorscale\":[[0.0,\"#0d0887\"],[0.1111111111111111,\"#46039f\"],[0.2222222222222222,\"#7201a8\"],[0.3333333333333333,\"#9c179e\"],[0.4444444444444444,\"#bd3786\"],[0.5555555555555556,\"#d8576b\"],[0.6666666666666666,\"#ed7953\"],[0.7777777777777778,\"#fb9f3a\"],[0.8888888888888888,\"#fdca26\"],[1.0,\"#f0f921\"]],\"type\":\"contour\"}],\"heatmapgl\":[{\"colorbar\":{\"outlinewidth\":0,\"ticks\":\"\"},\"colorscale\":[[0.0,\"#0d0887\"],[0.1111111111111111,\"#46039f\"],[0.2222222222222222,\"#7201a8\"],[0.3333333333333333,\"#9c179e\"],[0.4444444444444444,\"#bd3786\"],[0.5555555555555556,\"#d8576b\"],[0.6666666666666666,\"#ed7953\"],[0.7777777777777778,\"#fb9f3a\"],[0.8888888888888888,\"#fdca26\"],[1.0,\"#f0f921\"]],\"type\":\"heatmapgl\"}],\"heatmap\":[{\"colorbar\":{\"outlinewidth\":0,\"ticks\":\"\"},\"colorscale\":[[0.0,\"#0d0887\"],[0.1111111111111111,\"#46039f\"],[0.2222222222222222,\"#7201a8\"],[0.3333333333333333,\"#9c179e\"],[0.4444444444444444,\"#bd3786\"],[0.5555555555555556,\"#d8576b\"],[0.6666666666666666,\"#ed7953\"],[0.7777777777777778,\"#fb9f3a\"],[0.8888888888888888,\"#fdca26\"],[1.0,\"#f0f921\"]],\"type\":\"heatmap\"}],\"histogram2dcontour\":[{\"colorbar\":{\"outlinewidth\":0,\"ticks\":\"\"},\"colorscale\":[[0.0,\"#0d0887\"],[0.1111111111111111,\"#46039f\"],[0.2222222222222222,\"#7201a8\"],[0.3333333333333333,\"#9c179e\"],[0.4444444444444444,\"#bd3786\"],[0.5555555555555556,\"#d8576b\"],[0.6666666666666666,\"#ed7953\"],[0.7777777777777778,\"#fb9f3a\"],[0.8888888888888888,\"#fdca26\"],[1.0,\"#f0f921\"]],\"type\":\"histogram2dcontour\"}],\"histogram2d\":[{\"colorbar\":{\"outlinewidth\":0,\"ticks\":\"\"},\"colorscale\":[[0.0,\"#0d0887\"],[0.1111111111111111,\"#46039f\"],[0.2222222222222222,\"#7201a8\"],[0.3333333333333333,\"#9c179e\"],[0.4444444444444444,\"#bd3786\"],[0.5555555555555556,\"#d8576b\"],[0.6666666666666666,\"#ed7953\"],[0.7777777777777778,\"#fb9f3a\"],[0.8888888888888888,\"#fdca26\"],[1.0,\"#f0f921\"]],\"type\":\"histogram2d\"}],\"histogram\":[{\"marker\":{\"pattern\":{\"fillmode\":\"overlay\",\"size\":10,\"solidity\":0.2}},\"type\":\"histogram\"}],\"mesh3d\":[{\"colorbar\":{\"outlinewidth\":0,\"ticks\":\"\"},\"type\":\"mesh3d\"}],\"parcoords\":[{\"line\":{\"colorbar\":{\"outlinewidth\":0,\"ticks\":\"\"}},\"type\":\"parcoords\"}],\"pie\":[{\"automargin\":true,\"type\":\"pie\"}],\"scatter3d\":[{\"line\":{\"colorbar\":{\"outlinewidth\":0,\"ticks\":\"\"}},\"marker\":{\"colorbar\":{\"outlinewidth\":0,\"ticks\":\"\"}},\"type\":\"scatter3d\"}],\"scattercarpet\":[{\"marker\":{\"colorbar\":{\"outlinewidth\":0,\"ticks\":\"\"}},\"type\":\"scattercarpet\"}],\"scattergeo\":[{\"marker\":{\"colorbar\":{\"outlinewidth\":0,\"ticks\":\"\"}},\"type\":\"scattergeo\"}],\"scattergl\":[{\"marker\":{\"colorbar\":{\"outlinewidth\":0,\"ticks\":\"\"}},\"type\":\"scattergl\"}],\"scattermapbox\":[{\"marker\":{\"colorbar\":{\"outlinewidth\":0,\"ticks\":\"\"}},\"type\":\"scattermapbox\"}],\"scatterpolargl\":[{\"marker\":{\"colorbar\":{\"outlinewidth\":0,\"ticks\":\"\"}},\"type\":\"scatterpolargl\"}],\"scatterpolar\":[{\"marker\":{\"colorbar\":{\"outlinewidth\":0,\"ticks\":\"\"}},\"type\":\"scatterpolar\"}],\"scatter\":[{\"fillpattern\":{\"fillmode\":\"overlay\",\"size\":10,\"solidity\":0.2},\"type\":\"scatter\"}],\"scatterternary\":[{\"marker\":{\"colorbar\":{\"outlinewidth\":0,\"ticks\":\"\"}},\"type\":\"scatterternary\"}],\"surface\":[{\"colorbar\":{\"outlinewidth\":0,\"ticks\":\"\"},\"colorscale\":[[0.0,\"#0d0887\"],[0.1111111111111111,\"#46039f\"],[0.2222222222222222,\"#7201a8\"],[0.3333333333333333,\"#9c179e\"],[0.4444444444444444,\"#bd3786\"],[0.5555555555555556,\"#d8576b\"],[0.6666666666666666,\"#ed7953\"],[0.7777777777777778,\"#fb9f3a\"],[0.8888888888888888,\"#fdca26\"],[1.0,\"#f0f921\"]],\"type\":\"surface\"}],\"table\":[{\"cells\":{\"fill\":{\"color\":\"#EBF0F8\"},\"line\":{\"color\":\"white\"}},\"header\":{\"fill\":{\"color\":\"#C8D4E3\"},\"line\":{\"color\":\"white\"}},\"type\":\"table\"}]},\"layout\":{\"annotationdefaults\":{\"arrowcolor\":\"#2a3f5f\",\"arrowhead\":0,\"arrowwidth\":1},\"autotypenumbers\":\"strict\",\"coloraxis\":{\"colorbar\":{\"outlinewidth\":0,\"ticks\":\"\"}},\"colorscale\":{\"diverging\":[[0,\"#8e0152\"],[0.1,\"#c51b7d\"],[0.2,\"#de77ae\"],[0.3,\"#f1b6da\"],[0.4,\"#fde0ef\"],[0.5,\"#f7f7f7\"],[0.6,\"#e6f5d0\"],[0.7,\"#b8e186\"],[0.8,\"#7fbc41\"],[0.9,\"#4d9221\"],[1,\"#276419\"]],\"sequential\":[[0.0,\"#0d0887\"],[0.1111111111111111,\"#46039f\"],[0.2222222222222222,\"#7201a8\"],[0.3333333333333333,\"#9c179e\"],[0.4444444444444444,\"#bd3786\"],[0.5555555555555556,\"#d8576b\"],[0.6666666666666666,\"#ed7953\"],[0.7777777777777778,\"#fb9f3a\"],[0.8888888888888888,\"#fdca26\"],[1.0,\"#f0f921\"]],\"sequentialminus\":[[0.0,\"#0d0887\"],[0.1111111111111111,\"#46039f\"],[0.2222222222222222,\"#7201a8\"],[0.3333333333333333,\"#9c179e\"],[0.4444444444444444,\"#bd3786\"],[0.5555555555555556,\"#d8576b\"],[0.6666666666666666,\"#ed7953\"],[0.7777777777777778,\"#fb9f3a\"],[0.8888888888888888,\"#fdca26\"],[1.0,\"#f0f921\"]]},\"colorway\":[\"#636efa\",\"#EF553B\",\"#00cc96\",\"#ab63fa\",\"#FFA15A\",\"#19d3f3\",\"#FF6692\",\"#B6E880\",\"#FF97FF\",\"#FECB52\"],\"font\":{\"color\":\"#2a3f5f\"},\"geo\":{\"bgcolor\":\"white\",\"lakecolor\":\"white\",\"landcolor\":\"#E5ECF6\",\"showlakes\":true,\"showland\":true,\"subunitcolor\":\"white\"},\"hoverlabel\":{\"align\":\"left\"},\"hovermode\":\"closest\",\"mapbox\":{\"style\":\"light\"},\"paper_bgcolor\":\"white\",\"plot_bgcolor\":\"#E5ECF6\",\"polar\":{\"angularaxis\":{\"gridcolor\":\"white\",\"linecolor\":\"white\",\"ticks\":\"\"},\"bgcolor\":\"#E5ECF6\",\"radialaxis\":{\"gridcolor\":\"white\",\"linecolor\":\"white\",\"ticks\":\"\"}},\"scene\":{\"xaxis\":{\"backgroundcolor\":\"#E5ECF6\",\"gridcolor\":\"white\",\"gridwidth\":2,\"linecolor\":\"white\",\"showbackground\":true,\"ticks\":\"\",\"zerolinecolor\":\"white\"},\"yaxis\":{\"backgroundcolor\":\"#E5ECF6\",\"gridcolor\":\"white\",\"gridwidth\":2,\"linecolor\":\"white\",\"showbackground\":true,\"ticks\":\"\",\"zerolinecolor\":\"white\"},\"zaxis\":{\"backgroundcolor\":\"#E5ECF6\",\"gridcolor\":\"white\",\"gridwidth\":2,\"linecolor\":\"white\",\"showbackground\":true,\"ticks\":\"\",\"zerolinecolor\":\"white\"}},\"shapedefaults\":{\"line\":{\"color\":\"#2a3f5f\"}},\"ternary\":{\"aaxis\":{\"gridcolor\":\"white\",\"linecolor\":\"white\",\"ticks\":\"\"},\"baxis\":{\"gridcolor\":\"white\",\"linecolor\":\"white\",\"ticks\":\"\"},\"bgcolor\":\"#E5ECF6\",\"caxis\":{\"gridcolor\":\"white\",\"linecolor\":\"white\",\"ticks\":\"\"}},\"title\":{\"x\":0.05},\"xaxis\":{\"automargin\":true,\"gridcolor\":\"white\",\"linecolor\":\"white\",\"ticks\":\"\",\"title\":{\"standoff\":15},\"zerolinecolor\":\"white\",\"zerolinewidth\":2},\"yaxis\":{\"automargin\":true,\"gridcolor\":\"white\",\"linecolor\":\"white\",\"ticks\":\"\",\"title\":{\"standoff\":15},\"zerolinecolor\":\"white\",\"zerolinewidth\":2}}},\"xaxis\":{\"anchor\":\"y\",\"constrain\":\"domain\",\"domain\":[0.0,1.0],\"scaleanchor\":\"y\"},\"yaxis\":{\"anchor\":\"x\",\"autorange\":\"reversed\",\"constrain\":\"domain\",\"domain\":[0.0,1.0]}},                        {\"responsive\": true}                    ).then(function(){\n",
       "                            \n",
       "var gd = document.getElementById('93b171c2-ef3d-4244-b303-603b5dabf476');\n",
       "var x = new MutationObserver(function (mutations, observer) {{\n",
       "        var display = window.getComputedStyle(gd).display;\n",
       "        if (!display || display === 'none') {{\n",
       "            console.log([gd, 'removed!']);\n",
       "            Plotly.purge(gd);\n",
       "            observer.disconnect();\n",
       "        }}\n",
       "}});\n",
       "\n",
       "// Listen for the removal of the full notebook cells\n",
       "var notebookContainer = gd.closest('#notebook-container');\n",
       "if (notebookContainer) {{\n",
       "    x.observe(notebookContainer, {childList: true});\n",
       "}}\n",
       "\n",
       "// Listen for the clearing of the current output cell\n",
       "var outputEl = gd.closest('.output');\n",
       "if (outputEl) {{\n",
       "    x.observe(outputEl, {childList: true});\n",
       "}}\n",
       "\n",
       "                        })                };                });            </script>        </div>"
      ]
     },
     "metadata": {},
     "output_type": "display_data"
    }
   ],
   "source": [
    "heatmap_tags(df1, \"name_child\", \"cluster_child\")"
   ]
  },
  {
   "cell_type": "code",
   "execution_count": 85,
   "metadata": {
    "ExecuteTime": {
     "end_time": "2023-05-28T14:53:49.283335Z",
     "start_time": "2023-05-28T14:53:49.263526Z"
    }
   },
   "outputs": [],
   "source": [
    "tags_flow = df1.groupby(['cluster_parent', 'cluster_child'])['name_parent'].count().reset_index()\n",
    "tags_flow.columns = ['cluster_parent', 'cluster_child', 'weight']\n",
    "sum_weights = tags_flow.groupby('cluster_parent')['weight'].transform('sum')\n",
    "tags_flow['weight_normalized'] = tags_flow['weight'] / sum_weights"
   ]
  },
  {
   "cell_type": "code",
   "execution_count": 86,
   "metadata": {},
   "outputs": [
    {
     "data": {
      "text/html": [
       "<div>\n",
       "<style scoped>\n",
       "    .dataframe tbody tr th:only-of-type {\n",
       "        vertical-align: middle;\n",
       "    }\n",
       "\n",
       "    .dataframe tbody tr th {\n",
       "        vertical-align: top;\n",
       "    }\n",
       "\n",
       "    .dataframe thead th {\n",
       "        text-align: right;\n",
       "    }\n",
       "</style>\n",
       "<table border=\"1\" class=\"dataframe\">\n",
       "  <thead>\n",
       "    <tr style=\"text-align: right;\">\n",
       "      <th></th>\n",
       "      <th>cluster_parent</th>\n",
       "      <th>cluster_child</th>\n",
       "      <th>weight</th>\n",
       "      <th>weight_normalized</th>\n",
       "      <th>tag_parent</th>\n",
       "      <th>tag_child</th>\n",
       "    </tr>\n",
       "  </thead>\n",
       "  <tbody>\n",
       "    <tr>\n",
       "      <th>0</th>\n",
       "      <td>0</td>\n",
       "      <td>0</td>\n",
       "      <td>263</td>\n",
       "      <td>0.173597</td>\n",
       "      <td>clothing</td>\n",
       "      <td>clothing</td>\n",
       "    </tr>\n",
       "    <tr>\n",
       "      <th>1</th>\n",
       "      <td>1</td>\n",
       "      <td>0</td>\n",
       "      <td>42</td>\n",
       "      <td>0.024166</td>\n",
       "      <td>music</td>\n",
       "      <td>clothing</td>\n",
       "    </tr>\n",
       "    <tr>\n",
       "      <th>2</th>\n",
       "      <td>10</td>\n",
       "      <td>0</td>\n",
       "      <td>18</td>\n",
       "      <td>0.050279</td>\n",
       "      <td>person</td>\n",
       "      <td>clothing</td>\n",
       "    </tr>\n",
       "    <tr>\n",
       "      <th>3</th>\n",
       "      <td>11</td>\n",
       "      <td>0</td>\n",
       "      <td>19</td>\n",
       "      <td>0.018252</td>\n",
       "      <td>art</td>\n",
       "      <td>clothing</td>\n",
       "    </tr>\n",
       "    <tr>\n",
       "      <th>4</th>\n",
       "      <td>12</td>\n",
       "      <td>0</td>\n",
       "      <td>13</td>\n",
       "      <td>0.048507</td>\n",
       "      <td>glasses</td>\n",
       "      <td>clothing</td>\n",
       "    </tr>\n",
       "    <tr>\n",
       "      <th>...</th>\n",
       "      <td>...</td>\n",
       "      <td>...</td>\n",
       "      <td>...</td>\n",
       "      <td>...</td>\n",
       "      <td>...</td>\n",
       "      <td>...</td>\n",
       "    </tr>\n",
       "    <tr>\n",
       "      <th>2329</th>\n",
       "      <td>43</td>\n",
       "      <td>14</td>\n",
       "      <td>1</td>\n",
       "      <td>0.001006</td>\n",
       "      <td>infant</td>\n",
       "      <td>monument</td>\n",
       "    </tr>\n",
       "    <tr>\n",
       "      <th>2330</th>\n",
       "      <td>47</td>\n",
       "      <td>14</td>\n",
       "      <td>1</td>\n",
       "      <td>0.002710</td>\n",
       "      <td>artwork</td>\n",
       "      <td>monument</td>\n",
       "    </tr>\n",
       "    <tr>\n",
       "      <th>2331</th>\n",
       "      <td>5</td>\n",
       "      <td>14</td>\n",
       "      <td>41</td>\n",
       "      <td>0.022727</td>\n",
       "      <td>sports</td>\n",
       "      <td>monument</td>\n",
       "    </tr>\n",
       "    <tr>\n",
       "      <th>2332</th>\n",
       "      <td>6</td>\n",
       "      <td>14</td>\n",
       "      <td>2</td>\n",
       "      <td>0.001385</td>\n",
       "      <td>food</td>\n",
       "      <td>monument</td>\n",
       "    </tr>\n",
       "    <tr>\n",
       "      <th>2333</th>\n",
       "      <td>9</td>\n",
       "      <td>14</td>\n",
       "      <td>1</td>\n",
       "      <td>0.001279</td>\n",
       "      <td>room</td>\n",
       "      <td>monument</td>\n",
       "    </tr>\n",
       "  </tbody>\n",
       "</table>\n",
       "<p>2334 rows × 6 columns</p>\n",
       "</div>"
      ],
      "text/plain": [
       "     cluster_parent cluster_child  weight  weight_normalized tag_parent   \n",
       "0                 0             0     263           0.173597   clothing  \\\n",
       "1                 1             0      42           0.024166      music   \n",
       "2                10             0      18           0.050279     person   \n",
       "3                11             0      19           0.018252        art   \n",
       "4                12             0      13           0.048507    glasses   \n",
       "...             ...           ...     ...                ...        ...   \n",
       "2329             43            14       1           0.001006     infant   \n",
       "2330             47            14       1           0.002710    artwork   \n",
       "2331              5            14      41           0.022727     sports   \n",
       "2332              6            14       2           0.001385       food   \n",
       "2333              9            14       1           0.001279       room   \n",
       "\n",
       "     tag_child  \n",
       "0     clothing  \n",
       "1     clothing  \n",
       "2     clothing  \n",
       "3     clothing  \n",
       "4     clothing  \n",
       "...        ...  \n",
       "2329  monument  \n",
       "2330  monument  \n",
       "2331  monument  \n",
       "2332  monument  \n",
       "2333  monument  \n",
       "\n",
       "[2334 rows x 6 columns]"
      ]
     },
     "execution_count": 86,
     "metadata": {},
     "output_type": "execute_result"
    }
   ],
   "source": [
    "most_defining = get_popular_df(n=1)\n",
    "tags_flow = tags_flow.merge(most_defining, left_on='cluster_parent', right_on=\"cluster\").drop('cluster', axis=1)\n",
    "tags_flow = tags_flow.merge(most_defining, left_on='cluster_child', right_on=\"cluster\", suffixes=['_parent', '_child']).drop('cluster', axis=1)\n",
    "tags_flow"
   ]
  },
  {
   "cell_type": "code",
   "execution_count": 87,
   "metadata": {
    "ExecuteTime": {
     "end_time": "2023-05-28T14:48:11.518539Z",
     "start_time": "2023-05-28T14:48:11.495394Z"
    }
   },
   "outputs": [
    {
     "data": {
      "text/html": [
       "<div>                            <div id=\"61d4745e-aedd-4ad1-849f-2b2e05e9c73e\" class=\"plotly-graph-div\" style=\"height:525px; width:100%;\"></div>            <script type=\"text/javascript\">                require([\"plotly\"], function(Plotly) {                    window.PLOTLYENV=window.PLOTLYENV || {};                                    if (document.getElementById(\"61d4745e-aedd-4ad1-849f-2b2e05e9c73e\")) {                    Plotly.newPlot(                        \"61d4745e-aedd-4ad1-849f-2b2e05e9c73e\",                        [{\"alignmentgroup\":\"True\",\"bingroup\":\"x\",\"hovertemplate\":\"variable=weight_normalized<br>value=%{x}<br>count=%{y}<extra></extra>\",\"legendgroup\":\"weight_normalized\",\"marker\":{\"color\":\"#636efa\",\"pattern\":{\"shape\":\"\"}},\"name\":\"weight_normalized\",\"offsetgroup\":\"weight_normalized\",\"orientation\":\"v\",\"showlegend\":true,\"x\":[0.1735973597359736,0.024165707710011506,0.05027932960893855,0.01825168107588857,0.048507462686567165,0.053212199870214145,0.019877675840978593,0.030562347188264057,0.023744911804613297,0.030864197530864196,0.023295213892418468,0.029038112522686024,0.03440453686200378,0.06326530612244897,0.029635901778154106,0.12004950495049505,0.01804123711340206,0.02103448275862069,0.0351493848857645,0.02875399361022364,0.05311355311355311,0.01818181818181818,0.023785425101214574,0.02454473475851148,0.019305019305019305,0.04904051172707889,0.025,0.017957927142124165,0.008939974457215836,0.029889538661468484,0.028659160696008188,0.02888086642599278,0.041223404255319146,0.02639976791412823,0.007438681141938078,0.029850746268656716,0.02679307502061006,0.01609657947686117,0.055762081784386616,0.011730205278592375,0.028901734104046242,0.03523035230352303,0.0440251572327044,0.01020408163265306,0.022727272727272728,0.05124653739612189,0.02663115845539281,0.03984819734345351,0.029411764705882353,0.05478547854785479,0.2882623705408516,0.013966480446927373,0.01633045148895293,0.048507462686567165,0.07138221933809215,0.04892966360856269,0.008557457212713936,0.016282225237449117,0.014814814814814815,0.019906819144430325,0.024500907441016333,0.009829867674858222,0.006122448979591836,0.01947502116850127,0.018564356435643563,0.06056701030927835,0.02724137931034483,0.012658227848101266,0.02460456942003515,0.023961661341853034,0.015262515262515262,0.0049586776859504135,0.0298582995951417,0.027711797307996833,0.05019305019305019,0.0255863539445629,0.016203703703703703,0.24756285274499742,0.007147498375568551,0.014329580348004094,0.030585106382978722,0.023788801856686973,0.013671089666264576,0.014925373134328358,0.011541632316570486,0.019114688128772636,0.0055762081784386614,0.002932551319648094,0.011560693641618497,0.02710027100271003,0.023060796645702306,0.04081632653061224,0.021618625277161862,0.012465373961218837,0.022636484687083888,0.003795066413662239,0.01918158567774936,0.011221122112211221,0.004602991944764097,0.061452513966480445,0.009606147934678195,0.026119402985074626,0.027903958468526932,0.021406727828746176,0.014669926650366748,0.014814814814814815,0.022871664548919948,0.03720508166969147,0.012476370510396975,0.014285714285714285,0.02286198137171888,0.013201320132013201,0.00902061855670103,0.012758620689655173,0.012658227848101266,0.015817223198594025,0.007987220447284345,0.009768009768009768,0.01487603305785124,0.01771255060728745,0.0166270783847981,0.011583011583011582,0.011727078891257996,0.014814814814814815,0.009492047203694202,0.028589993502274202,0.0255885363357216,0.01444043321299639,0.031914893617021274,0.011604293588627792,0.012665862484921592,0.014925373134328358,0.01236603462489695,0.13078470824949698,0.007434944237918215,0.002890173410404624,0.01084010840108401,0.016771488469601678,0.02040816326530612,0.015521064301552107,0.011772853185595568,0.017310252996005325,0.0056925996204933585,0.01278772378516624,0.015181518151815182,0.014384349827387802,0.0111731843575419,0.30643611911623436,0.018656716417910446,0.030499675535366644,0.035168195718654434,0.012224938875305624,0.012890094979647219,0.028395061728395062,0.014824227022448115,0.02676950998185118,0.015879017013232515,0.02040816326530612,0.012701100762066046,0.018976897689768978,0.010309278350515464,0.007586206896551724,0.0379746835443038,0.0210896309314587,0.038338658146964855,0.028693528693528692,0.12727272727272726,0.053643724696356275,0.01741884402216944,0.011583011583011582,0.019189765458422176,0.01898148148148148,0.010005130836326322,0.008939974457215836,0.057829759584145546,0.011258955987717503,0.05054151624548736,0.014627659574468085,0.019727299100667246,0.007237635705669481,0.029850746268656716,0.016900247320692497,0.022132796780684104,0.040892193308550186,0.011730205278592375,0.017341040462427744,0.21951219512195122,0.012578616352201259,0.05102040816326531,0.012749445676274944,0.018698060941828253,0.02663115845539281,0.04743833017077799,0.0319693094629156,0.006600660066006601,0.00805523590333717,0.0111731843575419,0.022388059701492536,0.01881894873458793,0.06422018348623854,0.006112469437652812,0.0033921302578018998,0.003703703703703704,0.0063532401524777635,0.019509981851179675,0.004914933837429111,0.006122448979591836,0.003386960203217612,0.01155115511551155,0.01288659793814433,0.03,0.012302284710017574,0.011980830670926517,0.008547008547008548,0.01487603305785124,0.01062753036437247,0.00791765637371338,0.008528784648187633,0.03425925925925926,0.0028219599794766545,0.005108556832694764,0.016894087069525665,0.0030706243602865915,0.016245487364620937,0.0199468085106383,0.005512039454598201,0.011258544431041415,0.011953833470733718,0.01006036217303823,0.00929368029739777,0.002932551319648094,0.011560693641618497,0.013550135501355014,0.0041928721174004195,0.02040816326530612,0.014966740576496674,0.004847645429362881,0.011984021304926764,0.003795066413662239,0.005115089514066497,0.021122112211221122,0.01093210586881473,0.0111731843575419,0.0038424591738712775,0.018656716417910446,0.04672290720311486,0.009174311926605505,0.011002444987775062,0.0067842605156037995,0.011111111111111112,0.005506141465480729,0.013157894736842105,0.014744801512287334,0.012244897959183673,0.0059271803556308214,0.03094059405940594,0.005154639175257732,0.007931034482758621,0.012658227848101266,0.007029876977152899,0.011980830670926517,0.0115995115995116,0.013223140495867768,0.00860323886639676,0.003167062549485352,0.015444015444015444,0.017057569296375266,0.006481481481481481,0.0033350436121087736,0.002554278416347382,0.003248862897985705,0.011258955987717503,0.010638297872340425,0.011604293588627792,0.002010454362685967,0.029850746268656716,0.010305028854080791,0.007042253521126761,0.0055762081784386614,0.005865102639296188,0.008670520231213872,0.0027100271002710027,0.014675052410901468,0.04081632653061224,0.0066518847006651885,0.014542936288088643,0.009320905459387484,0.0056925996204933585,0.015345268542199489,0.036303630363036306,0.00805523590333717,0.0335195530726257,0.01440922190201729,0.018656716417910446,0.010382868267358857,0.0061162079510703364,0.20537897310513448,0.012211668928086838,0.020987654320987655,0.01228293096145701,0.017241379310344827,0.024196597353497166,0.018367346938775512,0.014394580863674851,0.04950495049504951,0.01675257731958763,0.020344827586206895,0.0379746835443038,0.033391915641476276,0.019968051118210862,0.02442002442002442,0.019834710743801654,0.014676113360323886,0.021377672209026127,0.03088803088803089,0.07036247334754797,0.01898148148148148,0.004104669061056952,0.004548408057179987,0.01330603889457523,0.0036101083032490976,0.06914893617021277,0.019147084421235857,0.002010454362685967,0.014925373134328358,0.016075845012366034,0.009054325955734407,0.03345724907063197,0.008797653958944282,0.017341040462427744,0.013550135501355014,0.010482180293501049,0.030612244897959183,0.0066518847006651885,0.02008310249307479,0.017310252996005325,0.05313092979127135,0.023017902813299233,0.039603960396039604,0.02761795166858458,0.019553072625698324,0.01921229586935639,0.018656716417910446,0.03893575600259572,0.01529051987767584,0.0488997555012225,0.432157394843962,0.04567901234567901,0.023295213892418468,0.03402903811252268,0.08279773156899811,0.03877551020408163,0.023708721422523286,0.023514851485148515,0.03994845360824742,0.029655172413793104,0.012658227848101266,0.050966608084358524,0.02476038338658147,0.02442002442002442,0.019834710743801654,0.029352226720647773,0.03721298495645289,0.1583011583011583,0.021321961620469083,0.03148148148148148,0.01564905079527963,0.05236270753512133,0.011695906432748537,0.04503582395087001,0.016245487364620937,0.03723404255319149,0.030461270670147953,0.1702854845195014,0.1044776119402985,0.01978565539983512,0.013078470824949699,0.0687732342007435,0.02346041055718475,0.06647398843930635,0.005420054200542005,0.027253668763102725,0.030612244897959183,0.09866962305986696,0.037396121883656507,0.05193075898801598,0.018975332068311195,0.06649616368286446,0.01914191419141914,0.012082853855005753,0.0223463687150838,0.01633045148895293,0.048507462686567165,0.012329656067488644,0.00764525993883792,0.017114914425427872,0.012211668928086838,0.08888888888888889,0.015247776365946633,0.01588021778584392,0.02117202268431002,0.0326530612244898,0.026248941574936496,0.019801980198019802,0.019329896907216496,0.012413793103448275,0.0379746835443038,0.026362038664323375,0.013578274760383386,0.045177045177045176,0.03966942148760331,0.02631578947368421,0.0332541567695962,0.015444015444015444,0.01812366737739872,0.010648148148148148,0.00513083632632119,0.001277139208173691,0.014944769330734242,0.03991811668372569,0.01444043321299639,0.0199468085106383,0.07049608355091384,0.008443908323281062,0.033800494641384994,0.03621730382293763,0.00929368029739777,0.002932551319648094,0.002890173410404624,0.03773584905660377,0.02040816326530612,0.007760532150776054,0.06994459833795014,0.02529960053262317,0.0056925996204933585,0.02557544757033248,0.009240924092409241,0.00805523590333717,0.0111731843575419,0.0067243035542747355,0.011194029850746268,0.01427644386761843,0.04434250764525994,0.007334963325183374,0.006105834464043419,0.013580246913580247,0.08089792460821686,0.009074410163339383,0.011720226843100189,0.0163265306122449,0.0279424216765453,0.008663366336633664,0.015463917525773196,0.01689655172413793,0.02531645569620253,0.0351493848857645,0.016773162939297124,0.014041514041514042,0.009917355371900827,0.03694331983805668,0.019002375296912115,0.003861003861003861,0.0042643923240938165,0.011111111111111112,0.008209338122113904,0.006385696040868455,0.007797270955165692,0.01842374616171955,0.0018050541516245488,0.0026595744680851063,0.00841311285175515,0.009047044632086852,0.029850746268656716,0.03215169002473207,0.013078470824949699,0.013011152416356878,0.011730205278592375,0.014450867052023121,0.008130081300813009,0.025157232704402517,0.01020408163265306,0.019401330376940133,0.013157894736842105,0.007989347536617843,0.007590132827324478,0.011508951406649617,0.02706270627062706,0.012658227848101266,0.04748603351955307,0.03554274735830932,0.029850746268656716,0.01752109020116807,0.024464831804281346,0.018337408312958436,0.008819538670284939,0.020987654320987655,0.02583650995340957,0.12250453720508167,0.012476370510396975,0.022448979591836733,0.02286198137171888,0.026815181518151814,0.019329896907216496,0.04,0.012658227848101266,0.0351493848857645,0.029552715654952075,0.03235653235653236,0.01652892561983471,0.03137651821862348,0.015043547110055424,0.007722007722007722,0.019189765458422176,0.05925925925925926,0.011800923550538737,0.007662835249042145,0.024041585445094216,0.01842374616171955,0.030685920577617327,0.026595744680851064,0.015375689004931825,0.0066344993968636915,0.04477611940298507,0.02019785655399835,0.08048289738430583,0.027881040892193308,0.046242774566473986,0.04336043360433604,0.014675052410901468,0.01020408163265306,0.02771618625277162,0.01592797783933518,0.022636484687083888,0.056925996204933584,0.017902813299232736,0.0165016501650165,0.020713463751438434,0.013966480446927373,0.012487992315081652,0.03731343283582089,0.03958468526930565,0.0672782874617737,0.02444987775061125,0.02103120759837178,0.022222222222222223,0.04193138500635324,0.016333938294010888,0.18941398865784498,0.022448979591836733,0.023708721422523286,0.018564356435643563,0.020618556701030927,0.12586206896551724,0.012658227848101266,0.03866432337434095,0.03035143769968051,0.023809523809523808,0.009917355371900827,0.02327935222672065,0.023752969121140142,0.015444015444015444,0.011727078891257996,0.1,0.013596716264751155,0.04853128991060025,0.03183885640025991,0.033776867963152504,0.010830324909747292,0.02526595744680851,0.025529445894981143,0.025130679533574587,0.014925373134328358,0.01772464962901896,0.008048289738430584,0.03717472118959108,0.017595307917888565,0.03468208092485549,0.005420054200542005,0.014675052410901468,0.030612244897959183,0.052106430155210645,0.02008310249307479,0.02929427430093209,0.007590132827324478,0.030690537084398978,0.007920792079207921,0.0011507479861910242,0.008379888268156424,0.012487992315081652,0.007462686567164179,0.0012978585334198572,0.012232415902140673,0.003667481662591687,0.0047489823609226595,0.006172839506172839,0.007623888182973317,0.009981851179673321,0.006427221172022685,0.061224489795918366,0.009314140558848433,0.004537953795379538,0.007731958762886598,0.004482758620689655,0.012658227848101266,0.008787346221441126,0.00878594249201278,0.008547008547008548,0.008264462809917356,0.0075910931174089065,0.0055423594615993665,0.015444015444015444,0.008528784648187633,0.005092592592592593,0.004361210877373012,0.001277139208173691,0.003248862897985705,0.015353121801432957,0.0018050541516245488,0.007978723404255319,0.0040615027560197275,0.006232408524326498,0.029850746268656716,0.016075845012366034,0.011066398390342052,0.01486988847583643,0.011560693641618497,0.0027100271002710027,0.02040816326530612,0.004988913525498891,0.0110803324099723,0.007989347536617843,0.013282732447817837,0.01278772378516624,0.008580858085808581,0.01093210586881473,0.025139664804469275,0.009606147934678195,0.0037313432835820895,0.022063595068137574,0.0061162079510703364,0.012224938875305624,0.008141112618724558,0.014814814814814815,0.07412113511224058,0.007713248638838476,0.014366729678638942,0.02040816326530612,0.06773920406435224,0.014026402640264026,0.007731958762886598,0.029655172413793104,0.0379746835443038,0.022847100175746926,0.0231629392971246,0.026862026862026864,0.009917355371900827,0.039979757085020245,0.040380047505938245,0.007722007722007722,0.011727078891257996,0.022222222222222223,0.009235505387378143,0.010217113665389528,0.004548408057179987,0.021494370522006142,0.0018050541516245488,0.011968085106382979,0.013344937626921962,0.013067953357458785,0.014925373134328358,0.031327287716405604,0.012072434607645875,0.00929368029739777,0.002932551319648094,0.031791907514450865,0.005420054200542005,0.029350104821802937,0.01020408163265306,0.017184035476718405,0.009695290858725761,0.017310252996005325,0.007590132827324478,0.020460358056265986,0.09768976897689768,0.02243958573072497,0.05865921787709497,0.01536983669548511,0.07462686567164178,0.031148604802076575,0.027522935779816515,0.040342298288508556,0.014246947082767978,0.02345679012345679,0.01736552308343922,0.04083484573502722,0.0223062381852552,0.02857142857142857,0.027095681625740897,0.20255775577557755,0.03479381443298969,0.011724137931034483,0.012658227848101266,0.02460456942003515,0.01757188498402556,0.03296703296703297,0.023140495867768594,0.023785425101214574,0.030878859857482184,0.007722007722007722,0.028784648187633263,0.016203703703703703,0.008465879938429965,0.010396361273554255,0.028659160696008188,0.007220216606498195,0.05053191489361702,0.021467943138961415,0.006031363088057901,0.014925373134328358,0.028854080791426217,0.025150905432595575,0.03531598513011153,0.008797653958944282,0.008670520231213872,0.016260162601626018,0.05241090146750524,0.01020408163265306,0.01385809312638581,0.03393351800554017,0.03861517976031957,0.017077798861480076,0.023017902813299233,0.033003300330033,0.037399309551208286,0.01675977653631285,0.012487992315081652,0.011194029850746268,0.024010382868267358,0.012232415902140673,0.029339853300733496,0.03867028493894165,0.02345679012345679,0.017789072426937738,0.05172413793103448,0.022684310018903593,0.03469387755102041,0.017781541066892465,0.02103960396039604,0.23840206185567012,0.005517241379310344,0.012658227848101266,0.026362038664323375,0.0231629392971246,0.013431013431013432,0.01818181818181818,0.02125506072874494,0.03167062549485352,0.04247104247104247,0.010660980810234541,0.019444444444444445,0.038481272447408926,0.020434227330779056,0.016894087069525665,0.02354145342886387,0.009025270758122744,0.02526595744680851,0.018276762402088774,0.016083634901487735,0.05970149253731343,0.018136850783182192,0.026156941649899398,0.01486988847583643,0.005865102639296188,0.014450867052023121,0.013550135501355014,0.012578616352201259,0.05102040816326531,0.03048780487804878,0.024930747922437674,0.033288948069241014,0.013282732447817837,0.029411764705882353,0.010561056105610561,0.007479861910241657,0.0111731843575419,0.008645533141210375,0.011194029850746268,0.04218040233614536,0.04128440366972477,0.006112469437652812,0.012211668928086838,0.02962962962962963,0.04066073697585769,0.023139745916515426,0.0665406427221172,0.026530612244897958,0.01693480101608806,0.013201320132013201,0.01804123711340206,0.19724137931034483,0.02531645569620253,0.019332161687170474,0.022364217252396165,0.007326007326007326,0.01487603305785124,0.019230769230769232,0.013460015835312747,0.019305019305019305,0.014925373134328358,0.07407407407407407,0.0030785017957927143,0.001277139208173691,0.043534762833008445,0.02354145342886387,0.005415162454873646,0.0199468085106383,0.023788801856686973,0.02814636107760354,0.04477611940298507,0.01731244847485573,0.005030181086519115,0.011152416356877323,0.017595307917888565,0.005780346820809248,0.008130081300813009,0.029350104821802937,0.01020408163265306,0.03215077605321508,0.01592797783933518,0.015978695073235686,0.009487666034155597,0.017902813299232736,0.005280528052805281,0.0017261219792865361,0.0009606147934678194,0.0037313432835820895,0.003893575600259572,0.0045871559633027525,0.003667481662591687,0.006105834464043419,0.003703703703703704,0.004659042778483694,0.006352087114337568,0.009829867674858222,0.004081632653061225,0.000846740050804403,0.0033003300330033004,0.001288659793814433,0.003793103448275862,0.20253164556962025,0.0017574692442882249,0.004884004884004884,0.006611570247933884,0.0025303643724696357,0.003167062549485352,0.008528784648187633,0.006481481481481481,0.0002565418163160595,0.001299545159194282,0.0010235414534288639,0.0013297872340425532,0.0040615027560197275,0.0006031363088057901,0.00247320692497939,0.007434944237918215,0.002932551319648094,0.002890173410404624,0.0020964360587002098,0.004434589800443459,0.002770083102493075,0.0013315579227696406,0.009487666034155597,0.005115089514066497,0.0026402640264026403,0.004602991944764097,0.008379888268156424,0.007684918347742555,0.0037313432835820895,0.015574302401038288,0.012232415902140673,0.0012224938875305623,0.0027137042062415195,0.003703703703703704,0.027530707327403644,0.012704174228675136,0.001890359168241966,0.0020408163265306124,0.018628281117696866,0.0049504950495049506,0.002577319587628866,0.04,0.07557117750439367,0.03035143769968051,0.01098901098901099,0.01652892561983471,0.026821862348178137,0.021377672209026127,0.003861003861003861,0.0021321961620469083,0.014351851851851852,0.0035915854284248334,0.006385696040868455,0.00649772579597141,0.0040941658137154556,0.0018050541516245488,0.0026595744680851063,0.0026109660574412533,0.01347004422999598,0.015251442704039572,0.0030181086519114686,0.0055762081784386614,0.005780346820809248,0.005420054200542005,0.027253668763102725,0.009977827050997782,0.002770083102493075,0.0018975332068311196,0.00639386189258312,0.030363036303630363,0.025891829689298044,0.061452513966480445,0.04707012487992315,0.029850746268656716,0.025308241401687217,0.02599388379204893,0.017114914425427872,0.015603799185888738,0.027160493827160494,0.020330368487928845,0.029038112522686024,0.01890359168241966,0.044897959183673466,0.029635901778154106,0.026402640264026403,0.028350515463917526,0.01689655172413793,0.014059753954305799,0.19249201277955272,0.028083028083028084,0.03471074380165289,0.020242914979757085,0.02929532858273951,0.03088803088803089,0.03411513859275053,0.027777777777777776,0.028732683427398667,0.016602809706257982,0.012345679012345678,0.03172978505629478,0.04512635379061372,0.02925531914893617,0.02291847983753989,0.011057498994772819,0.029850746268656716,0.02720527617477329,0.023138832997987926,0.031598513011152414,0.011730205278592375,0.031791907514450865,0.06775067750677506,0.012578616352201259,0.030612244897959183,0.03270509977827051,0.029085872576177285,0.02929427430093209,0.05502846299810247,0.058823529411764705,0.036963696369636964,0.02186421173762946,0.05865921787709497,0.01440922190201729,0.041044776119402986,0.014925373134328358,0.012232415902140673,0.023227383863080684,0.0067842605156037995,0.030864197530864196,0.024989411266412537,0.020871143375680582,0.021928166351606805,0.04081632653061224,0.06689246401354784,0.028465346534653466,0.014175257731958763,0.01689655172413793,0.02531645569620253,0.054481546572934976,0.027156549520766772,0.1336996336996337,0.013223140495867768,0.026821862348178137,0.027711797307996833,0.015444015444015444,0.021321961620469083,0.014351851851851852,0.020266803488968702,0.005108556832694764,0.010396361273554255,0.02661207778915046,0.018050541516245487,0.0199468085106383,0.02349869451697128,0.0066344993968636915,0.014925373134328358,0.03297609233305853,0.047283702213279676,0.016728624535315983,0.005865102639296188,0.011560693641618497,0.005420054200542005,0.039832285115303984,0.01020408163265306,0.01164079822616408,0.04224376731301939,0.013315579227696404,0.017077798861480076,0.026854219948849106,0.005940594059405941,0.004027617951668585,0.0223463687150838,0.07492795389048991,0.014925373134328358,0.011680726800778715,0.010703363914373088,0.014669926650366748,0.006105834464043419,0.014814814814814815,0.006776789495976281,0.009981851179673321,0.009829867674858222,0.022448979591836733,0.009314140558848433,0.010313531353135313,0.003865979381443299,0.006896551724137931,0.02531645569620253,0.014059753954305799,0.009584664536741214,0.01282051282051282,0.20330578512396694,0.009109311740890687,0.007125890736342043,0.007722007722007722,0.010660980810234541,0.008333333333333333,0.0038481272447408927,0.002554278416347382,0.004548408057179987,0.012282497441146366,0.007220216606498195,0.009308510638297872,0.017406440382941687,0.0016083634901487736,0.008244023083264633,0.004024144869215292,0.011152416356877323,0.002932551319648094,0.002890173410404624,0.04065040650406504,0.014675052410901468,0.04081632653061224,0.0066518847006651885,0.01731301939058172,0.011984021304926764,0.013282732447817837,0.014066496163682864,0.008580858085808581,0.009781357882623706,0.013966480446927373,0.009606147934678195,0.007462686567164179,0.009085009733939001,0.0061162079510703364,0.006112469437652812,0.0067842605156037995,0.018518518518518517,0.053367217280813214,0.009981851179673321,0.01625708884688091,0.022448979591836733,0.07874682472480948,0.010313531353135313,0.007731958762886598,0.012413793103448275,0.05063291139240506,0.056239015817223195,0.013578274760383386,0.016483516483516484,0.008264462809917356,0.08704453441295547,0.07838479809976247,0.02702702702702703,0.010660980810234541,0.011574074074074073,0.009748589020010261,0.008939974457215836,0.011695906432748537,0.02456499488229273,0.0036101083032490976,0.017287234042553192,0.008123005512039455,0.010655408122235626,0.014925373134328358,0.023495465787304205,0.013078470824949699,0.0037174721189591076,0.017595307917888565,0.014450867052023121,0.01084010840108401,0.03563941299790356,0.01020408163265306,0.026053215077605323,0.014542936288088643,0.022636484687083888,0.0056925996204933585,0.015345268542199489,0.01782178217821782,0.01726121979286536,0.025139664804469275,0.0067243035542747355,0.011194029850746268,0.016223231667748216,0.00764525993883792,0.008557457212713936,0.012211668928086838,0.01728395061728395,0.023718763235916984,0.015426497277676952,0.017013232514177693,0.018367346938775512,0.07705334462320068,0.01608910891089109,0.01804123711340206,0.005172413793103448,0.0379746835443038,0.056239015817223195,0.027955271565495207,0.027472527472527472,0.01487603305785124,0.048582995951417005,0.12826603325415678,0.03088803088803089,0.006396588486140725,0.010185185185185186,0.013596716264751155,0.006385696040868455,0.04483430799220273,0.02354145342886387,0.0018050541516245488,0.011968085106382979,0.011314186248912098,0.012464817048652996,0.018961253091508656,0.01609657947686117,0.011152416356877323,0.005865102639296188,0.017341040462427744,0.01084010840108401,0.05660377358490566,0.02040816326530612,0.019955654101995565,0.006925207756232687,0.02130492676431425,0.011508951406649617,0.0026402640264026403,0.0023014959723820483,0.0038424591738712775,0.007462686567164179,0.011031797534068787,0.013761467889908258,0.003667481662591687,0.016960651289009497,0.008641975308641974,0.005082592121982211,0.008620689655172414,0.009073724007561436,0.004081632653061225,0.003386960203217612,0.0033003300330033004,0.005154639175257732,0.005172413793103448,0.012658227848101266,0.01054481546572935,0.005591054313099041,0.003663003663003663,0.003305785123966942,0.00708502024291498,0.00395882818685669,0.06177606177606178,0.0010660980810234541,0.010648148148148148,0.0007696254489481786,0.002554278416347382,0.003898635477582846,0.006141248720573183,0.0036101083032490976,0.007978723404255319,0.006672468813460981,0.03437876960193004,0.029850746268656716,0.008656224237427864,0.005030181086519115,0.00929368029739777,0.008130081300813009,0.006289308176100629,0.01020408163265306,0.03436807095343681,0.009695290858725761,0.011984021304926764,0.003795066413662239,0.00639386189258312,0.02178217821782178,0.014959723820483314,0.025139664804469275,0.005763688760806916,0.026119402985074626,0.011680726800778715,0.0030581039755351682,0.02689486552567237,0.009497964721845319,0.01728395061728395,0.007200338839474798,0.03539019963702359,0.018525519848771266,0.026530612244897958,0.00846740050804403,0.02929042904290429,0.011597938144329897,0.008275862068965517,0.02531645569620253,0.008787346221441126,0.013578274760383386,0.029304029304029304,0.02809917355371901,0.011133603238866396,0.01583531274742676,0.015444015444015444,0.2515991471215352,0.00787037037037037,0.0030785017957927143,0.008939974457215836,0.009746588693957114,0.022517911975435005,0.0036101083032490976,0.03723404255319149,0.020017406440382943,0.004422999597909127,0.029850746268656716,0.012778235779060182,0.01006036217303823,0.026022304832713755,0.002932551319648094,0.011560693641618497,0.01084010840108401,0.010482180293501049,0.01020408163265306,0.007206208425720621,0.03254847645429363,0.010652463382157125,0.07020872865275142,0.016624040920716114,0.013201320132013201,0.00805523590333717,0.025139664804469275,0.012487992315081652,0.022388059701492536,0.027903958468526932,0.0290519877675841,0.012224938875305624,0.014246947082767978,0.022222222222222223,0.030072003388394747,0.010889292196007259,0.036294896030245744,0.01020408163265306,0.02032176121930567,0.01155115511551155,0.019329896907216496,0.03413793103448276,0.02531645569620253,0.026362038664323375,0.0231629392971246,0.014041514041514042,0.008264462809917356,0.02783400809716599,0.022961203483768806,0.02702702702702703,0.010660980810234541,0.0875,0.011800923550538737,0.024265644955300127,0.01949317738791423,0.019447287615148412,0.009025270758122744,0.011968085106382979,0.010443864229765013,0.016284680337756333,0.029850746268656716,0.010305028854080791,0.013078470824949699,0.011152416356877323,0.017595307917888565,0.014450867052023121,0.0027100271002710027,0.008385744234800839,0.02040816326530612,0.04379157427937916,0.013850415512465374,0.02663115845539281,0.003795066413662239,0.023017902813299233,0.050165016501650166,0.1904487917146145,0.002793296089385475,0.013448607108549471,0.05223880597014925,0.03893575600259572,0.019877675840978593,0.008557457212713936,0.008141112618724558,0.008641975308641974,0.013553578991952562,0.02722323049001815,0.011342155009451797,0.004081632653061225,0.018628281117696866,0.018151815181518153,0.09407216494845361,0.024482758620689656,0.012658227848101266,0.01054481546572935,0.038338658146964855,0.026251526251526252,0.01487603305785124,0.020242914979757085,0.01741884402216944,0.019305019305019305,0.011727078891257996,0.014351851851851852,0.36454592098512056,0.033205619412515965,0.007147498375568551,0.01330603889457523,0.005415162454873646,0.02526595744680851,0.019727299100667246,0.007036590269400885,0.00989282769991756,0.03118712273641851,0.031598513011152414,0.002932551319648094,0.04336043360433604,0.008385744234800839,0.02040816326530612,0.017738359201773836,0.01038781163434903,0.017310252996005325,0.009487666034155597,0.017902813299232736,0.007260726072607261,0.0011507479861910242,0.003667481662591687,0.007462686567164179,0.006172839506172839,0.00847098686997035,0.00045372050816696913,0.005293005671077505,0.000846740050804403,0.00041254125412541255,0.007731958762886598,0.0017241379310344827,0.0017574692442882249,0.0023961661341853034,0.001221001221001221,0.001652892561983471,0.006578947368421052,0.0010660980810234541,0.002777777777777778,0.0012827090815802976,0.6194125159642401,0.001949317738791423,0.0030706243602865915,0.0017406440382941688,0.0010052271813429834,0.001236603462489695,0.002012072434607646,0.002932551319648094,0.0020964360587002098,0.0016629711751662971,0.002077562326869806,0.0013315579227696406,0.0018975332068311196,0.00639386189258312,0.010561056105610561,0.007479861910241657,0.025139664804469275,0.0067243035542747355,0.026119402985074626,0.020116807268007787,0.03669724770642202,0.008557457212713936,0.0067842605156037995,0.024691358024691357,0.02964845404489623,0.022686025408348458,0.023440453686200378,0.014285714285714285,0.02540220152413209,0.00825082508250825,0.015463917525773196,0.033448275862068964,0.007029876977152899,0.02156549520766773,0.010378510378510378,0.023140495867768594,0.025303643724696356,0.018210609659540775,0.007722007722007722,0.009594882729211088,0.022685185185185187,0.0028219599794766545,0.002554278416347382,0.1663417803768681,0.019447287615148412,0.0018050541516245488,0.018617021276595744,0.013054830287206266,0.021109770808202654,0.02267106347897774,0.01609657947686117,0.011152416356877323,0.008797653958944282,0.008670520231213872,0.0027100271002710027,0.020964360587002098,0.027161862527716185,0.02077562326869806,0.017310252996005325,0.007590132827324478,0.016624040920716114,0.0046204620462046205,0.006904487917146145,0.019553072625698324,0.008645533141210375,0.018656716417910446,0.008436080467229072,0.01834862385321101,0.011002444987775062,0.007462686567164179,0.025925925925925925,0.054637865311308764,0.007713248638838476,0.012098298676748583,0.07142857142857142,0.028789161727349702,0.007425742574257425,0.010309278350515464,0.019655172413793102,0.012658227848101266,0.01757469244288225,0.011182108626198083,0.01098901098901099,0.009917355371900827,0.02125506072874494,0.015043547110055424,0.011583011583011582,0.008528784648187633,0.014814814814814815,0.007439712673165726,0.002554278416347382,0.01364522417153996,0.1299897645854657,0.005415162454873646,0.02127659574468085,0.015375689004931825,0.007438681141938078,0.014925373134328358,0.06224237427864798,0.01006036217303823,0.0055762081784386614,0.005865102639296188,0.008670520231213872,0.008130081300813009,0.027253668763102725,0.010532150776053215,0.022853185595567867,0.02529960053262317,0.0018975332068311196,0.06521739130434782,0.0019801980198019802,0.0011507479861910242,0.0111731843575419,0.021133525456292025,0.001946787800129786,0.009174311926605505,0.003667481662591687,0.0027137042062415195,0.0049382716049382715,0.004235493434985175,0.002268602540834846,0.004536862003780718,0.006122448979591836,0.002540220152413209,0.0033003300330033004,0.005154639175257732,0.0010344827586206897,0.0035149384885764497,0.023961661341853034,0.007936507936507936,0.003305785123966942,0.0020242914979757085,0.0055423594615993665,0.003861003861003861,0.005330490405117271,0.04212962962962963,0.000513083632632119,0.004548408057179987,0.006141248720573183,0.5018050541516246,0.006648936170212766,0.0034812880765883376,0.0018094089264173703,0.029850746268656716,0.00494641384995878,0.002012072434607646,0.0037174721189591076,0.002932551319648094,0.002890173410404624,0.037940379403794036,0.010482180293501049,0.004988913525498891,0.004155124653739612,0.009320905459387484,0.011385199240986717,0.011508951406649617,0.019801980198019802,0.006904487917146145,0.025139664804469275,0.005763688760806916,0.022388059701492536,0.02465931213497729,0.009174311926605505,0.07334963325183375,0.007462686567164179,0.014814814814814815,0.013130029648454045,0.030399274047186932,0.020415879017013232,0.022448979591836733,0.013547840812870448,0.026815181518151814,0.011597938144329897,0.011724137931034483,0.012302284710017574,0.007987220447284345,0.017094017094017096,0.013223140495867768,0.010121457489878543,0.009501187648456057,0.007722007722007722,0.029850746268656716,0.016666666666666666,0.0030785017957927143,0.002554278416347382,0.018193632228719947,0.016376663254861822,0.010830324909747292,0.10904255319148937,0.013635044966637656,0.012062726176115802,0.014925373134328358,0.009480626545754328,0.004024144869215292,0.013011152416356878,0.002932551319648094,0.002890173410404624,0.005420054200542005,0.010482180293501049,0.01020408163265306,0.010532150776053215,0.02146814404432133,0.02130492676431425,0.022770398481973434,0.017902813299232736,0.025082508250825083,0.031070195627157654,0.05865921787709497,0.021133525456292025,0.07835820895522388,0.021414665801427646,0.0061162079510703364,0.037897310513447434,0.0203527815468114,0.12469135802469136,0.021601016518424398,0.02041742286751361,0.03364839319470699,0.024489795918367346,0.04657070279424217,0.03506600660066007,0.03221649484536082,0.016206896551724137,0.08860759493670886,0.022847100175746926,0.018370607028753993,0.06043956043956044,0.04297520661157025,0.023785425101214574,0.0395882818685669,0.011583011583011582,0.017057569296375266,0.0125,0.030271934325295024,0.011494252873563218,0.017543859649122806,0.04708290685772774,0.009025270758122744,0.031914893617021274,0.25877574702639977,0.0056292722155207075,0.04477611940298507,0.038746908491343775,0.02112676056338028,0.020446096654275093,0.011730205278592375,0.008670520231213872,0.02710027100271003,0.05870020964360587,0.09183673469387756,0.022172949002217297,0.12950138504155126,0.045272969374167776,0.009487666034155597,0.05115089514066496,0.009900990099009901,0.007479861910241657,0.013966480446927373,0.0019212295869356388,0.022388059701492536,0.029850746268656716,0.0015290519877675841,0.02567237163814181,0.09226594301221167,0.019753086419753086,0.01609487505294367,0.019509981851179675,0.017391304347826087,0.014285714285714285,0.010160880609652836,0.010726072607260726,0.007731958762886598,0.015862068965517243,0.012658227848101266,0.022847100175746926,0.00878594249201278,0.003663003663003663,0.026446280991735537,0.016194331983805668,0.02058590657165479,0.0694980694980695,0.014925373134328358,0.02546296296296296,0.0035915854284248334,0.011494252873563218,0.01299545159194282,0.007164790174002047,0.0036101083032490976,0.015957446808510637,0.011604293588627792,0.09408926417370325,0.04477611940298507,0.01236603462489695,0.0030181086519114686,0.024163568773234202,0.002932551319648094,0.017341040462427744,0.010482180293501049,0.02040816326530612,0.04767184035476718,0.022853185595567867,0.017310252996005325,0.007590132827324478,0.023017902813299233,0.007260726072607261,0.0011507479861910242,0.002793296089385475,0.0009606147934678194,0.007462686567164179,0.018170019467878003,0.0290519877675841,0.004889975550122249,0.004070556309362279,0.008641975308641974,0.0021177467174925877,0.004990925589836661,0.003402646502835539,0.0020408163265306124,0.002540220152413209,0.0028877887788778876,0.005154639175257732,0.0020689655172413794,0.0035149384885764497,0.007987220447284345,0.0030525030525030525,0.0049586776859504135,0.0025303643724696357,0.0042643923240938165,0.002777777777777778,0.0015392508978963571,0.002599090318388564,0.0020470829068577278,0.003989361702127659,0.010153756890049319,0.0006031363088057901,0.029850746268656716,0.001236603462489695,0.001006036217303823,0.002932551319648094,0.002890173410404624,0.005420054200542005,0.0020964360587002098,0.008314855875831485,0.002077562326869806,0.0013315579227696406,0.0018975332068311196,0.005115089514066497,0.012541254125412541,0.006329113924050633,0.019553072625698324,0.004803073967339097,0.022388059701492536,0.009085009733939001,0.0015290519877675841,0.012224938875305624,0.0047489823609226595,0.01728395061728395,0.010165184243964422,0.0054446460980036296,0.015122873345935728,0.036734693877551024,0.01693480101608806,0.013613861386138614,0.02190721649484536,0.008275862068965517,0.01054481546572935,0.00718849840255591,0.014652014652014652,0.013223140495867768,0.011133603238866396,0.00870942201108472,0.019305019305019305,0.009594882729211088,0.005092592592592593,0.0033350436121087736,0.001277139208173691,0.007147498375568551,0.021494370522006142,0.010830324909747292,0.007978723404255319,0.011894400928343487,0.0022114997989545635,0.014925373134328358,0.048227535037098104,0.006036217303822937,0.0018587360594795538,0.005865102639296188,0.002890173410404624,0.005420054200542005,0.008385744234800839,0.005543237250554324,0.013850415512465374,0.005326231691078562,0.003795066413662239,0.03324808184143223,0.009900990099009901,0.007479861910241657,0.019553072625698324,0.004803073967339097,0.0037313432835820895,0.005191434133679429,0.0045871559633027525,0.003667481662591687,0.0006784260515603799,0.014814814814814815,0.007200338839474798,0.04083484573502722,0.006427221172022685,0.0163265306122449,0.018628281117696866,0.007013201320132013,0.01288659793814433,0.007586206896551724,0.008787346221441126,0.009584664536741214,0.018925518925518924,0.009917355371900827,0.013663967611336033,0.011876484560570071,0.006396588486140725,0.006944444444444444,0.0048742945100051305,0.007662835249042145,0.009096816114359974,0.01023541453428864,0.021660649819494584,0.010638297872340425,0.011604293588627792,0.0036188178528347406,0.007007419620774938,0.19718309859154928,0.0037174721189591076,0.005780346820809248,0.005420054200542005,0.020964360587002098,0.01020408163265306,0.011086474501108648,0.01592797783933518,0.019973368841544607,0.00639386189258312,0.0039603960396039604,0.0017261219792865361,0.00558659217877095,0.021133525456292025,0.0012978585334198572,0.0024449877750611247,0.0006784260515603799,0.003703703703703704,0.0008470986869970351,0.0054446460980036296,0.0026465028355387526,0.001693480101608806,0.004125412541254125,0.005154639175257732,0.0020689655172413794,0.0017574692442882249,0.006389776357827476,0.004884004884004884,0.0049586776859504135,0.0020242914979757085,0.001583531274742676,0.003861003861003861,0.0042643923240938165,0.003703703703703704,0.0012827090815802976,0.001949317738791423,0.0030706243602865915,0.0018050541516245488,0.0013297872340425532,0.006382361473745286,0.0004020908725371934,0.014925373134328358,0.0016488046166529267,0.001006036217303823,0.2174721189591078,0.02601156069364162,0.02168021680216802,0.012578616352201259,0.004988913525498891,0.0034626038781163434,0.0013315579227696406,0.013282732447817837,0.005115089514066497,0.0033003300330033004,0.0011507479861910242,0.0009606147934678194,0.001946787800129786,0.05990220048899755,0.004070556309362279,0.0012345679012345679,0.0008470986869970351,0.02586206896551724,0.003780718336483932,0.004233700254022015,0.00041254125412541255,0.0010344827586206897,0.0017574692442882249,0.0023961661341853034,0.0018315018315018315,0.001652892561983471,0.003036437246963563,0.001583531274742676,0.026652452025586353,0.001388888888888889,0.0017957927142124167,0.002599090318388564,0.0010235414534288639,0.0036101083032490976,0.005319148936170213,0.001450536698578474,0.0008041817450743868,0.0008244023083264633,0.004024144869215292,0.016728624535315983,0.002932551319648094,0.3439306358381503,0.039832285115303984,0.003880266075388027,0.0006925207756232687,0.0013315579227696406,0.0018975332068311196,0.0013201320132013201,0.005178365937859608,0.0111731843575419,0.08357348703170028,0.011194029850746268,0.03439325113562622,0.11162079510703364,0.0012224938875305623,0.0047489823609226595,0.0024691358024691358,0.004235493434985175,0.010889292196007259,0.0060491493383742915,0.014285714285714285,0.002540220152413209,0.004537953795379538,0.006443298969072165,0.014137931034482758,0.012658227848101266,0.012302284710017574,0.016773162939297124,0.004884004884004884,0.01652892561983471,0.02277327935222672,0.0023752969121140144,0.007722007722007722,0.005330490405117271,0.022222222222222223,0.0038481272447408927,0.005108556832694764,0.016894087069525665,0.011258955987717503,0.021660649819494584,0.009308510638297872,0.007832898172323759,0.009650180940892641,0.0053586150041220115,0.020446096654275093,0.008797653958944282,0.02601156069364162,0.18699186991869918,0.0041928721174004195,0.01020408163265306,0.012195121951219513,0.007617728531855956,0.014647137150466045,0.017077798861480076,0.0038363171355498722,0.0013201320132013201,0.0111731843575419,0.002881844380403458,0.0025957170668397143,0.0015290519877675841,0.003667481662591687,0.0027137042062415195,0.0049382716049382715,0.00847098686997035,0.002268602540834846,0.004536862003780718,0.004081632653061225,0.007620660457239628,0.0016501650165016502,0.007731958762886598,0.003793103448275862,0.012658227848101266,0.0035149384885764497,0.003194888178913738,0.002442002442002442,0.005566801619433198,0.0166270783847981,0.0021321961620469083,0.003703703703703704,0.0015392508978963571,0.002554278416347382,0.18323586744639375,0.0040941658137154556,0.0018050541516245488,0.0026595744680851063,0.0023208587177255585,0.0022114997989545635,0.00494641384995878,0.007042253521126761,0.002932551319648094,0.002890173410404624,0.010482180293501049,0.15306122448979592,0.007760532150776054,0.00554016620498615,0.002663115845539281,0.0018975332068311196,0.0025575447570332483,0.01914191419141914,0.020713463751438434,0.0223463687150838,0.013448607108549471,0.007462686567164179,0.03244646333549643,0.01834862385321101,0.023227383863080684,0.03934871099050204,0.025925925925925925,0.023718763235916984,0.02132486388384755,0.0332703213610586,0.030612244897959183,0.016088060965283656,0.009900990099009901,0.019329896907216496,0.017586206896551725,0.012658227848101266,0.028119507908611598,0.01597444089456869,0.014041514041514042,0.003305785123966942,0.020748987854251014,0.027711797307996833,0.08108108108108109,0.009594882729211088,0.01898148148148148,0.007696254489481785,0.01532567049808429,0.01299545159194282,0.02354145342886387,0.0018050541516245488,0.026595744680851064,0.020887728459530026,0.036992360273421794,0.014925373134328358,0.014014839241549877,0.009054325955734407,0.01858736059479554,0.01466275659824047,0.04046242774566474,0.013550135501355014,0.020964360587002098,0.10144124168514412,0.02008310249307479,0.018641810918774968,0.007590132827324478,0.017902813299232736,0.018481848184818482,0.01668584579976985,0.019553072625698324,0.008645533141210375,0.022388059701492536,0.007787151200519144,0.028117359413202935,0.010854816824966078,0.04938271604938271,0.013130029648454045,0.019056261343012703,0.012098298676748583,0.0163265306122449,0.01693480101608806,0.01773927392739274,0.015463917525773196,0.0034482758620689655,0.01054481546572935,0.010383386581469648,0.03663003663003663,0.02809917355371901,0.01720647773279352,0.019002375296912115,0.03088803088803089,0.0255863539445629,0.006481481481481481,0.012314007183170857,0.002554278416347382,0.008447043534762833,0.017400204708290685,0.018050541516245487,0.023936170212765957,0.05976211198143313,0.0016083634901487736,0.016900247320692497,0.03319919517102616,0.011152416356877323,0.005865102639296188,0.023121387283236993,0.005420054200542005,0.020964360587002098,0.04081632653061224,0.011086474501108648,0.06301939058171745,0.009320905459387484,0.009487666034155597,0.017902813299232736,0.015841584158415842,0.03394706559263521,0.030726256983240222,0.024975984630163303,0.029850746268656716,0.06164828033744322,0.05657492354740061,0.02078239608801956,0.021709633649932156,0.030864197530864196,0.041084286319356206,0.027676950998185117,0.01890359168241966,0.02857142857142857,0.03895004233700254,0.01608910891089109,0.01288659793814433,0.038620689655172416,0.0379746835443038,0.029876977152899824,0.04073482428115016,0.040293040293040296,0.023140495867768594,0.04959514170040486,0.035629453681710214,0.023166023166023165,0.022388059701492536,0.059722222222222225,0.024371472550025655,0.017879948914431672,0.056530214424951264,0.028659160696008188,0.039711191335740074,0.027925531914893616,0.024369016536118365,0.028950542822677925,0.07462686567164178,0.06183017312448475,0.04426559356136821,0.020446096654275093,0.01466275659824047,0.005780346820809248,0.013550135501355014,0.06079664570230608,0.02040816326530612,0.03048780487804878,0.03393351800554017,0.19840213049267644,0.022770398481973434,0.03964194373401535,0.01914191419141914,0.014959723820483314,0.013966480446927373,0.02881844380403458,0.048507462686567165,0.006489292667099286,0.0061162079510703364,0.035452322738386305,0.008819538670284939,0.009876543209876543,0.0063532401524777635,0.028130671506352088,0.013610586011342156,0.01020408163265306,0.007620660457239628,0.03217821782178218,0.015463917525773196,0.006551724137931035,0.02531645569620253,0.01054481546572935,0.015175718849840255,0.021367521367521368,0.013223140495867768,0.006578947368421052,0.011876484560570071,0.023166023166023165,0.05863539445628998,0.009259259259259259,0.002308876346844536,0.001277139208173691,0.001949317738791423,0.02968270214943705,0.02527075812274368,0.031914893617021274,0.010443864229765013,0.0012062726176115801,0.029850746268656716,0.004534212695795548,0.012072434607645875,0.026022304832713755,0.005865102639296188,0.005780346820809248,0.018970189701897018,0.0020964360587002098,0.02040816326530612,0.009423503325942351,0.014542936288088643,0.019973368841544607,0.32637571157495254,0.010230179028132993,0.025082508250825083,0.005178365937859608,0.019553072625698324,0.022094140249759846,0.0037313432835820895,0.016223231667748216,0.012232415902140673,0.01589242053789731,0.012211668928086838,0.018518518518518517,0.01397712833545108,0.015426497277676952,0.020793950850661626,0.03469387755102041,0.016088060965283656,0.01608910891089109,0.027061855670103094,0.013448275862068966,0.05063291139240506,0.01054481546572935,0.01757188498402556,0.027472527472527472,0.019834710743801654,0.014676113360323886,0.01741884402216944,0.011583011583011582,0.017057569296375266,0.014351851851851852,0.008978963571062083,0.005108556832694764,0.008447043534762833,0.0511770726714432,0.007220216606498195,0.0199468085106383,0.014215259646069046,0.005830317651789305,0.029850746268656716,0.03833470733718054,0.01006036217303823,0.016728624535315983,0.005865102639296188,0.014450867052023121,0.027253668763102725,0.030612244897959183,0.018847006651884702,0.02146814404432133,0.015978695073235686,0.020872865275142316,0.06777493606138107,0.0011507479861910242,0.0012978585334198572,0.0015290519877675841,0.0024449877750611247,0.0006784260515603799,0.0021177467174925877,0.003629764065335753,0.0026465028355387526,0.004233700254022015,0.0024752475247524753,0.0017241379310344827,0.0035149384885764497,0.001597444089456869,0.003663003663003663,0.0049586776859504135,0.0010121457489878543,0.001583531274742676,0.003703703703703704,0.0002565418163160595,0.001299545159194282,0.0010235414534288639,0.0018050541516245488,0.0011604293588627793,0.0004020908725371934,0.002061005770816158,0.001006036217303823,0.6862170087976539,0.002890173410404624,0.004988913525498891,0.0039946737683089215,0.0012787723785166241,0.0023014959723820483,0.0009606147934678194,0.005191434133679429,0.0030581039755351682,0.0013568521031207597,0.0024691358024691358,0.048284625158831,0.0026465028355387526,0.006122448979591836,0.01100762066045724,0.0012376237623762376,0.004827586206896552,0.008787346221441126,0.013578274760383386,0.004273504273504274,0.01720647773279352,0.00791765637371338,0.007722007722007722,0.0010660980810234541,0.005092592592592593,0.0015392508978963571,0.001949317738791423,0.0040941658137154556,0.003989361702127659,0.0034812880765883376,0.004221954161640531,0.0032976092333058533,0.004024144869215292,0.0037174721189591076,0.0027100271002710027,0.03773584905660377,0.002771618625277162,0.004847645429362881,0.0013315579227696406,0.003795066413662239,0.0012787723785166241,0.0019212295869356388,0.0012978585334198572,0.06422018348623854,0.0024691358024691358,0.0025412960609911056,0.00045372050816696913,0.0020408163265306124,0.003386960203217612,0.00041254125412541255,0.000689655172413793,0.0017574692442882249,0.0023961661341853034,0.0018315018315018315,0.0015182186234817814,0.003167062549485352,0.007722007722007722,0.0010660980810234541,0.001851851851851852,0.0017957927142124167,0.001277139208173691,0.000649772579597141,0.0010235414534288639,0.0013297872340425532,0.0005802146794313896,0.29412947326095695,0.12654575432811213,0.001006036217303823,0.0027100271002710027,0.022727272727272728,0.0013850415512465374,0.0012787723785166241],\"xaxis\":\"x\",\"yaxis\":\"y\",\"type\":\"histogram\"}],                        {\"barmode\":\"relative\",\"legend\":{\"title\":{\"text\":\"variable\"},\"tracegroupgap\":0},\"template\":{\"data\":{\"barpolar\":[{\"marker\":{\"line\":{\"color\":\"#E5ECF6\",\"width\":0.5},\"pattern\":{\"fillmode\":\"overlay\",\"size\":10,\"solidity\":0.2}},\"type\":\"barpolar\"}],\"bar\":[{\"error_x\":{\"color\":\"#2a3f5f\"},\"error_y\":{\"color\":\"#2a3f5f\"},\"marker\":{\"line\":{\"color\":\"#E5ECF6\",\"width\":0.5},\"pattern\":{\"fillmode\":\"overlay\",\"size\":10,\"solidity\":0.2}},\"type\":\"bar\"}],\"carpet\":[{\"aaxis\":{\"endlinecolor\":\"#2a3f5f\",\"gridcolor\":\"white\",\"linecolor\":\"white\",\"minorgridcolor\":\"white\",\"startlinecolor\":\"#2a3f5f\"},\"baxis\":{\"endlinecolor\":\"#2a3f5f\",\"gridcolor\":\"white\",\"linecolor\":\"white\",\"minorgridcolor\":\"white\",\"startlinecolor\":\"#2a3f5f\"},\"type\":\"carpet\"}],\"choropleth\":[{\"colorbar\":{\"outlinewidth\":0,\"ticks\":\"\"},\"type\":\"choropleth\"}],\"contourcarpet\":[{\"colorbar\":{\"outlinewidth\":0,\"ticks\":\"\"},\"type\":\"contourcarpet\"}],\"contour\":[{\"colorbar\":{\"outlinewidth\":0,\"ticks\":\"\"},\"colorscale\":[[0.0,\"#0d0887\"],[0.1111111111111111,\"#46039f\"],[0.2222222222222222,\"#7201a8\"],[0.3333333333333333,\"#9c179e\"],[0.4444444444444444,\"#bd3786\"],[0.5555555555555556,\"#d8576b\"],[0.6666666666666666,\"#ed7953\"],[0.7777777777777778,\"#fb9f3a\"],[0.8888888888888888,\"#fdca26\"],[1.0,\"#f0f921\"]],\"type\":\"contour\"}],\"heatmapgl\":[{\"colorbar\":{\"outlinewidth\":0,\"ticks\":\"\"},\"colorscale\":[[0.0,\"#0d0887\"],[0.1111111111111111,\"#46039f\"],[0.2222222222222222,\"#7201a8\"],[0.3333333333333333,\"#9c179e\"],[0.4444444444444444,\"#bd3786\"],[0.5555555555555556,\"#d8576b\"],[0.6666666666666666,\"#ed7953\"],[0.7777777777777778,\"#fb9f3a\"],[0.8888888888888888,\"#fdca26\"],[1.0,\"#f0f921\"]],\"type\":\"heatmapgl\"}],\"heatmap\":[{\"colorbar\":{\"outlinewidth\":0,\"ticks\":\"\"},\"colorscale\":[[0.0,\"#0d0887\"],[0.1111111111111111,\"#46039f\"],[0.2222222222222222,\"#7201a8\"],[0.3333333333333333,\"#9c179e\"],[0.4444444444444444,\"#bd3786\"],[0.5555555555555556,\"#d8576b\"],[0.6666666666666666,\"#ed7953\"],[0.7777777777777778,\"#fb9f3a\"],[0.8888888888888888,\"#fdca26\"],[1.0,\"#f0f921\"]],\"type\":\"heatmap\"}],\"histogram2dcontour\":[{\"colorbar\":{\"outlinewidth\":0,\"ticks\":\"\"},\"colorscale\":[[0.0,\"#0d0887\"],[0.1111111111111111,\"#46039f\"],[0.2222222222222222,\"#7201a8\"],[0.3333333333333333,\"#9c179e\"],[0.4444444444444444,\"#bd3786\"],[0.5555555555555556,\"#d8576b\"],[0.6666666666666666,\"#ed7953\"],[0.7777777777777778,\"#fb9f3a\"],[0.8888888888888888,\"#fdca26\"],[1.0,\"#f0f921\"]],\"type\":\"histogram2dcontour\"}],\"histogram2d\":[{\"colorbar\":{\"outlinewidth\":0,\"ticks\":\"\"},\"colorscale\":[[0.0,\"#0d0887\"],[0.1111111111111111,\"#46039f\"],[0.2222222222222222,\"#7201a8\"],[0.3333333333333333,\"#9c179e\"],[0.4444444444444444,\"#bd3786\"],[0.5555555555555556,\"#d8576b\"],[0.6666666666666666,\"#ed7953\"],[0.7777777777777778,\"#fb9f3a\"],[0.8888888888888888,\"#fdca26\"],[1.0,\"#f0f921\"]],\"type\":\"histogram2d\"}],\"histogram\":[{\"marker\":{\"pattern\":{\"fillmode\":\"overlay\",\"size\":10,\"solidity\":0.2}},\"type\":\"histogram\"}],\"mesh3d\":[{\"colorbar\":{\"outlinewidth\":0,\"ticks\":\"\"},\"type\":\"mesh3d\"}],\"parcoords\":[{\"line\":{\"colorbar\":{\"outlinewidth\":0,\"ticks\":\"\"}},\"type\":\"parcoords\"}],\"pie\":[{\"automargin\":true,\"type\":\"pie\"}],\"scatter3d\":[{\"line\":{\"colorbar\":{\"outlinewidth\":0,\"ticks\":\"\"}},\"marker\":{\"colorbar\":{\"outlinewidth\":0,\"ticks\":\"\"}},\"type\":\"scatter3d\"}],\"scattercarpet\":[{\"marker\":{\"colorbar\":{\"outlinewidth\":0,\"ticks\":\"\"}},\"type\":\"scattercarpet\"}],\"scattergeo\":[{\"marker\":{\"colorbar\":{\"outlinewidth\":0,\"ticks\":\"\"}},\"type\":\"scattergeo\"}],\"scattergl\":[{\"marker\":{\"colorbar\":{\"outlinewidth\":0,\"ticks\":\"\"}},\"type\":\"scattergl\"}],\"scattermapbox\":[{\"marker\":{\"colorbar\":{\"outlinewidth\":0,\"ticks\":\"\"}},\"type\":\"scattermapbox\"}],\"scatterpolargl\":[{\"marker\":{\"colorbar\":{\"outlinewidth\":0,\"ticks\":\"\"}},\"type\":\"scatterpolargl\"}],\"scatterpolar\":[{\"marker\":{\"colorbar\":{\"outlinewidth\":0,\"ticks\":\"\"}},\"type\":\"scatterpolar\"}],\"scatter\":[{\"fillpattern\":{\"fillmode\":\"overlay\",\"size\":10,\"solidity\":0.2},\"type\":\"scatter\"}],\"scatterternary\":[{\"marker\":{\"colorbar\":{\"outlinewidth\":0,\"ticks\":\"\"}},\"type\":\"scatterternary\"}],\"surface\":[{\"colorbar\":{\"outlinewidth\":0,\"ticks\":\"\"},\"colorscale\":[[0.0,\"#0d0887\"],[0.1111111111111111,\"#46039f\"],[0.2222222222222222,\"#7201a8\"],[0.3333333333333333,\"#9c179e\"],[0.4444444444444444,\"#bd3786\"],[0.5555555555555556,\"#d8576b\"],[0.6666666666666666,\"#ed7953\"],[0.7777777777777778,\"#fb9f3a\"],[0.8888888888888888,\"#fdca26\"],[1.0,\"#f0f921\"]],\"type\":\"surface\"}],\"table\":[{\"cells\":{\"fill\":{\"color\":\"#EBF0F8\"},\"line\":{\"color\":\"white\"}},\"header\":{\"fill\":{\"color\":\"#C8D4E3\"},\"line\":{\"color\":\"white\"}},\"type\":\"table\"}]},\"layout\":{\"annotationdefaults\":{\"arrowcolor\":\"#2a3f5f\",\"arrowhead\":0,\"arrowwidth\":1},\"autotypenumbers\":\"strict\",\"coloraxis\":{\"colorbar\":{\"outlinewidth\":0,\"ticks\":\"\"}},\"colorscale\":{\"diverging\":[[0,\"#8e0152\"],[0.1,\"#c51b7d\"],[0.2,\"#de77ae\"],[0.3,\"#f1b6da\"],[0.4,\"#fde0ef\"],[0.5,\"#f7f7f7\"],[0.6,\"#e6f5d0\"],[0.7,\"#b8e186\"],[0.8,\"#7fbc41\"],[0.9,\"#4d9221\"],[1,\"#276419\"]],\"sequential\":[[0.0,\"#0d0887\"],[0.1111111111111111,\"#46039f\"],[0.2222222222222222,\"#7201a8\"],[0.3333333333333333,\"#9c179e\"],[0.4444444444444444,\"#bd3786\"],[0.5555555555555556,\"#d8576b\"],[0.6666666666666666,\"#ed7953\"],[0.7777777777777778,\"#fb9f3a\"],[0.8888888888888888,\"#fdca26\"],[1.0,\"#f0f921\"]],\"sequentialminus\":[[0.0,\"#0d0887\"],[0.1111111111111111,\"#46039f\"],[0.2222222222222222,\"#7201a8\"],[0.3333333333333333,\"#9c179e\"],[0.4444444444444444,\"#bd3786\"],[0.5555555555555556,\"#d8576b\"],[0.6666666666666666,\"#ed7953\"],[0.7777777777777778,\"#fb9f3a\"],[0.8888888888888888,\"#fdca26\"],[1.0,\"#f0f921\"]]},\"colorway\":[\"#636efa\",\"#EF553B\",\"#00cc96\",\"#ab63fa\",\"#FFA15A\",\"#19d3f3\",\"#FF6692\",\"#B6E880\",\"#FF97FF\",\"#FECB52\"],\"font\":{\"color\":\"#2a3f5f\"},\"geo\":{\"bgcolor\":\"white\",\"lakecolor\":\"white\",\"landcolor\":\"#E5ECF6\",\"showlakes\":true,\"showland\":true,\"subunitcolor\":\"white\"},\"hoverlabel\":{\"align\":\"left\"},\"hovermode\":\"closest\",\"mapbox\":{\"style\":\"light\"},\"paper_bgcolor\":\"white\",\"plot_bgcolor\":\"#E5ECF6\",\"polar\":{\"angularaxis\":{\"gridcolor\":\"white\",\"linecolor\":\"white\",\"ticks\":\"\"},\"bgcolor\":\"#E5ECF6\",\"radialaxis\":{\"gridcolor\":\"white\",\"linecolor\":\"white\",\"ticks\":\"\"}},\"scene\":{\"xaxis\":{\"backgroundcolor\":\"#E5ECF6\",\"gridcolor\":\"white\",\"gridwidth\":2,\"linecolor\":\"white\",\"showbackground\":true,\"ticks\":\"\",\"zerolinecolor\":\"white\"},\"yaxis\":{\"backgroundcolor\":\"#E5ECF6\",\"gridcolor\":\"white\",\"gridwidth\":2,\"linecolor\":\"white\",\"showbackground\":true,\"ticks\":\"\",\"zerolinecolor\":\"white\"},\"zaxis\":{\"backgroundcolor\":\"#E5ECF6\",\"gridcolor\":\"white\",\"gridwidth\":2,\"linecolor\":\"white\",\"showbackground\":true,\"ticks\":\"\",\"zerolinecolor\":\"white\"}},\"shapedefaults\":{\"line\":{\"color\":\"#2a3f5f\"}},\"ternary\":{\"aaxis\":{\"gridcolor\":\"white\",\"linecolor\":\"white\",\"ticks\":\"\"},\"baxis\":{\"gridcolor\":\"white\",\"linecolor\":\"white\",\"ticks\":\"\"},\"bgcolor\":\"#E5ECF6\",\"caxis\":{\"gridcolor\":\"white\",\"linecolor\":\"white\",\"ticks\":\"\"}},\"title\":{\"x\":0.05},\"xaxis\":{\"automargin\":true,\"gridcolor\":\"white\",\"linecolor\":\"white\",\"ticks\":\"\",\"title\":{\"standoff\":15},\"zerolinecolor\":\"white\",\"zerolinewidth\":2},\"yaxis\":{\"automargin\":true,\"gridcolor\":\"white\",\"linecolor\":\"white\",\"ticks\":\"\",\"title\":{\"standoff\":15},\"zerolinecolor\":\"white\",\"zerolinewidth\":2}}},\"title\":{\"text\":\"Distribution of Flow Between Parent and Child Tags\"},\"xaxis\":{\"anchor\":\"y\",\"domain\":[0.0,1.0],\"title\":{\"text\":\"value\"}},\"yaxis\":{\"anchor\":\"x\",\"domain\":[0.0,1.0],\"title\":{\"text\":\"count\"},\"type\":\"log\"}},                        {\"responsive\": true}                    ).then(function(){\n",
       "                            \n",
       "var gd = document.getElementById('61d4745e-aedd-4ad1-849f-2b2e05e9c73e');\n",
       "var x = new MutationObserver(function (mutations, observer) {{\n",
       "        var display = window.getComputedStyle(gd).display;\n",
       "        if (!display || display === 'none') {{\n",
       "            console.log([gd, 'removed!']);\n",
       "            Plotly.purge(gd);\n",
       "            observer.disconnect();\n",
       "        }}\n",
       "}});\n",
       "\n",
       "// Listen for the removal of the full notebook cells\n",
       "var notebookContainer = gd.closest('#notebook-container');\n",
       "if (notebookContainer) {{\n",
       "    x.observe(notebookContainer, {childList: true});\n",
       "}}\n",
       "\n",
       "// Listen for the clearing of the current output cell\n",
       "var outputEl = gd.closest('.output');\n",
       "if (outputEl) {{\n",
       "    x.observe(outputEl, {childList: true});\n",
       "}}\n",
       "\n",
       "                        })                };                });            </script>        </div>"
      ]
     },
     "metadata": {},
     "output_type": "display_data"
    }
   ],
   "source": [
    "fig = px.histogram(tags_flow['weight_normalized'], log_y=True, title=\"Distribution of Flow Between Parent and Child Tags\")\n",
    "iplot(fig)"
   ]
  },
  {
   "cell_type": "code",
   "execution_count": 88,
   "metadata": {
    "ExecuteTime": {
     "end_time": "2023-05-28T14:56:29.250454Z",
     "start_time": "2023-05-28T14:56:29.241283Z"
    }
   },
   "outputs": [],
   "source": [
    "def filter_flow(df, parent_tags=None, child_tags=None, weight=None):\n",
    "    if parent_tags is not None:\n",
    "        df = df[df['cluster_parent'].isin(parent_tags)]\n",
    "    if child_tags is not None:\n",
    "        df = df[df['cluster_child'].isin(child_tags)]\n",
    "    if weight is not None and type(weight)==list:\n",
    "        df = df[df['weight_normalized'].between(min(weight), max(weight))]\n",
    "    elif weight is not None and type(weight)==float:\n",
    "        df = df[df['weight_normalized']>weight]\n",
    "    print(\"DataFrame has {} edges\".format(len(df)))\n",
    "    return df"
   ]
  },
  {
   "cell_type": "code",
   "execution_count": 89,
   "metadata": {
    "ExecuteTime": {
     "end_time": "2023-05-28T14:56:42.652225Z",
     "start_time": "2023-05-28T14:56:42.644723Z"
    }
   },
   "outputs": [
    {
     "name": "stdout",
     "output_type": "stream",
     "text": [
      "DataFrame has 3 edges\n"
     ]
    },
    {
     "data": {
      "text/html": [
       "<div>\n",
       "<style scoped>\n",
       "    .dataframe tbody tr th:only-of-type {\n",
       "        vertical-align: middle;\n",
       "    }\n",
       "\n",
       "    .dataframe tbody tr th {\n",
       "        vertical-align: top;\n",
       "    }\n",
       "\n",
       "    .dataframe thead th {\n",
       "        text-align: right;\n",
       "    }\n",
       "</style>\n",
       "<table border=\"1\" class=\"dataframe\">\n",
       "  <thead>\n",
       "    <tr style=\"text-align: right;\">\n",
       "      <th></th>\n",
       "      <th>cluster_parent</th>\n",
       "      <th>cluster_child</th>\n",
       "      <th>weight</th>\n",
       "      <th>weight_normalized</th>\n",
       "      <th>tag_parent</th>\n",
       "      <th>tag_child</th>\n",
       "    </tr>\n",
       "  </thead>\n",
       "  <tbody>\n",
       "    <tr>\n",
       "      <th>1379</th>\n",
       "      <td>35</td>\n",
       "      <td>35</td>\n",
       "      <td>485</td>\n",
       "      <td>0.619413</td>\n",
       "      <td>musical instrument</td>\n",
       "      <td>musical instrument</td>\n",
       "    </tr>\n",
       "    <tr>\n",
       "      <th>1518</th>\n",
       "      <td>38</td>\n",
       "      <td>38</td>\n",
       "      <td>278</td>\n",
       "      <td>0.501805</td>\n",
       "      <td>toy</td>\n",
       "      <td>toy</td>\n",
       "    </tr>\n",
       "    <tr>\n",
       "      <th>2262</th>\n",
       "      <td>45</td>\n",
       "      <td>45</td>\n",
       "      <td>234</td>\n",
       "      <td>0.686217</td>\n",
       "      <td>road</td>\n",
       "      <td>road</td>\n",
       "    </tr>\n",
       "  </tbody>\n",
       "</table>\n",
       "</div>"
      ],
      "text/plain": [
       "     cluster_parent cluster_child  weight  weight_normalized   \n",
       "1379             35            35     485           0.619413  \\\n",
       "1518             38            38     278           0.501805   \n",
       "2262             45            45     234           0.686217   \n",
       "\n",
       "              tag_parent           tag_child  \n",
       "1379  musical instrument  musical instrument  \n",
       "1518                 toy                 toy  \n",
       "2262                road                road  "
      ]
     },
     "execution_count": 89,
     "metadata": {},
     "output_type": "execute_result"
    }
   ],
   "source": [
    "filter_flow(tags_flow, weight=0.5)"
   ]
  },
  {
   "cell_type": "code",
   "execution_count": 90,
   "metadata": {
    "ExecuteTime": {
     "end_time": "2023-05-28T14:57:21.785126Z",
     "start_time": "2023-05-28T14:57:21.776544Z"
    }
   },
   "outputs": [],
   "source": [
    "def create_graph_animation(net_df):\n",
    "    net=Network(notebook=True, select_menu=True, filter_menu=True, cdn_resources='in_line',\n",
    "                height=\"750px\", width=\"100%\", bgcolor=\"#222222\", font_color=\"white\", directed=True)\n",
    "    net.repulsion()\n",
    "\n",
    "#     sources = net_df['cluster_parent']\n",
    "#     targets = net_df['cluster_child']\n",
    "    sources = net_df['tag_parent']\n",
    "    targets = net_df['tag_child']\n",
    "    weights = net_df['weight_normalized']\n",
    "\n",
    "    edge_data = zip(sources, targets, weights)\n",
    "\n",
    "    for e in edge_data:\n",
    "                    src = e[0]\n",
    "                    dst = e[1]\n",
    "                    w = e[2]\n",
    "\n",
    "                    net.add_node(src, src, title=src)\n",
    "                    net.add_node(dst, dst, title=dst)\n",
    "                    net.add_edge(src, dst, value=w)\n",
    "\n",
    "    neighbor_map = net.get_adj_list()\n",
    "\n",
    "# add neighbor data to node hover data\n",
    "    for node in net.nodes:\n",
    "                    node[\"title\"] += \" Neighbors:\\n\" + \"\\n\".join(neighbor_map[node[\"id\"]])\n",
    "                    node[\"value\"] = len(neighbor_map[node[\"id\"]])\n",
    "\n",
    "    return net"
   ]
  },
  {
   "cell_type": "code",
   "execution_count": 93,
   "metadata": {
    "ExecuteTime": {
     "end_time": "2023-05-28T14:57:22.861407Z",
     "start_time": "2023-05-28T14:57:22.787602Z"
    }
   },
   "outputs": [
    {
     "name": "stdout",
     "output_type": "stream",
     "text": [
      "DataFrame has 55 edges\n",
      "example.html\n"
     ]
    },
    {
     "data": {
      "text/html": [
       "\n",
       "        <iframe\n",
       "            width=\"100%\"\n",
       "            height=\"750px\"\n",
       "            src=\"example.html\"\n",
       "            frameborder=\"0\"\n",
       "            allowfullscreen\n",
       "            \n",
       "        ></iframe>\n",
       "        "
      ],
      "text/plain": [
       "<IPython.lib.display.IFrame at 0x4126dd550>"
      ]
     },
     "execution_count": 93,
     "metadata": {},
     "output_type": "execute_result"
    }
   ],
   "source": [
    "graph_df = filter_flow(tags_flow, weight=0.09)\n",
    "net = create_graph_animation(graph_df)\n",
    "net.show('example.html')"
   ]
  },
  {
   "cell_type": "code",
   "execution_count": 94,
   "metadata": {},
   "outputs": [],
   "source": [
    "def child_distribution(cluster):\n",
    "    data=tags_flow[(tags_flow['cluster_parent']==cluster)].sort_values(by=\"weight_normalized\")\n",
    "    fig = px.bar(data, \n",
    "                 x=\"cluster_child\", y=\"weight_normalized\",\n",
    "                 title=\"Distribution of Flow from Cluster {}\".format(cluster.title()))\n",
    "    fig.update_xaxes(labelalias=dict(dict(zip(data.cluster_child,data.tag_child))))\n",
    "    return fig"
   ]
  },
  {
   "cell_type": "code",
   "execution_count": 99,
   "metadata": {},
   "outputs": [
    {
     "data": {
      "text/html": [
       "<div>\n",
       "<style scoped>\n",
       "    .dataframe tbody tr th:only-of-type {\n",
       "        vertical-align: middle;\n",
       "    }\n",
       "\n",
       "    .dataframe tbody tr th {\n",
       "        vertical-align: top;\n",
       "    }\n",
       "\n",
       "    .dataframe thead th {\n",
       "        text-align: right;\n",
       "    }\n",
       "</style>\n",
       "<table border=\"1\" class=\"dataframe\">\n",
       "  <thead>\n",
       "    <tr style=\"text-align: right;\">\n",
       "      <th></th>\n",
       "      <th>cluster_parent</th>\n",
       "      <th>cluster_child</th>\n",
       "      <th>weight</th>\n",
       "      <th>weight_normalized</th>\n",
       "      <th>tag_parent</th>\n",
       "      <th>tag_child</th>\n",
       "    </tr>\n",
       "  </thead>\n",
       "  <tbody>\n",
       "    <tr>\n",
       "      <th>2134</th>\n",
       "      <td>7</td>\n",
       "      <td>7</td>\n",
       "      <td>149</td>\n",
       "      <td>0.198402</td>\n",
       "      <td>animal</td>\n",
       "      <td>animal</td>\n",
       "    </tr>\n",
       "    <tr>\n",
       "      <th>385</th>\n",
       "      <td>7</td>\n",
       "      <td>16</td>\n",
       "      <td>39</td>\n",
       "      <td>0.051931</td>\n",
       "      <td>animal</td>\n",
       "      <td>sports</td>\n",
       "    </tr>\n",
       "    <tr>\n",
       "      <th>1631</th>\n",
       "      <td>7</td>\n",
       "      <td>4</td>\n",
       "      <td>34</td>\n",
       "      <td>0.045273</td>\n",
       "      <td>animal</td>\n",
       "      <td>food</td>\n",
       "    </tr>\n",
       "    <tr>\n",
       "      <th>729</th>\n",
       "      <td>7</td>\n",
       "      <td>22</td>\n",
       "      <td>29</td>\n",
       "      <td>0.038615</td>\n",
       "      <td>animal</td>\n",
       "      <td>clothing</td>\n",
       "    </tr>\n",
       "    <tr>\n",
       "      <th>779</th>\n",
       "      <td>7</td>\n",
       "      <td>23</td>\n",
       "      <td>25</td>\n",
       "      <td>0.033289</td>\n",
       "      <td>animal</td>\n",
       "      <td>event</td>\n",
       "    </tr>\n",
       "    <tr>\n",
       "      <th>582</th>\n",
       "      <td>7</td>\n",
       "      <td>2</td>\n",
       "      <td>22</td>\n",
       "      <td>0.029294</td>\n",
       "      <td>animal</td>\n",
       "      <td>vehicle</td>\n",
       "    </tr>\n",
       "    <tr>\n",
       "      <th>964</th>\n",
       "      <td>7</td>\n",
       "      <td>27</td>\n",
       "      <td>22</td>\n",
       "      <td>0.029294</td>\n",
       "      <td>animal</td>\n",
       "      <td>person</td>\n",
       "    </tr>\n",
       "    <tr>\n",
       "      <th>1308</th>\n",
       "      <td>7</td>\n",
       "      <td>33</td>\n",
       "      <td>20</td>\n",
       "      <td>0.026631</td>\n",
       "      <td>animal</td>\n",
       "      <td>vehicle</td>\n",
       "    </tr>\n",
       "    <tr>\n",
       "      <th>46</th>\n",
       "      <td>7</td>\n",
       "      <td>0</td>\n",
       "      <td>20</td>\n",
       "      <td>0.026631</td>\n",
       "      <td>animal</td>\n",
       "      <td>clothing</td>\n",
       "    </tr>\n",
       "    <tr>\n",
       "      <th>191</th>\n",
       "      <td>7</td>\n",
       "      <td>11</td>\n",
       "      <td>20</td>\n",
       "      <td>0.026631</td>\n",
       "      <td>animal</td>\n",
       "      <td>art</td>\n",
       "    </tr>\n",
       "    <tr>\n",
       "      <th>433</th>\n",
       "      <td>7</td>\n",
       "      <td>17</td>\n",
       "      <td>19</td>\n",
       "      <td>0.025300</td>\n",
       "      <td>animal</td>\n",
       "      <td>food</td>\n",
       "    </tr>\n",
       "    <tr>\n",
       "      <th>1486</th>\n",
       "      <td>7</td>\n",
       "      <td>37</td>\n",
       "      <td>19</td>\n",
       "      <td>0.025300</td>\n",
       "      <td>animal</td>\n",
       "      <td>building</td>\n",
       "    </tr>\n",
       "    <tr>\n",
       "      <th>1113</th>\n",
       "      <td>7</td>\n",
       "      <td>3</td>\n",
       "      <td>17</td>\n",
       "      <td>0.022636</td>\n",
       "      <td>animal</td>\n",
       "      <td>geographical feature</td>\n",
       "    </tr>\n",
       "    <tr>\n",
       "      <th>94</th>\n",
       "      <td>7</td>\n",
       "      <td>1</td>\n",
       "      <td>17</td>\n",
       "      <td>0.022636</td>\n",
       "      <td>animal</td>\n",
       "      <td>music</td>\n",
       "    </tr>\n",
       "    <tr>\n",
       "      <th>532</th>\n",
       "      <td>7</td>\n",
       "      <td>19</td>\n",
       "      <td>17</td>\n",
       "      <td>0.022636</td>\n",
       "      <td>animal</td>\n",
       "      <td>person</td>\n",
       "    </tr>\n",
       "    <tr>\n",
       "      <th>1581</th>\n",
       "      <td>7</td>\n",
       "      <td>39</td>\n",
       "      <td>16</td>\n",
       "      <td>0.021305</td>\n",
       "      <td>animal</td>\n",
       "      <td>hair</td>\n",
       "    </tr>\n",
       "    <tr>\n",
       "      <th>1162</th>\n",
       "      <td>7</td>\n",
       "      <td>30</td>\n",
       "      <td>16</td>\n",
       "      <td>0.021305</td>\n",
       "      <td>animal</td>\n",
       "      <td>sea</td>\n",
       "    </tr>\n",
       "    <tr>\n",
       "      <th>1817</th>\n",
       "      <td>7</td>\n",
       "      <td>43</td>\n",
       "      <td>15</td>\n",
       "      <td>0.019973</td>\n",
       "      <td>animal</td>\n",
       "      <td>infant</td>\n",
       "    </tr>\n",
       "    <tr>\n",
       "      <th>2184</th>\n",
       "      <td>7</td>\n",
       "      <td>8</td>\n",
       "      <td>15</td>\n",
       "      <td>0.019973</td>\n",
       "      <td>animal</td>\n",
       "      <td>eyebrow</td>\n",
       "    </tr>\n",
       "    <tr>\n",
       "      <th>2037</th>\n",
       "      <td>7</td>\n",
       "      <td>5</td>\n",
       "      <td>14</td>\n",
       "      <td>0.018642</td>\n",
       "      <td>animal</td>\n",
       "      <td>sports</td>\n",
       "    </tr>\n",
       "    <tr>\n",
       "      <th>1680</th>\n",
       "      <td>7</td>\n",
       "      <td>40</td>\n",
       "      <td>13</td>\n",
       "      <td>0.017310</td>\n",
       "      <td>animal</td>\n",
       "      <td>sports</td>\n",
       "    </tr>\n",
       "    <tr>\n",
       "      <th>141</th>\n",
       "      <td>7</td>\n",
       "      <td>10</td>\n",
       "      <td>13</td>\n",
       "      <td>0.017310</td>\n",
       "      <td>animal</td>\n",
       "      <td>person</td>\n",
       "    </tr>\n",
       "    <tr>\n",
       "      <th>1356</th>\n",
       "      <td>7</td>\n",
       "      <td>34</td>\n",
       "      <td>13</td>\n",
       "      <td>0.017310</td>\n",
       "      <td>animal</td>\n",
       "      <td>song</td>\n",
       "    </tr>\n",
       "    <tr>\n",
       "      <th>1437</th>\n",
       "      <td>7</td>\n",
       "      <td>36</td>\n",
       "      <td>13</td>\n",
       "      <td>0.017310</td>\n",
       "      <td>animal</td>\n",
       "      <td>vehicle</td>\n",
       "    </tr>\n",
       "    <tr>\n",
       "      <th>680</th>\n",
       "      <td>7</td>\n",
       "      <td>21</td>\n",
       "      <td>13</td>\n",
       "      <td>0.017310</td>\n",
       "      <td>animal</td>\n",
       "      <td>plant</td>\n",
       "    </tr>\n",
       "    <tr>\n",
       "      <th>335</th>\n",
       "      <td>7</td>\n",
       "      <td>15</td>\n",
       "      <td>13</td>\n",
       "      <td>0.017310</td>\n",
       "      <td>animal</td>\n",
       "      <td>hair</td>\n",
       "    </tr>\n",
       "    <tr>\n",
       "      <th>2233</th>\n",
       "      <td>7</td>\n",
       "      <td>9</td>\n",
       "      <td>12</td>\n",
       "      <td>0.015979</td>\n",
       "      <td>animal</td>\n",
       "      <td>room</td>\n",
       "    </tr>\n",
       "    <tr>\n",
       "      <th>829</th>\n",
       "      <td>7</td>\n",
       "      <td>24</td>\n",
       "      <td>12</td>\n",
       "      <td>0.015979</td>\n",
       "      <td>animal</td>\n",
       "      <td>motor vehicle</td>\n",
       "    </tr>\n",
       "    <tr>\n",
       "      <th>1945</th>\n",
       "      <td>7</td>\n",
       "      <td>47</td>\n",
       "      <td>11</td>\n",
       "      <td>0.014647</td>\n",
       "      <td>animal</td>\n",
       "      <td>artwork</td>\n",
       "    </tr>\n",
       "    <tr>\n",
       "      <th>1014</th>\n",
       "      <td>7</td>\n",
       "      <td>28</td>\n",
       "      <td>10</td>\n",
       "      <td>0.013316</td>\n",
       "      <td>animal</td>\n",
       "      <td>plant</td>\n",
       "    </tr>\n",
       "    <tr>\n",
       "      <th>1063</th>\n",
       "      <td>7</td>\n",
       "      <td>29</td>\n",
       "      <td>9</td>\n",
       "      <td>0.011984</td>\n",
       "      <td>animal</td>\n",
       "      <td>computer</td>\n",
       "    </tr>\n",
       "    <tr>\n",
       "      <th>1208</th>\n",
       "      <td>7</td>\n",
       "      <td>31</td>\n",
       "      <td>9</td>\n",
       "      <td>0.011984</td>\n",
       "      <td>animal</td>\n",
       "      <td>sports</td>\n",
       "    </tr>\n",
       "    <tr>\n",
       "      <th>237</th>\n",
       "      <td>7</td>\n",
       "      <td>12</td>\n",
       "      <td>9</td>\n",
       "      <td>0.011984</td>\n",
       "      <td>animal</td>\n",
       "      <td>glasses</td>\n",
       "    </tr>\n",
       "    <tr>\n",
       "      <th>1258</th>\n",
       "      <td>7</td>\n",
       "      <td>32</td>\n",
       "      <td>8</td>\n",
       "      <td>0.010652</td>\n",
       "      <td>animal</td>\n",
       "      <td>hand</td>\n",
       "    </tr>\n",
       "    <tr>\n",
       "      <th>1532</th>\n",
       "      <td>7</td>\n",
       "      <td>38</td>\n",
       "      <td>7</td>\n",
       "      <td>0.009321</td>\n",
       "      <td>animal</td>\n",
       "      <td>toy</td>\n",
       "    </tr>\n",
       "    <tr>\n",
       "      <th>2084</th>\n",
       "      <td>7</td>\n",
       "      <td>6</td>\n",
       "      <td>7</td>\n",
       "      <td>0.009321</td>\n",
       "      <td>animal</td>\n",
       "      <td>food</td>\n",
       "    </tr>\n",
       "    <tr>\n",
       "      <th>286</th>\n",
       "      <td>7</td>\n",
       "      <td>13</td>\n",
       "      <td>7</td>\n",
       "      <td>0.009321</td>\n",
       "      <td>animal</td>\n",
       "      <td>footwear</td>\n",
       "    </tr>\n",
       "    <tr>\n",
       "      <th>630</th>\n",
       "      <td>7</td>\n",
       "      <td>20</td>\n",
       "      <td>6</td>\n",
       "      <td>0.007989</td>\n",
       "      <td>animal</td>\n",
       "      <td>room</td>\n",
       "    </tr>\n",
       "    <tr>\n",
       "      <th>483</th>\n",
       "      <td>7</td>\n",
       "      <td>18</td>\n",
       "      <td>6</td>\n",
       "      <td>0.007989</td>\n",
       "      <td>animal</td>\n",
       "      <td>city</td>\n",
       "    </tr>\n",
       "    <tr>\n",
       "      <th>1771</th>\n",
       "      <td>7</td>\n",
       "      <td>42</td>\n",
       "      <td>4</td>\n",
       "      <td>0.005326</td>\n",
       "      <td>animal</td>\n",
       "      <td>furniture</td>\n",
       "    </tr>\n",
       "    <tr>\n",
       "      <th>2265</th>\n",
       "      <td>7</td>\n",
       "      <td>45</td>\n",
       "      <td>3</td>\n",
       "      <td>0.003995</td>\n",
       "      <td>animal</td>\n",
       "      <td>road</td>\n",
       "    </tr>\n",
       "    <tr>\n",
       "      <th>1988</th>\n",
       "      <td>7</td>\n",
       "      <td>49</td>\n",
       "      <td>2</td>\n",
       "      <td>0.002663</td>\n",
       "      <td>animal</td>\n",
       "      <td>underwater</td>\n",
       "    </tr>\n",
       "    <tr>\n",
       "      <th>1723</th>\n",
       "      <td>7</td>\n",
       "      <td>41</td>\n",
       "      <td>1</td>\n",
       "      <td>0.001332</td>\n",
       "      <td>animal</td>\n",
       "      <td>light</td>\n",
       "    </tr>\n",
       "    <tr>\n",
       "      <th>1859</th>\n",
       "      <td>7</td>\n",
       "      <td>44</td>\n",
       "      <td>1</td>\n",
       "      <td>0.001332</td>\n",
       "      <td>animal</td>\n",
       "      <td>style</td>\n",
       "    </tr>\n",
       "    <tr>\n",
       "      <th>1898</th>\n",
       "      <td>7</td>\n",
       "      <td>46</td>\n",
       "      <td>1</td>\n",
       "      <td>0.001332</td>\n",
       "      <td>animal</td>\n",
       "      <td>style</td>\n",
       "    </tr>\n",
       "    <tr>\n",
       "      <th>1390</th>\n",
       "      <td>7</td>\n",
       "      <td>35</td>\n",
       "      <td>1</td>\n",
       "      <td>0.001332</td>\n",
       "      <td>animal</td>\n",
       "      <td>musical instrument</td>\n",
       "    </tr>\n",
       "    <tr>\n",
       "      <th>870</th>\n",
       "      <td>7</td>\n",
       "      <td>25</td>\n",
       "      <td>1</td>\n",
       "      <td>0.001332</td>\n",
       "      <td>animal</td>\n",
       "      <td>tattoo</td>\n",
       "    </tr>\n",
       "    <tr>\n",
       "      <th>2300</th>\n",
       "      <td>7</td>\n",
       "      <td>48</td>\n",
       "      <td>1</td>\n",
       "      <td>0.001332</td>\n",
       "      <td>animal</td>\n",
       "      <td>nature</td>\n",
       "    </tr>\n",
       "  </tbody>\n",
       "</table>\n",
       "</div>"
      ],
      "text/plain": [
       "     cluster_parent cluster_child  weight  weight_normalized tag_parent   \n",
       "2134              7             7     149           0.198402     animal  \\\n",
       "385               7            16      39           0.051931     animal   \n",
       "1631              7             4      34           0.045273     animal   \n",
       "729               7            22      29           0.038615     animal   \n",
       "779               7            23      25           0.033289     animal   \n",
       "582               7             2      22           0.029294     animal   \n",
       "964               7            27      22           0.029294     animal   \n",
       "1308              7            33      20           0.026631     animal   \n",
       "46                7             0      20           0.026631     animal   \n",
       "191               7            11      20           0.026631     animal   \n",
       "433               7            17      19           0.025300     animal   \n",
       "1486              7            37      19           0.025300     animal   \n",
       "1113              7             3      17           0.022636     animal   \n",
       "94                7             1      17           0.022636     animal   \n",
       "532               7            19      17           0.022636     animal   \n",
       "1581              7            39      16           0.021305     animal   \n",
       "1162              7            30      16           0.021305     animal   \n",
       "1817              7            43      15           0.019973     animal   \n",
       "2184              7             8      15           0.019973     animal   \n",
       "2037              7             5      14           0.018642     animal   \n",
       "1680              7            40      13           0.017310     animal   \n",
       "141               7            10      13           0.017310     animal   \n",
       "1356              7            34      13           0.017310     animal   \n",
       "1437              7            36      13           0.017310     animal   \n",
       "680               7            21      13           0.017310     animal   \n",
       "335               7            15      13           0.017310     animal   \n",
       "2233              7             9      12           0.015979     animal   \n",
       "829               7            24      12           0.015979     animal   \n",
       "1945              7            47      11           0.014647     animal   \n",
       "1014              7            28      10           0.013316     animal   \n",
       "1063              7            29       9           0.011984     animal   \n",
       "1208              7            31       9           0.011984     animal   \n",
       "237               7            12       9           0.011984     animal   \n",
       "1258              7            32       8           0.010652     animal   \n",
       "1532              7            38       7           0.009321     animal   \n",
       "2084              7             6       7           0.009321     animal   \n",
       "286               7            13       7           0.009321     animal   \n",
       "630               7            20       6           0.007989     animal   \n",
       "483               7            18       6           0.007989     animal   \n",
       "1771              7            42       4           0.005326     animal   \n",
       "2265              7            45       3           0.003995     animal   \n",
       "1988              7            49       2           0.002663     animal   \n",
       "1723              7            41       1           0.001332     animal   \n",
       "1859              7            44       1           0.001332     animal   \n",
       "1898              7            46       1           0.001332     animal   \n",
       "1390              7            35       1           0.001332     animal   \n",
       "870               7            25       1           0.001332     animal   \n",
       "2300              7            48       1           0.001332     animal   \n",
       "\n",
       "                 tag_child  \n",
       "2134                animal  \n",
       "385                 sports  \n",
       "1631                  food  \n",
       "729               clothing  \n",
       "779                  event  \n",
       "582                vehicle  \n",
       "964                 person  \n",
       "1308               vehicle  \n",
       "46                clothing  \n",
       "191                    art  \n",
       "433                   food  \n",
       "1486              building  \n",
       "1113  geographical feature  \n",
       "94                   music  \n",
       "532                 person  \n",
       "1581                  hair  \n",
       "1162                   sea  \n",
       "1817                infant  \n",
       "2184               eyebrow  \n",
       "2037                sports  \n",
       "1680                sports  \n",
       "141                 person  \n",
       "1356                  song  \n",
       "1437               vehicle  \n",
       "680                  plant  \n",
       "335                   hair  \n",
       "2233                  room  \n",
       "829          motor vehicle  \n",
       "1945               artwork  \n",
       "1014                 plant  \n",
       "1063              computer  \n",
       "1208                sports  \n",
       "237                glasses  \n",
       "1258                  hand  \n",
       "1532                   toy  \n",
       "2084                  food  \n",
       "286               footwear  \n",
       "630                   room  \n",
       "483                   city  \n",
       "1771             furniture  \n",
       "2265                  road  \n",
       "1988            underwater  \n",
       "1723                 light  \n",
       "1859                 style  \n",
       "1898                 style  \n",
       "1390    musical instrument  \n",
       "870                 tattoo  \n",
       "2300                nature  "
      ]
     },
     "execution_count": 99,
     "metadata": {},
     "output_type": "execute_result"
    }
   ],
   "source": [
    "tags_flow[tags_flow['cluster_parent']=='7'].sort_values(by='weight_normalized', ascending=False)"
   ]
  },
  {
   "cell_type": "code",
   "execution_count": 100,
   "metadata": {},
   "outputs": [
    {
     "data": {
      "text/html": [
       "<div>\n",
       "<style scoped>\n",
       "    .dataframe tbody tr th:only-of-type {\n",
       "        vertical-align: middle;\n",
       "    }\n",
       "\n",
       "    .dataframe tbody tr th {\n",
       "        vertical-align: top;\n",
       "    }\n",
       "\n",
       "    .dataframe thead th {\n",
       "        text-align: right;\n",
       "    }\n",
       "</style>\n",
       "<table border=\"1\" class=\"dataframe\">\n",
       "  <thead>\n",
       "    <tr style=\"text-align: right;\">\n",
       "      <th></th>\n",
       "      <th>tag</th>\n",
       "      <th>cluster</th>\n",
       "    </tr>\n",
       "  </thead>\n",
       "  <tbody>\n",
       "    <tr>\n",
       "      <th>0</th>\n",
       "      <td>person</td>\n",
       "      <td>27</td>\n",
       "    </tr>\n",
       "    <tr>\n",
       "      <th>1</th>\n",
       "      <td>games</td>\n",
       "      <td>27</td>\n",
       "    </tr>\n",
       "    <tr>\n",
       "      <th>2</th>\n",
       "      <td>location</td>\n",
       "      <td>27</td>\n",
       "    </tr>\n",
       "    <tr>\n",
       "      <th>3</th>\n",
       "      <td>weapon</td>\n",
       "      <td>27</td>\n",
       "    </tr>\n",
       "    <tr>\n",
       "      <th>4</th>\n",
       "      <td>music</td>\n",
       "      <td>27</td>\n",
       "    </tr>\n",
       "  </tbody>\n",
       "</table>\n",
       "</div>"
      ],
      "text/plain": [
       "        tag cluster\n",
       "0    person      27\n",
       "1     games      27\n",
       "2  location      27\n",
       "3    weapon      27\n",
       "4     music      27"
      ]
     },
     "execution_count": 100,
     "metadata": {},
     "output_type": "execute_result"
    }
   ],
   "source": [
    "get_popular_tags(cluster_num=27)"
   ]
  },
  {
   "cell_type": "code",
   "execution_count": 101,
   "metadata": {},
   "outputs": [
    {
     "data": {
      "text/html": [
       "<div>                            <div id=\"69ed3d3e-ab30-48c4-bb3f-405fdff554c6\" class=\"plotly-graph-div\" style=\"height:525px; width:100%;\"></div>            <script type=\"text/javascript\">                require([\"plotly\"], function(Plotly) {                    window.PLOTLYENV=window.PLOTLYENV || {};                                    if (document.getElementById(\"69ed3d3e-ab30-48c4-bb3f-405fdff554c6\")) {                    Plotly.newPlot(                        \"69ed3d3e-ab30-48c4-bb3f-405fdff554c6\",                        [{\"alignmentgroup\":\"True\",\"hovertemplate\":\"cluster_child=%{x}<br>weight_normalized=%{y}<extra></extra>\",\"legendgroup\":\"\",\"marker\":{\"color\":\"#636efa\",\"pattern\":{\"shape\":\"\"}},\"name\":\"\",\"offsetgroup\":\"\",\"orientation\":\"v\",\"showlegend\":false,\"textposition\":\"auto\",\"x\":[\"48\",\"46\",\"44\",\"41\",\"35\",\"25\",\"49\",\"45\",\"42\",\"18\",\"20\",\"6\",\"13\",\"38\",\"32\",\"29\",\"31\",\"12\",\"28\",\"47\",\"9\",\"24\",\"34\",\"40\",\"36\",\"15\",\"10\",\"21\",\"5\",\"8\",\"43\",\"30\",\"39\",\"19\",\"3\",\"1\",\"37\",\"17\",\"33\",\"11\",\"0\",\"2\",\"27\",\"23\",\"22\",\"4\",\"16\",\"7\"],\"xaxis\":\"x\",\"y\":[0.0013315579227696406,0.0013315579227696406,0.0013315579227696406,0.0013315579227696406,0.0013315579227696406,0.0013315579227696406,0.002663115845539281,0.0039946737683089215,0.005326231691078562,0.007989347536617843,0.007989347536617843,0.009320905459387484,0.009320905459387484,0.009320905459387484,0.010652463382157125,0.011984021304926764,0.011984021304926764,0.011984021304926764,0.013315579227696404,0.014647137150466045,0.015978695073235686,0.015978695073235686,0.017310252996005325,0.017310252996005325,0.017310252996005325,0.017310252996005325,0.017310252996005325,0.017310252996005325,0.018641810918774968,0.019973368841544607,0.019973368841544607,0.02130492676431425,0.02130492676431425,0.022636484687083888,0.022636484687083888,0.022636484687083888,0.02529960053262317,0.02529960053262317,0.02663115845539281,0.02663115845539281,0.02663115845539281,0.02929427430093209,0.02929427430093209,0.033288948069241014,0.03861517976031957,0.045272969374167776,0.05193075898801598,0.19840213049267644],\"yaxis\":\"y\",\"type\":\"bar\"}],                        {\"template\":{\"data\":{\"histogram2dcontour\":[{\"type\":\"histogram2dcontour\",\"colorbar\":{\"outlinewidth\":0,\"ticks\":\"\"},\"colorscale\":[[0.0,\"#0d0887\"],[0.1111111111111111,\"#46039f\"],[0.2222222222222222,\"#7201a8\"],[0.3333333333333333,\"#9c179e\"],[0.4444444444444444,\"#bd3786\"],[0.5555555555555556,\"#d8576b\"],[0.6666666666666666,\"#ed7953\"],[0.7777777777777778,\"#fb9f3a\"],[0.8888888888888888,\"#fdca26\"],[1.0,\"#f0f921\"]]}],\"choropleth\":[{\"type\":\"choropleth\",\"colorbar\":{\"outlinewidth\":0,\"ticks\":\"\"}}],\"histogram2d\":[{\"type\":\"histogram2d\",\"colorbar\":{\"outlinewidth\":0,\"ticks\":\"\"},\"colorscale\":[[0.0,\"#0d0887\"],[0.1111111111111111,\"#46039f\"],[0.2222222222222222,\"#7201a8\"],[0.3333333333333333,\"#9c179e\"],[0.4444444444444444,\"#bd3786\"],[0.5555555555555556,\"#d8576b\"],[0.6666666666666666,\"#ed7953\"],[0.7777777777777778,\"#fb9f3a\"],[0.8888888888888888,\"#fdca26\"],[1.0,\"#f0f921\"]]}],\"heatmap\":[{\"type\":\"heatmap\",\"colorbar\":{\"outlinewidth\":0,\"ticks\":\"\"},\"colorscale\":[[0.0,\"#0d0887\"],[0.1111111111111111,\"#46039f\"],[0.2222222222222222,\"#7201a8\"],[0.3333333333333333,\"#9c179e\"],[0.4444444444444444,\"#bd3786\"],[0.5555555555555556,\"#d8576b\"],[0.6666666666666666,\"#ed7953\"],[0.7777777777777778,\"#fb9f3a\"],[0.8888888888888888,\"#fdca26\"],[1.0,\"#f0f921\"]]}],\"heatmapgl\":[{\"type\":\"heatmapgl\",\"colorbar\":{\"outlinewidth\":0,\"ticks\":\"\"},\"colorscale\":[[0.0,\"#0d0887\"],[0.1111111111111111,\"#46039f\"],[0.2222222222222222,\"#7201a8\"],[0.3333333333333333,\"#9c179e\"],[0.4444444444444444,\"#bd3786\"],[0.5555555555555556,\"#d8576b\"],[0.6666666666666666,\"#ed7953\"],[0.7777777777777778,\"#fb9f3a\"],[0.8888888888888888,\"#fdca26\"],[1.0,\"#f0f921\"]]}],\"contourcarpet\":[{\"type\":\"contourcarpet\",\"colorbar\":{\"outlinewidth\":0,\"ticks\":\"\"}}],\"contour\":[{\"type\":\"contour\",\"colorbar\":{\"outlinewidth\":0,\"ticks\":\"\"},\"colorscale\":[[0.0,\"#0d0887\"],[0.1111111111111111,\"#46039f\"],[0.2222222222222222,\"#7201a8\"],[0.3333333333333333,\"#9c179e\"],[0.4444444444444444,\"#bd3786\"],[0.5555555555555556,\"#d8576b\"],[0.6666666666666666,\"#ed7953\"],[0.7777777777777778,\"#fb9f3a\"],[0.8888888888888888,\"#fdca26\"],[1.0,\"#f0f921\"]]}],\"surface\":[{\"type\":\"surface\",\"colorbar\":{\"outlinewidth\":0,\"ticks\":\"\"},\"colorscale\":[[0.0,\"#0d0887\"],[0.1111111111111111,\"#46039f\"],[0.2222222222222222,\"#7201a8\"],[0.3333333333333333,\"#9c179e\"],[0.4444444444444444,\"#bd3786\"],[0.5555555555555556,\"#d8576b\"],[0.6666666666666666,\"#ed7953\"],[0.7777777777777778,\"#fb9f3a\"],[0.8888888888888888,\"#fdca26\"],[1.0,\"#f0f921\"]]}],\"mesh3d\":[{\"type\":\"mesh3d\",\"colorbar\":{\"outlinewidth\":0,\"ticks\":\"\"}}],\"scatter\":[{\"fillpattern\":{\"fillmode\":\"overlay\",\"size\":10,\"solidity\":0.2},\"type\":\"scatter\"}],\"parcoords\":[{\"type\":\"parcoords\",\"line\":{\"colorbar\":{\"outlinewidth\":0,\"ticks\":\"\"}}}],\"scatterpolargl\":[{\"type\":\"scatterpolargl\",\"marker\":{\"colorbar\":{\"outlinewidth\":0,\"ticks\":\"\"}}}],\"bar\":[{\"error_x\":{\"color\":\"#2a3f5f\"},\"error_y\":{\"color\":\"#2a3f5f\"},\"marker\":{\"line\":{\"color\":\"#E5ECF6\",\"width\":0.5},\"pattern\":{\"fillmode\":\"overlay\",\"size\":10,\"solidity\":0.2}},\"type\":\"bar\"}],\"scattergeo\":[{\"type\":\"scattergeo\",\"marker\":{\"colorbar\":{\"outlinewidth\":0,\"ticks\":\"\"}}}],\"scatterpolar\":[{\"type\":\"scatterpolar\",\"marker\":{\"colorbar\":{\"outlinewidth\":0,\"ticks\":\"\"}}}],\"histogram\":[{\"marker\":{\"pattern\":{\"fillmode\":\"overlay\",\"size\":10,\"solidity\":0.2}},\"type\":\"histogram\"}],\"scattergl\":[{\"type\":\"scattergl\",\"marker\":{\"colorbar\":{\"outlinewidth\":0,\"ticks\":\"\"}}}],\"scatter3d\":[{\"type\":\"scatter3d\",\"line\":{\"colorbar\":{\"outlinewidth\":0,\"ticks\":\"\"}},\"marker\":{\"colorbar\":{\"outlinewidth\":0,\"ticks\":\"\"}}}],\"scattermapbox\":[{\"type\":\"scattermapbox\",\"marker\":{\"colorbar\":{\"outlinewidth\":0,\"ticks\":\"\"}}}],\"scatterternary\":[{\"type\":\"scatterternary\",\"marker\":{\"colorbar\":{\"outlinewidth\":0,\"ticks\":\"\"}}}],\"scattercarpet\":[{\"type\":\"scattercarpet\",\"marker\":{\"colorbar\":{\"outlinewidth\":0,\"ticks\":\"\"}}}],\"carpet\":[{\"aaxis\":{\"endlinecolor\":\"#2a3f5f\",\"gridcolor\":\"white\",\"linecolor\":\"white\",\"minorgridcolor\":\"white\",\"startlinecolor\":\"#2a3f5f\"},\"baxis\":{\"endlinecolor\":\"#2a3f5f\",\"gridcolor\":\"white\",\"linecolor\":\"white\",\"minorgridcolor\":\"white\",\"startlinecolor\":\"#2a3f5f\"},\"type\":\"carpet\"}],\"table\":[{\"cells\":{\"fill\":{\"color\":\"#EBF0F8\"},\"line\":{\"color\":\"white\"}},\"header\":{\"fill\":{\"color\":\"#C8D4E3\"},\"line\":{\"color\":\"white\"}},\"type\":\"table\"}],\"barpolar\":[{\"marker\":{\"line\":{\"color\":\"#E5ECF6\",\"width\":0.5},\"pattern\":{\"fillmode\":\"overlay\",\"size\":10,\"solidity\":0.2}},\"type\":\"barpolar\"}],\"pie\":[{\"automargin\":true,\"type\":\"pie\"}]},\"layout\":{\"autotypenumbers\":\"strict\",\"colorway\":[\"#636efa\",\"#EF553B\",\"#00cc96\",\"#ab63fa\",\"#FFA15A\",\"#19d3f3\",\"#FF6692\",\"#B6E880\",\"#FF97FF\",\"#FECB52\"],\"font\":{\"color\":\"#2a3f5f\"},\"hovermode\":\"closest\",\"hoverlabel\":{\"align\":\"left\"},\"paper_bgcolor\":\"white\",\"plot_bgcolor\":\"#E5ECF6\",\"polar\":{\"bgcolor\":\"#E5ECF6\",\"angularaxis\":{\"gridcolor\":\"white\",\"linecolor\":\"white\",\"ticks\":\"\"},\"radialaxis\":{\"gridcolor\":\"white\",\"linecolor\":\"white\",\"ticks\":\"\"}},\"ternary\":{\"bgcolor\":\"#E5ECF6\",\"aaxis\":{\"gridcolor\":\"white\",\"linecolor\":\"white\",\"ticks\":\"\"},\"baxis\":{\"gridcolor\":\"white\",\"linecolor\":\"white\",\"ticks\":\"\"},\"caxis\":{\"gridcolor\":\"white\",\"linecolor\":\"white\",\"ticks\":\"\"}},\"coloraxis\":{\"colorbar\":{\"outlinewidth\":0,\"ticks\":\"\"}},\"colorscale\":{\"sequential\":[[0.0,\"#0d0887\"],[0.1111111111111111,\"#46039f\"],[0.2222222222222222,\"#7201a8\"],[0.3333333333333333,\"#9c179e\"],[0.4444444444444444,\"#bd3786\"],[0.5555555555555556,\"#d8576b\"],[0.6666666666666666,\"#ed7953\"],[0.7777777777777778,\"#fb9f3a\"],[0.8888888888888888,\"#fdca26\"],[1.0,\"#f0f921\"]],\"sequentialminus\":[[0.0,\"#0d0887\"],[0.1111111111111111,\"#46039f\"],[0.2222222222222222,\"#7201a8\"],[0.3333333333333333,\"#9c179e\"],[0.4444444444444444,\"#bd3786\"],[0.5555555555555556,\"#d8576b\"],[0.6666666666666666,\"#ed7953\"],[0.7777777777777778,\"#fb9f3a\"],[0.8888888888888888,\"#fdca26\"],[1.0,\"#f0f921\"]],\"diverging\":[[0,\"#8e0152\"],[0.1,\"#c51b7d\"],[0.2,\"#de77ae\"],[0.3,\"#f1b6da\"],[0.4,\"#fde0ef\"],[0.5,\"#f7f7f7\"],[0.6,\"#e6f5d0\"],[0.7,\"#b8e186\"],[0.8,\"#7fbc41\"],[0.9,\"#4d9221\"],[1,\"#276419\"]]},\"xaxis\":{\"gridcolor\":\"white\",\"linecolor\":\"white\",\"ticks\":\"\",\"title\":{\"standoff\":15},\"zerolinecolor\":\"white\",\"automargin\":true,\"zerolinewidth\":2},\"yaxis\":{\"gridcolor\":\"white\",\"linecolor\":\"white\",\"ticks\":\"\",\"title\":{\"standoff\":15},\"zerolinecolor\":\"white\",\"automargin\":true,\"zerolinewidth\":2},\"scene\":{\"xaxis\":{\"backgroundcolor\":\"#E5ECF6\",\"gridcolor\":\"white\",\"linecolor\":\"white\",\"showbackground\":true,\"ticks\":\"\",\"zerolinecolor\":\"white\",\"gridwidth\":2},\"yaxis\":{\"backgroundcolor\":\"#E5ECF6\",\"gridcolor\":\"white\",\"linecolor\":\"white\",\"showbackground\":true,\"ticks\":\"\",\"zerolinecolor\":\"white\",\"gridwidth\":2},\"zaxis\":{\"backgroundcolor\":\"#E5ECF6\",\"gridcolor\":\"white\",\"linecolor\":\"white\",\"showbackground\":true,\"ticks\":\"\",\"zerolinecolor\":\"white\",\"gridwidth\":2}},\"shapedefaults\":{\"line\":{\"color\":\"#2a3f5f\"}},\"annotationdefaults\":{\"arrowcolor\":\"#2a3f5f\",\"arrowhead\":0,\"arrowwidth\":1},\"geo\":{\"bgcolor\":\"white\",\"landcolor\":\"#E5ECF6\",\"subunitcolor\":\"white\",\"showland\":true,\"showlakes\":true,\"lakecolor\":\"white\"},\"title\":{\"x\":0.05},\"mapbox\":{\"style\":\"light\"}}},\"xaxis\":{\"anchor\":\"y\",\"domain\":[0.0,1.0],\"title\":{\"text\":\"cluster_child\"},\"labelalias\":{\"48\":\"nature\",\"46\":\"style\",\"44\":\"style\",\"41\":\"light\",\"35\":\"musical instrument\",\"25\":\"tattoo\",\"49\":\"underwater\",\"45\":\"road\",\"42\":\"furniture\",\"18\":\"city\",\"20\":\"room\",\"6\":\"food\",\"13\":\"footwear\",\"38\":\"toy\",\"32\":\"hand\",\"29\":\"computer\",\"31\":\"sports\",\"12\":\"glasses\",\"28\":\"plant\",\"47\":\"artwork\",\"9\":\"room\",\"24\":\"motor vehicle\",\"34\":\"song\",\"40\":\"sports\",\"36\":\"vehicle\",\"15\":\"hair\",\"10\":\"person\",\"21\":\"plant\",\"5\":\"sports\",\"8\":\"eyebrow\",\"43\":\"infant\",\"30\":\"sea\",\"39\":\"hair\",\"19\":\"person\",\"3\":\"geographical feature\",\"1\":\"music\",\"37\":\"building\",\"17\":\"food\",\"33\":\"vehicle\",\"11\":\"art\",\"0\":\"clothing\",\"2\":\"vehicle\",\"27\":\"person\",\"23\":\"event\",\"22\":\"clothing\",\"4\":\"food\",\"16\":\"sports\",\"7\":\"animal\"}},\"yaxis\":{\"anchor\":\"x\",\"domain\":[0.0,1.0],\"title\":{\"text\":\"weight_normalized\"}},\"legend\":{\"tracegroupgap\":0},\"title\":{\"text\":\"Distribution of Flow from Cluster 7\"},\"barmode\":\"relative\"},                        {\"responsive\": true}                    ).then(function(){\n",
       "                            \n",
       "var gd = document.getElementById('69ed3d3e-ab30-48c4-bb3f-405fdff554c6');\n",
       "var x = new MutationObserver(function (mutations, observer) {{\n",
       "        var display = window.getComputedStyle(gd).display;\n",
       "        if (!display || display === 'none') {{\n",
       "            console.log([gd, 'removed!']);\n",
       "            Plotly.purge(gd);\n",
       "            observer.disconnect();\n",
       "        }}\n",
       "}});\n",
       "\n",
       "// Listen for the removal of the full notebook cells\n",
       "var notebookContainer = gd.closest('#notebook-container');\n",
       "if (notebookContainer) {{\n",
       "    x.observe(notebookContainer, {childList: true});\n",
       "}}\n",
       "\n",
       "// Listen for the clearing of the current output cell\n",
       "var outputEl = gd.closest('.output');\n",
       "if (outputEl) {{\n",
       "    x.observe(outputEl, {childList: true});\n",
       "}}\n",
       "\n",
       "                        })                };                });            </script>        </div>"
      ]
     },
     "metadata": {},
     "output_type": "display_data"
    }
   ],
   "source": [
    "child_distribution('7')"
   ]
  },
  {
   "cell_type": "code",
   "execution_count": 102,
   "metadata": {},
   "outputs": [],
   "source": [
    "def get_transition_matrix(df):\n",
    "    num_rows = n_clusters\n",
    "    num_cols = n_clusters\n",
    "    matrix = np.zeros((num_rows,num_cols))\n",
    "\n",
    "    for index, row in df.iterrows():\n",
    "        rows = row['cluster_parent']\n",
    "        cols = row['cluster_child']\n",
    "        weights = row['weight_normalized']\n",
    "        matrix[int(rows)][int(cols)] = weights\n",
    "    return matrix\n",
    "\n",
    "transition_mat = get_transition_matrix(tags_flow)\n",
    "\n",
    "def get_flow_heatmap(matrix):\n",
    "    \n",
    "    fig = px.imshow(matrix, \n",
    "              labels=dict(x=\"Child Clusters\", y=\"Parent Clusters\"),\n",
    "              x=most_defining['tag'],\n",
    "              y=most_defining['tag'])\n",
    "    return fig\n",
    "\n",
    "def get_self_flow(matrix):\n",
    "    diag = matrix.diagonal()\n",
    "    d = {\"cluster\": most_defining['cluster'], 'tags': most_defining['tag'], 'weight': diag}\n",
    "    df = pd.DataFrame(data=d).sort_values(by=\"weight\", ascending=False)\n",
    "    fig = px.bar(df, x=\"cluster\", y=\"weight\", title=\"Like Parent, Like Child:'Tight-Knit' and 'Free-Range' Families\")\n",
    "    fig.update_xaxes(labelalias=dict(dict(zip(df.cluster,df.tags))))\n",
    "    return fig\n",
    "\n",
    "def get_hist_flow(matrix, cumulative=False):\n",
    "    diag = matrix.diagonal()\n",
    "    fig = px.histogram(diag, cumulative=cumulative, title=\"Prob. of Parent's Tag Presented in Child\", nbins=20)\n",
    "    return fig"
   ]
  },
  {
   "cell_type": "code",
   "execution_count": 103,
   "metadata": {},
   "outputs": [
    {
     "data": {
      "text/html": [
       "<div>                            <div id=\"6865033c-3ba6-420b-9048-7922af1b4ccf\" class=\"plotly-graph-div\" style=\"height:525px; width:100%;\"></div>            <script type=\"text/javascript\">                require([\"plotly\"], function(Plotly) {                    window.PLOTLYENV=window.PLOTLYENV || {};                                    if (document.getElementById(\"6865033c-3ba6-420b-9048-7922af1b4ccf\")) {                    Plotly.newPlot(                        \"6865033c-3ba6-420b-9048-7922af1b4ccf\",                        [{\"coloraxis\":\"coloraxis\",\"name\":\"0\",\"x\":[\"clothing\",\"music\",\"vehicle\",\"geographical feature\",\"food\",\"sports\",\"food\",\"animal\",\"eyebrow\",\"room\",\"person\",\"art\",\"glasses\",\"footwear\",\"monument\",\"hair\",\"sports\",\"food\",\"city\",\"person\",\"room\",\"plant\",\"clothing\",\"event\",\"motor vehicle\",\"tattoo\",\"sky\",\"person\",\"plant\",\"computer\",\"sea\",\"sports\",\"hand\",\"vehicle\",\"song\",\"musical instrument\",\"vehicle\",\"building\",\"toy\",\"hair\",\"sports\",\"light\",\"furniture\",\"infant\",\"style\",\"road\",\"style\",\"artwork\",\"nature\",\"underwater\"],\"y\":[\"clothing\",\"music\",\"vehicle\",\"geographical feature\",\"food\",\"sports\",\"food\",\"animal\",\"eyebrow\",\"room\",\"person\",\"art\",\"glasses\",\"footwear\",\"monument\",\"hair\",\"sports\",\"food\",\"city\",\"person\",\"room\",\"plant\",\"clothing\",\"event\",\"motor vehicle\",\"tattoo\",\"sky\",\"person\",\"plant\",\"computer\",\"sea\",\"sports\",\"hand\",\"vehicle\",\"song\",\"musical instrument\",\"vehicle\",\"building\",\"toy\",\"hair\",\"sports\",\"light\",\"furniture\",\"infant\",\"style\",\"road\",\"style\",\"artwork\",\"nature\",\"underwater\"],\"z\":[[0.1735973597359736,0.05478547854785479,0.0165016501650165,0.008580858085808581,0.025082508250825083,0.01914191419141914,0.018481848184818482,0.015841584158415842,0.01914191419141914,0.025082508250825083,0.011221122112211221,0.015181518151815182,0.006600660066006601,0.021122112211221122,0.0,0.036303630363036306,0.039603960396039604,0.01914191419141914,0.009240924092409241,0.02706270627062706,0.007920792079207921,0.008580858085808581,0.09768976897689768,0.033003300330033,0.010561056105610561,0.005280528052805281,0.0026402640264026403,0.030363036303630363,0.036963696369636964,0.005940594059405941,0.01782178217821782,0.0026402640264026403,0.02178217821782178,0.013201320132013201,0.050165016501650166,0.007260726072607261,0.010561056105610561,0.0046204620462046205,0.0019801980198019802,0.019801980198019802,0.009900990099009901,0.007260726072607261,0.012541254125412541,0.009900990099009901,0.0039603960396039604,0.0,0.0033003300330033004,0.0013201320132013201,0.0,0.0013201320132013201],[0.024165707710011506,0.2882623705408516,0.020713463751438434,0.009781357882623706,0.031070195627157654,0.020713463751438434,0.01668584579976985,0.03394706559263521,0.014959723820483314,0.005178365937859608,0.004602991944764097,0.014384349827387802,0.00805523590333717,0.01093210586881473,0.0,0.00805523590333717,0.02761795166858458,0.012082853855005753,0.00805523590333717,0.012658227848101266,0.0011507479861910242,0.01093210586881473,0.02243958573072497,0.037399309551208286,0.007479861910241657,0.0017261219792865361,0.004602991944764097,0.025891829689298044,0.02186421173762946,0.004027617951668585,0.01726121979286536,0.0023014959723820483,0.014959723820483314,0.00805523590333717,0.1904487917146145,0.0011507479861910242,0.007479861910241657,0.006904487917146145,0.0011507479861910242,0.006904487917146145,0.007479861910241657,0.0011507479861910242,0.006329113924050633,0.007479861910241657,0.0017261219792865361,0.0011507479861910242,0.0011507479861910242,0.005178365937859608,0.0023014959723820483,0.0],[0.03440453686200378,0.009829867674858222,0.18941398865784498,0.01625708884688091,0.03364839319470699,0.0332703213610586,0.012098298676748583,0.01890359168241966,0.013610586011342156,0.020793950850661626,0.012476370510396975,0.015879017013232515,0.004914933837429111,0.014744801512287334,0.0,0.024196597353497166,0.08279773156899811,0.02117202268431002,0.011720226843100189,0.012476370510396975,0.006427221172022685,0.014366729678638942,0.0223062381852552,0.022684310018903593,0.0665406427221172,0.009829867674858222,0.001890359168241966,0.01890359168241966,0.021928166351606805,0.009829867674858222,0.017013232514177693,0.009073724007561436,0.018525519848771266,0.036294896030245744,0.011342155009451797,0.005293005671077505,0.023440453686200378,0.012098298676748583,0.004536862003780718,0.020415879017013232,0.017391304347826087,0.003402646502835539,0.015122873345935728,0.006427221172022685,0.0026465028355387526,0.0026465028355387526,0.003780718336483932,0.0060491493383742915,0.0026465028355387526,0.004536862003780718],[0.023785425101214574,0.0298582995951417,0.02327935222672065,0.08704453441295547,0.023785425101214574,0.020748987854251014,0.01720647773279352,0.04959514170040486,0.006578947368421052,0.014676113360323886,0.01771255060728745,0.053643724696356275,0.01062753036437247,0.00860323886639676,0.0015182186234817814,0.014676113360323886,0.029352226720647773,0.02631578947368421,0.03694331983805668,0.03137651821862348,0.0075910931174089065,0.039979757085020245,0.023785425101214574,0.02125506072874494,0.019230769230769232,0.0025303643724696357,0.026821862348178137,0.020242914979757085,0.026821862348178137,0.009109311740890687,0.048582995951417005,0.00708502024291498,0.011133603238866396,0.02783400809716599,0.020242914979757085,0.006578947368421052,0.025303643724696356,0.02125506072874494,0.0020242914979757085,0.010121457489878543,0.016194331983805668,0.0025303643724696357,0.011133603238866396,0.013663967611336033,0.0020242914979757085,0.0010121457489878543,0.003036437246963563,0.02277327935222672,0.01720647773279352,0.005566801619433198],[0.02639976791412823,0.023788801856686973,0.025529445894981143,0.008123005512039455,0.25877574702639977,0.020887728459530026,0.05976211198143313,0.024369016536118365,0.010443864229765013,0.014215259646069046,0.011604293588627792,0.019727299100667246,0.005512039454598201,0.011604293588627792,0.0005802146794313896,0.019147084421235857,0.030461270670147953,0.07049608355091384,0.00841311285175515,0.015375689004931825,0.0040615027560197275,0.013344937626921962,0.021467943138961415,0.018276762402088774,0.023788801856686973,0.0040615027560197275,0.0026109660574412533,0.02291847983753989,0.02349869451697128,0.017406440382941687,0.011314186248912098,0.006672468813460981,0.020017406440382943,0.010443864229765013,0.019727299100667246,0.0017406440382941688,0.013054830287206266,0.015375689004931825,0.0034812880765883376,0.013635044966637656,0.011604293588627792,0.010153756890049319,0.011894400928343487,0.011604293588627792,0.006382361473745286,0.0011604293588627793,0.001450536698578474,0.007832898172323759,0.0034812880765883376,0.0023208587177255585],[0.022727272727272728,0.021618625277161862,0.052106430155210645,0.026053215077605323,0.022172949002217297,0.10144124168514412,0.011086474501108648,0.03048780487804878,0.009423503325942351,0.018847006651884702,0.015521064301552107,0.012749445676274944,0.014966740576496674,0.0066518847006651885,0.022727272727272728,0.0066518847006651885,0.09866962305986696,0.007760532150776054,0.019401330376940133,0.02771618625277162,0.004988913525498891,0.017184035476718405,0.01385809312638581,0.03048780487804878,0.03215077605321508,0.004434589800443459,0.009977827050997782,0.03270509977827051,0.01164079822616408,0.0066518847006651885,0.019955654101995565,0.03436807095343681,0.007206208425720621,0.04379157427937916,0.017738359201773836,0.0016629711751662971,0.027161862527716185,0.010532150776053215,0.004988913525498891,0.010532150776053215,0.04767184035476718,0.008314855875831485,0.005543237250554324,0.011086474501108648,0.004988913525498891,0.004988913525498891,0.003880266075388027,0.012195121951219513,0.002771618625277162,0.007760532150776054],[0.05124653739612189,0.012465373961218837,0.02008310249307479,0.014542936288088643,0.12950138504155126,0.02008310249307479,0.06301939058171745,0.03393351800554017,0.014542936288088643,0.02146814404432133,0.011772853185595568,0.018698060941828253,0.004847645429362881,0.014542936288088643,0.0013850415512465374,0.02008310249307479,0.037396121883656507,0.06994459833795014,0.013157894736842105,0.01592797783933518,0.0110803324099723,0.009695290858725761,0.03393351800554017,0.024930747922437674,0.01592797783933518,0.002770083102493075,0.002770083102493075,0.029085872576177285,0.04224376731301939,0.01731301939058172,0.006925207756232687,0.009695290858725761,0.03254847645429363,0.013850415512465374,0.01038781163434903,0.002077562326869806,0.02077562326869806,0.022853185595567867,0.004155124653739612,0.02146814404432133,0.022853185595567867,0.002077562326869806,0.013850415512465374,0.01592797783933518,0.0034626038781163434,0.0,0.0006925207756232687,0.007617728531855956,0.004847645429362881,0.00554016620498615],[0.02663115845539281,0.022636484687083888,0.02929427430093209,0.022636484687083888,0.045272969374167776,0.018641810918774968,0.009320905459387484,0.19840213049267644,0.019973368841544607,0.015978695073235686,0.017310252996005325,0.02663115845539281,0.011984021304926764,0.009320905459387484,0.0,0.017310252996005325,0.05193075898801598,0.02529960053262317,0.007989347536617843,0.022636484687083888,0.007989347536617843,0.017310252996005325,0.03861517976031957,0.033288948069241014,0.015978695073235686,0.0013315579227696406,0.0,0.02929427430093209,0.013315579227696404,0.011984021304926764,0.02130492676431425,0.011984021304926764,0.010652463382157125,0.02663115845539281,0.017310252996005325,0.0013315579227696406,0.017310252996005325,0.02529960053262317,0.009320905459387484,0.02130492676431425,0.017310252996005325,0.0013315579227696406,0.005326231691078562,0.019973368841544607,0.0013315579227696406,0.0039946737683089215,0.0013315579227696406,0.014647137150466045,0.0013315579227696406,0.002663115845539281],[0.03984819734345351,0.003795066413662239,0.007590132827324478,0.0056925996204933585,0.009487666034155597,0.007590132827324478,0.009487666034155597,0.022770398481973434,0.32637571157495254,0.020872865275142316,0.0056925996204933585,0.04743833017077799,0.003795066413662239,0.0056925996204933585,0.0,0.05313092979127135,0.018975332068311195,0.0056925996204933585,0.007590132827324478,0.056925996204933584,0.013282732447817837,0.007590132827324478,0.017077798861480076,0.013282732447817837,0.009487666034155597,0.009487666034155597,0.0018975332068311196,0.05502846299810247,0.017077798861480076,0.013282732447817837,0.0,0.003795066413662239,0.07020872865275142,0.003795066413662239,0.009487666034155597,0.0018975332068311196,0.007590132827324478,0.0018975332068311196,0.011385199240986717,0.022770398481973434,0.007590132827324478,0.0018975332068311196,0.003795066413662239,0.0,0.013282732447817837,0.0,0.0018975332068311196,0.017077798861480076,0.003795066413662239,0.0018975332068311196],[0.029411764705882353,0.01918158567774936,0.030690537084398978,0.015345268542199489,0.05115089514066496,0.017902813299232736,0.017902813299232736,0.03964194373401535,0.010230179028132993,0.06777493606138107,0.01278772378516624,0.0319693094629156,0.005115089514066497,0.015345268542199489,0.0012787723785166241,0.023017902813299233,0.06649616368286446,0.02557544757033248,0.011508951406649617,0.017902813299232736,0.01278772378516624,0.020460358056265986,0.023017902813299233,0.029411764705882353,0.017902813299232736,0.005115089514066497,0.00639386189258312,0.058823529411764705,0.026854219948849106,0.014066496163682864,0.011508951406649617,0.00639386189258312,0.016624040920716114,0.023017902813299233,0.017902813299232736,0.00639386189258312,0.016624040920716114,0.06521739130434782,0.011508951406649617,0.017902813299232736,0.023017902813299233,0.005115089514066497,0.03324808184143223,0.00639386189258312,0.005115089514066497,0.0012787723785166241,0.0,0.0038363171355498722,0.0012787723785166241,0.0025575447570332483],[0.05027932960893855,0.013966480446927373,0.013966480446927373,0.013966480446927373,0.05865921787709497,0.0223463687150838,0.019553072625698324,0.030726256983240222,0.013966480446927373,0.019553072625698324,0.061452513966480445,0.0111731843575419,0.0111731843575419,0.0111731843575419,0.0,0.0335195530726257,0.019553072625698324,0.0223463687150838,0.0111731843575419,0.04748603351955307,0.008379888268156424,0.025139664804469275,0.05865921787709497,0.01675977653631285,0.0111731843575419,0.0,0.008379888268156424,0.061452513966480445,0.05865921787709497,0.0223463687150838,0.025139664804469275,0.0,0.025139664804469275,0.025139664804469275,0.002793296089385475,0.0,0.025139664804469275,0.019553072625698324,0.0111731843575419,0.025139664804469275,0.013966480446927373,0.002793296089385475,0.019553072625698324,0.019553072625698324,0.00558659217877095,0.0,0.0,0.0111731843575419,0.0,0.0111731843575419],[0.01825168107588857,0.01633045148895293,0.012487992315081652,0.009606147934678195,0.021133525456292025,0.013448607108549471,0.008645533141210375,0.024975984630163303,0.02881844380403458,0.022094140249759846,0.009606147934678195,0.30643611911623436,0.0,0.0038424591738712775,0.0019212295869356388,0.01440922190201729,0.01921229586935639,0.01633045148895293,0.0067243035542747355,0.03554274735830932,0.012487992315081652,0.009606147934678195,0.01536983669548511,0.012487992315081652,0.008645533141210375,0.0009606147934678194,0.007684918347742555,0.04707012487992315,0.01440922190201729,0.07492795389048991,0.0067243035542747355,0.0038424591738712775,0.005763688760806916,0.012487992315081652,0.013448607108549471,0.0,0.0067243035542747355,0.008645533141210375,0.021133525456292025,0.005763688760806916,0.0019212295869356388,0.0009606147934678194,0.004803073967339097,0.004803073967339097,0.021133525456292025,0.0,0.0009606147934678194,0.08357348703170028,0.0009606147934678194,0.002881844380403458],[0.048507462686567165,0.048507462686567165,0.03731343283582089,0.007462686567164179,0.07835820895522388,0.007462686567164179,0.022388059701492536,0.029850746268656716,0.048507462686567165,0.0037313432835820895,0.026119402985074626,0.018656716417910446,0.022388059701492536,0.018656716417910446,0.0,0.018656716417910446,0.018656716417910446,0.048507462686567165,0.011194029850746268,0.029850746268656716,0.007462686567164179,0.0037313432835820895,0.07462686567164178,0.011194029850746268,0.011194029850746268,0.0037313432835820895,0.0037313432835820895,0.029850746268656716,0.041044776119402986,0.014925373134328358,0.011194029850746268,0.007462686567164179,0.026119402985074626,0.022388059701492536,0.05223880597014925,0.0,0.026119402985074626,0.018656716417910446,0.0,0.022388059701492536,0.022388059701492536,0.007462686567164179,0.022388059701492536,0.0037313432835820895,0.0,0.0,0.0,0.011194029850746268,0.0,0.0],[0.053212199870214145,0.07138221933809215,0.03958468526930565,0.009085009733939001,0.021414665801427646,0.03244646333549643,0.007787151200519144,0.06164828033744322,0.006489292667099286,0.016223231667748216,0.027903958468526932,0.030499675535366644,0.01881894873458793,0.04672290720311486,0.0012978585334198572,0.010382868267358857,0.03893575600259572,0.012329656067488644,0.01427644386761843,0.01752109020116807,0.0012978585334198572,0.022063595068137574,0.031148604802076575,0.024010382868267358,0.04218040233614536,0.003893575600259572,0.015574302401038288,0.025308241401687217,0.014925373134328358,0.011680726800778715,0.016223231667748216,0.011031797534068787,0.011680726800778715,0.027903958468526932,0.03893575600259572,0.0,0.020116807268007787,0.008436080467229072,0.001946787800129786,0.02465931213497729,0.029850746268656716,0.018170019467878003,0.009085009733939001,0.005191434133679429,0.0012978585334198572,0.0012978585334198572,0.001946787800129786,0.03439325113562622,0.005191434133679429,0.0025957170668397143],[0.019877675840978593,0.04892966360856269,0.0672782874617737,0.0061162079510703364,0.0061162079510703364,0.01834862385321101,0.0,0.05657492354740061,0.0061162079510703364,0.012232415902140673,0.021406727828746176,0.035168195718654434,0.06422018348623854,0.009174311926605505,0.06422018348623854,0.0061162079510703364,0.01529051987767584,0.00764525993883792,0.04434250764525994,0.024464831804281346,0.012232415902140673,0.0061162079510703364,0.027522935779816515,0.012232415902140673,0.04128440366972477,0.0045871559633027525,0.012232415902140673,0.02599388379204893,0.012232415902140673,0.010703363914373088,0.00764525993883792,0.013761467889908258,0.0030581039755351682,0.0290519877675841,0.019877675840978593,0.0,0.03669724770642202,0.01834862385321101,0.009174311926605505,0.009174311926605505,0.0015290519877675841,0.0290519877675841,0.0015290519877675841,0.0045871559633027525,0.0,0.0015290519877675841,0.0,0.11162079510703364,0.0030581039755351682,0.0015290519877675841],[0.030562347188264057,0.008557457212713936,0.02444987775061125,0.006112469437652812,0.037897310513447434,0.023227383863080684,0.028117359413202935,0.02078239608801956,0.035452322738386305,0.01589242053789731,0.014669926650366748,0.012224938875305624,0.006112469437652812,0.011002444987775062,0.0,0.20537897310513448,0.0488997555012225,0.017114914425427872,0.007334963325183374,0.018337408312958436,0.003667481662591687,0.012224938875305624,0.040342298288508556,0.029339853300733496,0.006112469437652812,0.003667481662591687,0.0012224938875305623,0.017114914425427872,0.023227383863080684,0.014669926650366748,0.008557457212713936,0.003667481662591687,0.02689486552567237,0.012224938875305624,0.008557457212713936,0.003667481662591687,0.008557457212713936,0.011002444987775062,0.003667481662591687,0.07334963325183375,0.02567237163814181,0.004889975550122249,0.012224938875305624,0.003667481662591687,0.0024449877750611247,0.0024449877750611247,0.05990220048899755,0.0012224938875305623,0.0,0.003667481662591687],[0.023744911804613297,0.016282225237449117,0.02103120759837178,0.0067842605156037995,0.0203527815468114,0.03934871099050204,0.010854816824966078,0.021709633649932156,0.008819538670284939,0.012211668928086838,0.0,0.012890094979647219,0.0033921302578018998,0.0067842605156037995,0.0,0.012211668928086838,0.432157394843962,0.012211668928086838,0.006105834464043419,0.008819538670284939,0.0047489823609226595,0.008141112618724558,0.014246947082767978,0.03867028493894165,0.012211668928086838,0.006105834464043419,0.0027137042062415195,0.015603799185888738,0.0067842605156037995,0.006105834464043419,0.012211668928086838,0.016960651289009497,0.009497964721845319,0.014246947082767978,0.008141112618724558,0.007462686567164179,0.0067842605156037995,0.007462686567164179,0.0027137042062415195,0.007462686567164179,0.09226594301221167,0.004070556309362279,0.0047489823609226595,0.0006784260515603799,0.0006784260515603799,0.0006784260515603799,0.004070556309362279,0.0047489823609226595,0.0013568521031207597,0.0027137042062415195],[0.030864197530864196,0.014814814814814815,0.022222222222222223,0.018518518518518517,0.12469135802469136,0.025925925925925925,0.04938271604938271,0.030864197530864196,0.009876543209876543,0.018518518518518517,0.014814814814814815,0.028395061728395062,0.003703703703703704,0.011111111111111112,0.0024691358024691358,0.020987654320987655,0.04567901234567901,0.08888888888888889,0.013580246913580247,0.020987654320987655,0.006172839506172839,0.014814814814814815,0.02345679012345679,0.02345679012345679,0.02962962962962963,0.003703703703703704,0.003703703703703704,0.027160493827160494,0.030864197530864196,0.014814814814814815,0.01728395061728395,0.008641975308641974,0.01728395061728395,0.022222222222222223,0.008641975308641974,0.006172839506172839,0.024691358024691357,0.025925925925925925,0.0049382716049382715,0.014814814814814815,0.019753086419753086,0.008641975308641974,0.01728395061728395,0.014814814814814815,0.003703703703703704,0.0,0.0012345679012345679,0.0024691358024691358,0.0024691358024691358,0.0049382716049382715],[0.023295213892418468,0.019906819144430325,0.04193138500635324,0.053367217280813214,0.021601016518424398,0.023718763235916984,0.013130029648454045,0.041084286319356206,0.0063532401524777635,0.01397712833545108,0.022871664548919948,0.014824227022448115,0.0063532401524777635,0.005506141465480729,0.0025412960609911056,0.01228293096145701,0.023295213892418468,0.015247776365946633,0.08089792460821686,0.02583650995340957,0.007623888182973317,0.07412113511224058,0.01736552308343922,0.017789072426937738,0.04066073697585769,0.004659042778483694,0.027530707327403644,0.020330368487928845,0.024989411266412537,0.006776789495976281,0.023718763235916984,0.005082592121982211,0.007200338839474798,0.030072003388394747,0.013553578991952562,0.00847098686997035,0.02964845404489623,0.054637865311308764,0.004235493434985175,0.013130029648454045,0.01609487505294367,0.0021177467174925877,0.010165184243964422,0.007200338839474798,0.0008470986869970351,0.0021177467174925877,0.0008470986869970351,0.004235493434985175,0.048284625158831,0.00847098686997035],[0.029038112522686024,0.024500907441016333,0.016333938294010888,0.009981851179673321,0.02041742286751361,0.02132486388384755,0.019056261343012703,0.027676950998185117,0.028130671506352088,0.015426497277676952,0.03720508166969147,0.02676950998185118,0.019509981851179675,0.013157894736842105,0.00045372050816696913,0.017241379310344827,0.03402903811252268,0.01588021778584392,0.009074410163339383,0.12250453720508167,0.009981851179673321,0.007713248638838476,0.04083484573502722,0.05172413793103448,0.023139745916515426,0.006352087114337568,0.012704174228675136,0.029038112522686024,0.020871143375680582,0.009981851179673321,0.015426497277676952,0.008620689655172414,0.03539019963702359,0.010889292196007259,0.02722323049001815,0.00045372050816696913,0.022686025408348458,0.007713248638838476,0.002268602540834846,0.030399274047186932,0.019509981851179675,0.004990925589836661,0.0054446460980036296,0.04083484573502722,0.0054446460980036296,0.003629764065335753,0.02586206896551724,0.010889292196007259,0.0,0.002268602540834846],[0.06326530612244897,0.006122448979591836,0.022448979591836733,0.022448979591836733,0.024489795918367346,0.030612244897959183,0.0163265306122449,0.02857142857142857,0.01020408163265306,0.03469387755102041,0.014285714285714285,0.02040816326530612,0.006122448979591836,0.012244897959183673,0.0020408163265306124,0.018367346938775512,0.03877551020408163,0.0326530612244898,0.0163265306122449,0.022448979591836733,0.061224489795918366,0.02040816326530612,0.02857142857142857,0.03469387755102041,0.026530612244897958,0.004081632653061225,0.0020408163265306124,0.044897959183673466,0.04081632653061224,0.022448979591836733,0.018367346938775512,0.004081632653061225,0.026530612244897958,0.01020408163265306,0.004081632653061225,0.0,0.014285714285714285,0.07142857142857142,0.006122448979591836,0.022448979591836733,0.014285714285714285,0.0020408163265306124,0.036734693877551024,0.0163265306122449,0.0,0.0,0.0,0.014285714285714285,0.006122448979591836,0.004081632653061225],[0.029635901778154106,0.01947502116850127,0.023708721422523286,0.07874682472480948,0.04657070279424217,0.016088060965283656,0.01693480101608806,0.03895004233700254,0.007620660457239628,0.016088060965283656,0.02286198137171888,0.012701100762066046,0.003386960203217612,0.0059271803556308214,0.003386960203217612,0.014394580863674851,0.023708721422523286,0.026248941574936496,0.0279424216765453,0.02286198137171888,0.009314140558848433,0.06773920406435224,0.027095681625740897,0.017781541066892465,0.01693480101608806,0.000846740050804403,0.018628281117696866,0.029635901778154106,0.06689246401354784,0.009314140558848433,0.07705334462320068,0.003386960203217612,0.00846740050804403,0.02032176121930567,0.018628281117696866,0.000846740050804403,0.02540220152413209,0.028789161727349702,0.002540220152413209,0.013547840812870448,0.010160880609652836,0.002540220152413209,0.01693480101608806,0.018628281117696866,0.001693480101608806,0.004233700254022015,0.004233700254022015,0.002540220152413209,0.01100762066045724,0.007620660457239628],[0.12004950495049505,0.018564356435643563,0.018564356435643563,0.010313531353135313,0.03506600660066007,0.009900990099009901,0.01773927392739274,0.01608910891089109,0.03217821782178218,0.01608910891089109,0.013201320132013201,0.018976897689768978,0.01155115511551155,0.03094059405940594,0.00041254125412541255,0.04950495049504951,0.023514851485148515,0.019801980198019802,0.008663366336633664,0.026815181518151814,0.004537953795379538,0.014026402640264026,0.20255775577557755,0.02103960396039604,0.013201320132013201,0.0033003300330033004,0.0049504950495049506,0.026402640264026403,0.028465346534653466,0.010313531353135313,0.01608910891089109,0.0033003300330033004,0.02929042904290429,0.01155115511551155,0.018151815181518153,0.00041254125412541255,0.00825082508250825,0.007425742574257425,0.0033003300330033004,0.026815181518151814,0.010726072607260726,0.0028877887788778876,0.013613861386138614,0.007013201320132013,0.004125412541254125,0.0024752475247524753,0.00041254125412541255,0.004537953795379538,0.0012376237623762376,0.0016501650165016502],[0.01804123711340206,0.06056701030927835,0.020618556701030927,0.007731958762886598,0.03221649484536082,0.019329896907216496,0.015463917525773196,0.01288659793814433,0.015463917525773196,0.027061855670103094,0.00902061855670103,0.010309278350515464,0.01288659793814433,0.005154639175257732,0.0,0.01675257731958763,0.03994845360824742,0.019329896907216496,0.015463917525773196,0.019329896907216496,0.007731958762886598,0.007731958762886598,0.03479381443298969,0.23840206185567012,0.01804123711340206,0.001288659793814433,0.002577319587628866,0.028350515463917526,0.014175257731958763,0.003865979381443299,0.01804123711340206,0.005154639175257732,0.011597938144329897,0.019329896907216496,0.09407216494845361,0.007731958762886598,0.015463917525773196,0.010309278350515464,0.005154639175257732,0.011597938144329897,0.007731958762886598,0.005154639175257732,0.02190721649484536,0.01288659793814433,0.005154639175257732,0.0,0.0,0.006443298969072165,0.0,0.007731958762886598],[0.02103448275862069,0.02724137931034483,0.12586206896551724,0.012413793103448275,0.016206896551724137,0.017586206896551725,0.0034482758620689655,0.038620689655172416,0.006551724137931035,0.013448275862068966,0.012758620689655173,0.007586206896551724,0.03,0.007931034482758621,0.000689655172413793,0.020344827586206895,0.029655172413793104,0.012413793103448275,0.01689655172413793,0.04,0.004482758620689655,0.029655172413793104,0.011724137931034483,0.005517241379310344,0.19724137931034483,0.003793103448275862,0.04,0.01689655172413793,0.01689655172413793,0.006896551724137931,0.005172413793103448,0.005172413793103448,0.008275862068965517,0.03413793103448276,0.024482758620689656,0.0017241379310344827,0.033448275862068964,0.019655172413793102,0.0010344827586206897,0.011724137931034483,0.015862068965517243,0.0020689655172413794,0.008275862068965517,0.007586206896551724,0.0020689655172413794,0.0017241379310344827,0.0010344827586206897,0.014137931034482758,0.004827586206896552,0.003793103448275862],[0.0,0.012658227848101266,0.012658227848101266,0.05063291139240506,0.08860759493670886,0.012658227848101266,0.0,0.0379746835443038,0.02531645569620253,0.05063291139240506,0.012658227848101266,0.0379746835443038,0.0,0.012658227848101266,0.0,0.0379746835443038,0.012658227848101266,0.0379746835443038,0.02531645569620253,0.012658227848101266,0.012658227848101266,0.0379746835443038,0.012658227848101266,0.012658227848101266,0.02531645569620253,0.20253164556962025,0.0,0.0,0.02531645569620253,0.02531645569620253,0.0379746835443038,0.012658227848101266,0.02531645569620253,0.02531645569620253,0.012658227848101266,0.0,0.0,0.012658227848101266,0.0,0.0,0.012658227848101266,0.0,0.0,0.0,0.0,0.0,0.0,0.012658227848101266,0.0,0.012658227848101266],[0.0351493848857645,0.02460456942003515,0.03866432337434095,0.056239015817223195,0.022847100175746926,0.028119507908611598,0.01054481546572935,0.029876977152899824,0.01054481546572935,0.01054481546572935,0.015817223198594025,0.0210896309314587,0.012302284710017574,0.007029876977152899,0.0017574692442882249,0.033391915641476276,0.050966608084358524,0.026362038664323375,0.0351493848857645,0.0351493848857645,0.008787346221441126,0.022847100175746926,0.02460456942003515,0.026362038664323375,0.019332161687170474,0.0017574692442882249,0.07557117750439367,0.014059753954305799,0.054481546572934976,0.014059753954305799,0.056239015817223195,0.01054481546572935,0.008787346221441126,0.026362038664323375,0.01054481546572935,0.0017574692442882249,0.007029876977152899,0.01757469244288225,0.0035149384885764497,0.012302284710017574,0.022847100175746926,0.0035149384885764497,0.01054481546572935,0.008787346221441126,0.0017574692442882249,0.0035149384885764497,0.0017574692442882249,0.012302284710017574,0.008787346221441126,0.0035149384885764497],[0.02875399361022364,0.023961661341853034,0.03035143769968051,0.013578274760383386,0.018370607028753993,0.01597444089456869,0.010383386581469648,0.04073482428115016,0.015175718849840255,0.01757188498402556,0.007987220447284345,0.038338658146964855,0.011980830670926517,0.011980830670926517,0.0023961661341853034,0.019968051118210862,0.02476038338658147,0.013578274760383386,0.016773162939297124,0.029552715654952075,0.00878594249201278,0.0231629392971246,0.01757188498402556,0.0231629392971246,0.022364217252396165,0.0,0.03035143769968051,0.19249201277955272,0.027156549520766772,0.009584664536741214,0.027955271565495207,0.005591054313099041,0.013578274760383386,0.0231629392971246,0.038338658146964855,0.0023961661341853034,0.02156549520766773,0.011182108626198083,0.023961661341853034,0.007987220447284345,0.00878594249201278,0.007987220447284345,0.00718849840255591,0.009584664536741214,0.006389776357827476,0.001597444089456869,0.0023961661341853034,0.016773162939297124,0.013578274760383386,0.003194888178913738],[0.05311355311355311,0.015262515262515262,0.023809523809523808,0.016483516483516484,0.06043956043956044,0.014041514041514042,0.03663003663003663,0.040293040293040296,0.021367521367521368,0.027472527472527472,0.009768009768009768,0.028693528693528692,0.008547008547008548,0.0115995115995116,0.0018315018315018315,0.02442002442002442,0.02442002442002442,0.045177045177045176,0.014041514041514042,0.03235653235653236,0.008547008547008548,0.026862026862026864,0.03296703296703297,0.013431013431013432,0.007326007326007326,0.004884004884004884,0.01098901098901099,0.028083028083028084,0.1336996336996337,0.01282051282051282,0.027472527472527472,0.003663003663003663,0.029304029304029304,0.014041514041514042,0.026251526251526252,0.001221001221001221,0.010378510378510378,0.01098901098901099,0.007936507936507936,0.017094017094017096,0.003663003663003663,0.0030525030525030525,0.014652014652014652,0.018925518925518924,0.004884004884004884,0.003663003663003663,0.0018315018315018315,0.004884004884004884,0.004273504273504274,0.002442002442002442],[0.01818181818181818,0.0049586776859504135,0.009917355371900827,0.008264462809917356,0.04297520661157025,0.003305785123966942,0.02809917355371901,0.023140495867768594,0.013223140495867768,0.019834710743801654,0.01487603305785124,0.12727272727272726,0.01487603305785124,0.013223140495867768,0.0,0.019834710743801654,0.019834710743801654,0.03966942148760331,0.009917355371900827,0.01652892561983471,0.008264462809917356,0.009917355371900827,0.023140495867768594,0.01818181818181818,0.01487603305785124,0.006611570247933884,0.01652892561983471,0.03471074380165289,0.013223140495867768,0.20330578512396694,0.01487603305785124,0.003305785123966942,0.02809917355371901,0.008264462809917356,0.01487603305785124,0.001652892561983471,0.023140495867768594,0.009917355371900827,0.003305785123966942,0.013223140495867768,0.026446280991735537,0.0049586776859504135,0.013223140495867768,0.009917355371900827,0.0049586776859504135,0.0049586776859504135,0.001652892561983471,0.01652892561983471,0.0,0.0],[0.02454473475851148,0.027711797307996833,0.023752969121140142,0.07838479809976247,0.0395882818685669,0.027711797307996833,0.019002375296912115,0.035629453681710214,0.011876484560570071,0.01741884402216944,0.0166270783847981,0.01741884402216944,0.00791765637371338,0.003167062549485352,0.003167062549485352,0.021377672209026127,0.03721298495645289,0.0332541567695962,0.019002375296912115,0.015043547110055424,0.0055423594615993665,0.040380047505938245,0.030878859857482184,0.03167062549485352,0.013460015835312747,0.003167062549485352,0.021377672209026127,0.02929532858273951,0.027711797307996833,0.007125890736342043,0.12826603325415678,0.00395882818685669,0.01583531274742676,0.022961203483768806,0.01741884402216944,0.0,0.018210609659540775,0.015043547110055424,0.0055423594615993665,0.009501187648456057,0.02058590657165479,0.0,0.00870942201108472,0.011876484560570071,0.001583531274742676,0.001583531274742676,0.001583531274742676,0.0023752969121140144,0.00791765637371338,0.0166270783847981],[0.019305019305019305,0.05019305019305019,0.015444015444015444,0.02702702702702703,0.011583011583011582,0.08108108108108109,0.03088803088803089,0.023166023166023165,0.023166023166023165,0.011583011583011582,0.011583011583011582,0.011583011583011582,0.0,0.015444015444015444,0.007722007722007722,0.03088803088803089,0.1583011583011583,0.015444015444015444,0.003861003861003861,0.007722007722007722,0.015444015444015444,0.007722007722007722,0.007722007722007722,0.04247104247104247,0.019305019305019305,0.0,0.003861003861003861,0.03088803088803089,0.015444015444015444,0.007722007722007722,0.03088803088803089,0.06177606177606178,0.015444015444015444,0.02702702702702703,0.019305019305019305,0.0,0.007722007722007722,0.011583011583011582,0.003861003861003861,0.007722007722007722,0.0694980694980695,0.0,0.019305019305019305,0.0,0.003861003861003861,0.0,0.0,0.007722007722007722,0.007722007722007722,0.0],[0.04904051172707889,0.0255863539445629,0.011727078891257996,0.010660980810234541,0.017057569296375266,0.009594882729211088,0.0255863539445629,0.022388059701492536,0.05863539445628998,0.017057569296375266,0.011727078891257996,0.019189765458422176,0.008528784648187633,0.017057569296375266,0.0010660980810234541,0.07036247334754797,0.021321961620469083,0.01812366737739872,0.0042643923240938165,0.019189765458422176,0.008528784648187633,0.011727078891257996,0.028784648187633263,0.010660980810234541,0.014925373134328358,0.008528784648187633,0.0021321961620469083,0.03411513859275053,0.021321961620469083,0.010660980810234541,0.006396588486140725,0.0010660980810234541,0.2515991471215352,0.010660980810234541,0.011727078891257996,0.0010660980810234541,0.009594882729211088,0.008528784648187633,0.005330490405117271,0.029850746268656716,0.014925373134328358,0.0042643923240938165,0.009594882729211088,0.006396588486140725,0.0042643923240938165,0.0,0.026652452025586353,0.005330490405117271,0.0010660980810234541,0.0021321961620469083],[0.025,0.016203703703703703,0.1,0.011574074074074073,0.0125,0.01898148148148148,0.006481481481481481,0.059722222222222225,0.009259259259259259,0.014351851851851852,0.014814814814814815,0.01898148148148148,0.03425925925925926,0.006481481481481481,0.001851851851851852,0.01898148148148148,0.03148148148148148,0.010648148148148148,0.011111111111111112,0.05925925925925926,0.005092592592592593,0.022222222222222223,0.016203703703703703,0.019444444444444445,0.07407407407407407,0.006481481481481481,0.014351851851851852,0.027777777777777776,0.014351851851851852,0.008333333333333333,0.010185185185185186,0.010648148148148148,0.00787037037037037,0.0875,0.014351851851851852,0.002777777777777778,0.022685185185185187,0.014814814814814815,0.04212962962962963,0.016666666666666666,0.02546296296296296,0.002777777777777778,0.005092592592592593,0.006944444444444444,0.003703703703703704,0.003703703703703704,0.001388888888888889,0.022222222222222223,0.005092592592592593,0.003703703703703704],[0.017957927142124165,0.24756285274499742,0.013596716264751155,0.009748589020010261,0.030271934325295024,0.007696254489481785,0.012314007183170857,0.024371472550025655,0.002308876346844536,0.008978963571062083,0.009492047203694202,0.010005130836326322,0.0028219599794766545,0.0033350436121087736,0.0017957927142124167,0.004104669061056952,0.01564905079527963,0.00513083632632119,0.008209338122113904,0.011800923550538737,0.004361210877373012,0.009235505387378143,0.008465879938429965,0.038481272447408926,0.0030785017957927143,0.0002565418163160595,0.0035915854284248334,0.028732683427398667,0.020266803488968702,0.0038481272447408927,0.013596716264751155,0.0007696254489481786,0.0030785017957927143,0.011800923550538737,0.36454592098512056,0.0012827090815802976,0.0028219599794766545,0.007439712673165726,0.000513083632632119,0.0030785017957927143,0.0035915854284248334,0.0015392508978963571,0.0033350436121087736,0.0048742945100051305,0.0012827090815802976,0.0002565418163160595,0.0017957927142124167,0.0038481272447408927,0.0015392508978963571,0.0015392508978963571],[0.008939974457215836,0.0,0.04853128991060025,0.008939974457215836,0.011494252873563218,0.01532567049808429,0.002554278416347382,0.017879948914431672,0.001277139208173691,0.005108556832694764,0.0,0.008939974457215836,0.005108556832694764,0.002554278416347382,0.001277139208173691,0.0,0.05236270753512133,0.001277139208173691,0.006385696040868455,0.007662835249042145,0.001277139208173691,0.010217113665389528,0.0,0.020434227330779056,0.001277139208173691,0.0,0.006385696040868455,0.016602809706257982,0.005108556832694764,0.002554278416347382,0.006385696040868455,0.002554278416347382,0.008939974457215836,0.024265644955300127,0.033205619412515965,0.6194125159642401,0.002554278416347382,0.002554278416347382,0.0,0.002554278416347382,0.011494252873563218,0.0,0.001277139208173691,0.007662835249042145,0.0,0.0,0.0,0.005108556832694764,0.0,0.002554278416347382],[0.029889538661468484,0.007147498375568551,0.03183885640025991,0.011695906432748537,0.017543859649122806,0.01299545159194282,0.008447043534762833,0.056530214424951264,0.001949317738791423,0.008447043534762833,0.028589993502274202,0.057829759584145546,0.016894087069525665,0.003248862897985705,0.000649772579597141,0.004548408057179987,0.011695906432748537,0.014944769330734242,0.007797270955165692,0.024041585445094216,0.003248862897985705,0.004548408057179987,0.010396361273554255,0.016894087069525665,0.043534762833008445,0.001299545159194282,0.00649772579597141,0.012345679012345678,0.010396361273554255,0.004548408057179987,0.04483430799220273,0.003898635477582846,0.009746588693957114,0.01949317738791423,0.007147498375568551,0.001949317738791423,0.1663417803768681,0.01364522417153996,0.004548408057179987,0.018193632228719947,0.01299545159194282,0.002599090318388564,0.007147498375568551,0.009096816114359974,0.001949317738791423,0.001299545159194282,0.002599090318388564,0.016894087069525665,0.001949317738791423,0.18323586744639375],[0.028659160696008188,0.014329580348004094,0.033776867963152504,0.02456499488229273,0.04708290685772774,0.02354145342886387,0.017400204708290685,0.028659160696008188,0.02968270214943705,0.0511770726714432,0.0255885363357216,0.011258955987717503,0.0030706243602865915,0.011258955987717503,0.0010235414534288639,0.01330603889457523,0.04503582395087001,0.03991811668372569,0.01842374616171955,0.01842374616171955,0.015353121801432957,0.021494370522006142,0.028659160696008188,0.02354145342886387,0.02354145342886387,0.0010235414534288639,0.0040941658137154556,0.03172978505629478,0.02661207778915046,0.012282497441146366,0.02354145342886387,0.006141248720573183,0.022517911975435005,0.019447287615148412,0.01330603889457523,0.0030706243602865915,0.019447287615148412,0.1299897645854657,0.006141248720573183,0.016376663254861822,0.007164790174002047,0.0020470829068577278,0.021494370522006142,0.01023541453428864,0.0030706243602865915,0.0010235414534288639,0.0010235414534288639,0.011258955987717503,0.0040941658137154556,0.0040941658137154556],[0.02888086642599278,0.0,0.010830324909747292,0.0036101083032490976,0.009025270758122744,0.0018050541516245488,0.018050541516245487,0.039711191335740074,0.02527075812274368,0.007220216606498195,0.01444043321299639,0.05054151624548736,0.016245487364620937,0.0,0.0,0.0036101083032490976,0.016245487364620937,0.01444043321299639,0.0018050541516245488,0.030685920577617327,0.0018050541516245488,0.0018050541516245488,0.007220216606498195,0.009025270758122744,0.005415162454873646,0.0,0.0018050541516245488,0.04512635379061372,0.018050541516245487,0.007220216606498195,0.0018050541516245488,0.0036101083032490976,0.0036101083032490976,0.009025270758122744,0.005415162454873646,0.0,0.0018050541516245488,0.005415162454873646,0.5018050541516246,0.010830324909747292,0.0036101083032490976,0.0,0.010830324909747292,0.021660649819494584,0.0018050541516245488,0.0018050541516245488,0.0036101083032490976,0.021660649819494584,0.0,0.0018050541516245488],[0.041223404255319146,0.030585106382978722,0.02526595744680851,0.017287234042553192,0.031914893617021274,0.026595744680851064,0.023936170212765957,0.027925531914893616,0.031914893617021274,0.0199468085106383,0.031914893617021274,0.014627659574468085,0.0199468085106383,0.010638297872340425,0.0013297872340425532,0.06914893617021277,0.03723404255319149,0.0199468085106383,0.0026595744680851063,0.026595744680851064,0.007978723404255319,0.011968085106382979,0.05053191489361702,0.02526595744680851,0.0199468085106383,0.0013297872340425532,0.0026595744680851063,0.02925531914893617,0.0199468085106383,0.009308510638297872,0.011968085106382979,0.007978723404255319,0.03723404255319149,0.011968085106382979,0.02526595744680851,0.0,0.018617021276595744,0.02127659574468085,0.006648936170212766,0.10904255319148937,0.015957446808510637,0.003989361702127659,0.007978723404255319,0.010638297872340425,0.0013297872340425532,0.0,0.005319148936170213,0.009308510638297872,0.003989361702127659,0.0026595744680851063],[0.007438681141938078,0.013671089666264576,0.025130679533574587,0.010655408122235626,0.0056292722155207075,0.036992360273421794,0.0016083634901487736,0.028950542822677925,0.0012062726176115801,0.005830317651789305,0.012665862484921592,0.007237635705669481,0.011258544431041415,0.002010454362685967,0.29412947326095695,0.002010454362685967,0.1702854845195014,0.008443908323281062,0.009047044632086852,0.0066344993968636915,0.006232408524326498,0.013067953357458785,0.006031363088057901,0.016083634901487735,0.02814636107760354,0.0006031363088057901,0.01347004422999598,0.011057498994772819,0.0066344993968636915,0.0016083634901487736,0.012464817048652996,0.03437876960193004,0.004422999597909127,0.016284680337756333,0.007036590269400885,0.0010052271813429834,0.021109770808202654,0.007438681141938078,0.0018094089264173703,0.012062726176115802,0.09408926417370325,0.0006031363088057901,0.0022114997989545635,0.0036188178528347406,0.0004020908725371934,0.0004020908725371934,0.0008041817450743868,0.009650180940892641,0.004221954161640531,0.0022114997989545635],[0.029850746268656716,0.014925373134328358,0.014925373134328358,0.014925373134328358,0.04477611940298507,0.014925373134328358,0.0,0.07462686567164178,0.029850746268656716,0.029850746268656716,0.014925373134328358,0.029850746268656716,0.0,0.029850746268656716,0.0,0.014925373134328358,0.1044776119402985,0.0,0.029850746268656716,0.04477611940298507,0.029850746268656716,0.014925373134328358,0.014925373134328358,0.05970149253731343,0.04477611940298507,0.0,0.0,0.029850746268656716,0.014925373134328358,0.0,0.0,0.029850746268656716,0.029850746268656716,0.029850746268656716,0.0,0.0,0.0,0.014925373134328358,0.029850746268656716,0.014925373134328358,0.04477611940298507,0.029850746268656716,0.014925373134328358,0.0,0.014925373134328358,0.0,0.0,0.0,0.0,0.0],[0.02679307502061006,0.011541632316570486,0.01772464962901896,0.023495465787304205,0.038746908491343775,0.014014839241549877,0.016900247320692497,0.06183017312448475,0.004534212695795548,0.03833470733718054,0.01236603462489695,0.016900247320692497,0.011953833470733718,0.010305028854080791,0.12654575432811213,0.016075845012366034,0.01978565539983512,0.033800494641384994,0.03215169002473207,0.02019785655399835,0.016075845012366034,0.031327287716405604,0.028854080791426217,0.018136850783182192,0.01731244847485573,0.00247320692497939,0.015251442704039572,0.02720527617477329,0.03297609233305853,0.008244023083264633,0.018961253091508656,0.008656224237427864,0.012778235779060182,0.010305028854080791,0.00989282769991756,0.001236603462489695,0.02267106347897774,0.06224237427864798,0.00494641384995878,0.009480626545754328,0.01236603462489695,0.001236603462489695,0.048227535037098104,0.007007419620774938,0.0016488046166529267,0.002061005770816158,0.0008244023083264633,0.0053586150041220115,0.0032976092333058533,0.00494641384995878],[0.01609657947686117,0.019114688128772636,0.008048289738430584,0.013078470824949699,0.02112676056338028,0.009054325955734407,0.03319919517102616,0.04426559356136821,0.012072434607645875,0.01006036217303823,0.13078470824949698,0.022132796780684104,0.01006036217303823,0.007042253521126761,0.001006036217303823,0.009054325955734407,0.013078470824949699,0.03621730382293763,0.013078470824949699,0.08048289738430583,0.011066398390342052,0.012072434607645875,0.025150905432595575,0.026156941649899398,0.005030181086519115,0.0,0.0030181086519114686,0.023138832997987926,0.047283702213279676,0.004024144869215292,0.01609657947686117,0.005030181086519115,0.01006036217303823,0.013078470824949699,0.03118712273641851,0.002012072434607646,0.01609657947686117,0.01006036217303823,0.002012072434607646,0.004024144869215292,0.0030181086519114686,0.001006036217303823,0.006036217303822937,0.19718309859154928,0.001006036217303823,0.001006036217303823,0.004024144869215292,0.0,0.004024144869215292,0.007042253521126761],[0.055762081784386616,0.0055762081784386614,0.03717472118959108,0.0037174721189591076,0.020446096654275093,0.01858736059479554,0.011152416356877323,0.020446096654275093,0.026022304832713755,0.016728624535315983,0.007434944237918215,0.040892193308550186,0.00929368029739777,0.0055762081784386614,0.0,0.03345724907063197,0.0687732342007435,0.00929368029739777,0.013011152416356878,0.027881040892193308,0.01486988847583643,0.00929368029739777,0.03531598513011153,0.01486988847583643,0.011152416356877323,0.007434944237918215,0.0055762081784386614,0.031598513011152414,0.016728624535315983,0.011152416356877323,0.011152416356877323,0.00929368029739777,0.026022304832713755,0.011152416356877323,0.031598513011152414,0.0,0.011152416356877323,0.0055762081784386614,0.0037174721189591076,0.013011152416356878,0.024163568773234202,0.0,0.0018587360594795538,0.0037174721189591076,0.2174721189591078,0.0,0.016728624535315983,0.020446096654275093,0.0037174721189591076,0.0],[0.011730205278592375,0.002932551319648094,0.017595307917888565,0.017595307917888565,0.011730205278592375,0.01466275659824047,0.005865102639296188,0.01466275659824047,0.005865102639296188,0.005865102639296188,0.0,0.011730205278592375,0.002932551319648094,0.005865102639296188,0.0,0.008797653958944282,0.02346041055718475,0.002932551319648094,0.011730205278592375,0.0,0.0,0.002932551319648094,0.008797653958944282,0.005865102639296188,0.017595307917888565,0.002932551319648094,0.0,0.011730205278592375,0.005865102639296188,0.002932551319648094,0.005865102639296188,0.0,0.002932551319648094,0.017595307917888565,0.002932551319648094,0.002932551319648094,0.008797653958944282,0.005865102639296188,0.002932551319648094,0.002932551319648094,0.002932551319648094,0.002932551319648094,0.005865102639296188,0.0,0.0,0.6862170087976539,0.002932551319648094,0.008797653958944282,0.0,0.002932551319648094],[0.028901734104046242,0.011560693641618497,0.03468208092485549,0.014450867052023121,0.008670520231213872,0.04046242774566474,0.023121387283236993,0.005780346820809248,0.005780346820809248,0.014450867052023121,0.002890173410404624,0.017341040462427744,0.011560693641618497,0.008670520231213872,0.0,0.017341040462427744,0.06647398843930635,0.002890173410404624,0.014450867052023121,0.046242774566473986,0.011560693641618497,0.031791907514450865,0.008670520231213872,0.014450867052023121,0.005780346820809248,0.002890173410404624,0.005780346820809248,0.031791907514450865,0.011560693641618497,0.002890173410404624,0.017341040462427744,0.0,0.011560693641618497,0.014450867052023121,0.0,0.0,0.008670520231213872,0.008670520231213872,0.002890173410404624,0.002890173410404624,0.017341040462427744,0.002890173410404624,0.002890173410404624,0.005780346820809248,0.02601156069364162,0.002890173410404624,0.3439306358381503,0.02601156069364162,0.0,0.002890173410404624],[0.03523035230352303,0.02710027100271003,0.005420054200542005,0.01084010840108401,0.02710027100271003,0.013550135501355014,0.005420054200542005,0.013550135501355014,0.018970189701897018,0.0,0.01084010840108401,0.21951219512195122,0.013550135501355014,0.0027100271002710027,0.0027100271002710027,0.013550135501355014,0.005420054200542005,0.0,0.008130081300813009,0.04336043360433604,0.0027100271002710027,0.005420054200542005,0.016260162601626018,0.013550135501355014,0.008130081300813009,0.0,0.005420054200542005,0.06775067750677506,0.005420054200542005,0.04065040650406504,0.01084010840108401,0.008130081300813009,0.01084010840108401,0.0027100271002710027,0.04336043360433604,0.0,0.0027100271002710027,0.008130081300813009,0.037940379403794036,0.005420054200542005,0.0,0.005420054200542005,0.005420054200542005,0.005420054200542005,0.02168021680216802,0.0,0.0,0.18699186991869918,0.0027100271002710027,0.0],[0.0440251572327044,0.023060796645702306,0.014675052410901468,0.03563941299790356,0.05870020964360587,0.020964360587002098,0.020964360587002098,0.06079664570230608,0.0020964360587002098,0.027253668763102725,0.016771488469601678,0.012578616352201259,0.0041928721174004195,0.014675052410901468,0.0,0.010482180293501049,0.027253668763102725,0.03773584905660377,0.025157232704402517,0.014675052410901468,0.0,0.029350104821802937,0.05241090146750524,0.012578616352201259,0.029350104821802937,0.0020964360587002098,0.027253668763102725,0.012578616352201259,0.039832285115303984,0.014675052410901468,0.05660377358490566,0.006289308176100629,0.010482180293501049,0.008385744234800839,0.008385744234800839,0.0020964360587002098,0.020964360587002098,0.027253668763102725,0.010482180293501049,0.010482180293501049,0.010482180293501049,0.0020964360587002098,0.008385744234800839,0.020964360587002098,0.012578616352201259,0.0,0.039832285115303984,0.0041928721174004195,0.03773584905660377,0.010482180293501049],[0.01020408163265306,0.04081632653061224,0.030612244897959183,0.01020408163265306,0.09183673469387756,0.0,0.04081632653061224,0.02040816326530612,0.02040816326530612,0.030612244897959183,0.02040816326530612,0.05102040816326531,0.02040816326530612,0.04081632653061224,0.0,0.030612244897959183,0.030612244897959183,0.02040816326530612,0.01020408163265306,0.01020408163265306,0.02040816326530612,0.01020408163265306,0.01020408163265306,0.05102040816326531,0.01020408163265306,0.0,0.0,0.030612244897959183,0.01020408163265306,0.04081632653061224,0.02040816326530612,0.01020408163265306,0.01020408163265306,0.02040816326530612,0.02040816326530612,0.0,0.0,0.0,0.0,0.01020408163265306,0.02040816326530612,0.0,0.0,0.01020408163265306,0.0,0.0,0.0,0.01020408163265306,0.0,0.15306122448979592]],\"type\":\"heatmap\",\"xaxis\":\"x\",\"yaxis\":\"y\",\"hovertemplate\":\"Child Clusters: %{x}<br>Parent Clusters: %{y}<br>color: %{z}<extra></extra>\"}],                        {\"template\":{\"data\":{\"histogram2dcontour\":[{\"type\":\"histogram2dcontour\",\"colorbar\":{\"outlinewidth\":0,\"ticks\":\"\"},\"colorscale\":[[0.0,\"#0d0887\"],[0.1111111111111111,\"#46039f\"],[0.2222222222222222,\"#7201a8\"],[0.3333333333333333,\"#9c179e\"],[0.4444444444444444,\"#bd3786\"],[0.5555555555555556,\"#d8576b\"],[0.6666666666666666,\"#ed7953\"],[0.7777777777777778,\"#fb9f3a\"],[0.8888888888888888,\"#fdca26\"],[1.0,\"#f0f921\"]]}],\"choropleth\":[{\"type\":\"choropleth\",\"colorbar\":{\"outlinewidth\":0,\"ticks\":\"\"}}],\"histogram2d\":[{\"type\":\"histogram2d\",\"colorbar\":{\"outlinewidth\":0,\"ticks\":\"\"},\"colorscale\":[[0.0,\"#0d0887\"],[0.1111111111111111,\"#46039f\"],[0.2222222222222222,\"#7201a8\"],[0.3333333333333333,\"#9c179e\"],[0.4444444444444444,\"#bd3786\"],[0.5555555555555556,\"#d8576b\"],[0.6666666666666666,\"#ed7953\"],[0.7777777777777778,\"#fb9f3a\"],[0.8888888888888888,\"#fdca26\"],[1.0,\"#f0f921\"]]}],\"heatmap\":[{\"type\":\"heatmap\",\"colorbar\":{\"outlinewidth\":0,\"ticks\":\"\"},\"colorscale\":[[0.0,\"#0d0887\"],[0.1111111111111111,\"#46039f\"],[0.2222222222222222,\"#7201a8\"],[0.3333333333333333,\"#9c179e\"],[0.4444444444444444,\"#bd3786\"],[0.5555555555555556,\"#d8576b\"],[0.6666666666666666,\"#ed7953\"],[0.7777777777777778,\"#fb9f3a\"],[0.8888888888888888,\"#fdca26\"],[1.0,\"#f0f921\"]]}],\"heatmapgl\":[{\"type\":\"heatmapgl\",\"colorbar\":{\"outlinewidth\":0,\"ticks\":\"\"},\"colorscale\":[[0.0,\"#0d0887\"],[0.1111111111111111,\"#46039f\"],[0.2222222222222222,\"#7201a8\"],[0.3333333333333333,\"#9c179e\"],[0.4444444444444444,\"#bd3786\"],[0.5555555555555556,\"#d8576b\"],[0.6666666666666666,\"#ed7953\"],[0.7777777777777778,\"#fb9f3a\"],[0.8888888888888888,\"#fdca26\"],[1.0,\"#f0f921\"]]}],\"contourcarpet\":[{\"type\":\"contourcarpet\",\"colorbar\":{\"outlinewidth\":0,\"ticks\":\"\"}}],\"contour\":[{\"type\":\"contour\",\"colorbar\":{\"outlinewidth\":0,\"ticks\":\"\"},\"colorscale\":[[0.0,\"#0d0887\"],[0.1111111111111111,\"#46039f\"],[0.2222222222222222,\"#7201a8\"],[0.3333333333333333,\"#9c179e\"],[0.4444444444444444,\"#bd3786\"],[0.5555555555555556,\"#d8576b\"],[0.6666666666666666,\"#ed7953\"],[0.7777777777777778,\"#fb9f3a\"],[0.8888888888888888,\"#fdca26\"],[1.0,\"#f0f921\"]]}],\"surface\":[{\"type\":\"surface\",\"colorbar\":{\"outlinewidth\":0,\"ticks\":\"\"},\"colorscale\":[[0.0,\"#0d0887\"],[0.1111111111111111,\"#46039f\"],[0.2222222222222222,\"#7201a8\"],[0.3333333333333333,\"#9c179e\"],[0.4444444444444444,\"#bd3786\"],[0.5555555555555556,\"#d8576b\"],[0.6666666666666666,\"#ed7953\"],[0.7777777777777778,\"#fb9f3a\"],[0.8888888888888888,\"#fdca26\"],[1.0,\"#f0f921\"]]}],\"mesh3d\":[{\"type\":\"mesh3d\",\"colorbar\":{\"outlinewidth\":0,\"ticks\":\"\"}}],\"scatter\":[{\"fillpattern\":{\"fillmode\":\"overlay\",\"size\":10,\"solidity\":0.2},\"type\":\"scatter\"}],\"parcoords\":[{\"type\":\"parcoords\",\"line\":{\"colorbar\":{\"outlinewidth\":0,\"ticks\":\"\"}}}],\"scatterpolargl\":[{\"type\":\"scatterpolargl\",\"marker\":{\"colorbar\":{\"outlinewidth\":0,\"ticks\":\"\"}}}],\"bar\":[{\"error_x\":{\"color\":\"#2a3f5f\"},\"error_y\":{\"color\":\"#2a3f5f\"},\"marker\":{\"line\":{\"color\":\"#E5ECF6\",\"width\":0.5},\"pattern\":{\"fillmode\":\"overlay\",\"size\":10,\"solidity\":0.2}},\"type\":\"bar\"}],\"scattergeo\":[{\"type\":\"scattergeo\",\"marker\":{\"colorbar\":{\"outlinewidth\":0,\"ticks\":\"\"}}}],\"scatterpolar\":[{\"type\":\"scatterpolar\",\"marker\":{\"colorbar\":{\"outlinewidth\":0,\"ticks\":\"\"}}}],\"histogram\":[{\"marker\":{\"pattern\":{\"fillmode\":\"overlay\",\"size\":10,\"solidity\":0.2}},\"type\":\"histogram\"}],\"scattergl\":[{\"type\":\"scattergl\",\"marker\":{\"colorbar\":{\"outlinewidth\":0,\"ticks\":\"\"}}}],\"scatter3d\":[{\"type\":\"scatter3d\",\"line\":{\"colorbar\":{\"outlinewidth\":0,\"ticks\":\"\"}},\"marker\":{\"colorbar\":{\"outlinewidth\":0,\"ticks\":\"\"}}}],\"scattermapbox\":[{\"type\":\"scattermapbox\",\"marker\":{\"colorbar\":{\"outlinewidth\":0,\"ticks\":\"\"}}}],\"scatterternary\":[{\"type\":\"scatterternary\",\"marker\":{\"colorbar\":{\"outlinewidth\":0,\"ticks\":\"\"}}}],\"scattercarpet\":[{\"type\":\"scattercarpet\",\"marker\":{\"colorbar\":{\"outlinewidth\":0,\"ticks\":\"\"}}}],\"carpet\":[{\"aaxis\":{\"endlinecolor\":\"#2a3f5f\",\"gridcolor\":\"white\",\"linecolor\":\"white\",\"minorgridcolor\":\"white\",\"startlinecolor\":\"#2a3f5f\"},\"baxis\":{\"endlinecolor\":\"#2a3f5f\",\"gridcolor\":\"white\",\"linecolor\":\"white\",\"minorgridcolor\":\"white\",\"startlinecolor\":\"#2a3f5f\"},\"type\":\"carpet\"}],\"table\":[{\"cells\":{\"fill\":{\"color\":\"#EBF0F8\"},\"line\":{\"color\":\"white\"}},\"header\":{\"fill\":{\"color\":\"#C8D4E3\"},\"line\":{\"color\":\"white\"}},\"type\":\"table\"}],\"barpolar\":[{\"marker\":{\"line\":{\"color\":\"#E5ECF6\",\"width\":0.5},\"pattern\":{\"fillmode\":\"overlay\",\"size\":10,\"solidity\":0.2}},\"type\":\"barpolar\"}],\"pie\":[{\"automargin\":true,\"type\":\"pie\"}]},\"layout\":{\"autotypenumbers\":\"strict\",\"colorway\":[\"#636efa\",\"#EF553B\",\"#00cc96\",\"#ab63fa\",\"#FFA15A\",\"#19d3f3\",\"#FF6692\",\"#B6E880\",\"#FF97FF\",\"#FECB52\"],\"font\":{\"color\":\"#2a3f5f\"},\"hovermode\":\"closest\",\"hoverlabel\":{\"align\":\"left\"},\"paper_bgcolor\":\"white\",\"plot_bgcolor\":\"#E5ECF6\",\"polar\":{\"bgcolor\":\"#E5ECF6\",\"angularaxis\":{\"gridcolor\":\"white\",\"linecolor\":\"white\",\"ticks\":\"\"},\"radialaxis\":{\"gridcolor\":\"white\",\"linecolor\":\"white\",\"ticks\":\"\"}},\"ternary\":{\"bgcolor\":\"#E5ECF6\",\"aaxis\":{\"gridcolor\":\"white\",\"linecolor\":\"white\",\"ticks\":\"\"},\"baxis\":{\"gridcolor\":\"white\",\"linecolor\":\"white\",\"ticks\":\"\"},\"caxis\":{\"gridcolor\":\"white\",\"linecolor\":\"white\",\"ticks\":\"\"}},\"coloraxis\":{\"colorbar\":{\"outlinewidth\":0,\"ticks\":\"\"}},\"colorscale\":{\"sequential\":[[0.0,\"#0d0887\"],[0.1111111111111111,\"#46039f\"],[0.2222222222222222,\"#7201a8\"],[0.3333333333333333,\"#9c179e\"],[0.4444444444444444,\"#bd3786\"],[0.5555555555555556,\"#d8576b\"],[0.6666666666666666,\"#ed7953\"],[0.7777777777777778,\"#fb9f3a\"],[0.8888888888888888,\"#fdca26\"],[1.0,\"#f0f921\"]],\"sequentialminus\":[[0.0,\"#0d0887\"],[0.1111111111111111,\"#46039f\"],[0.2222222222222222,\"#7201a8\"],[0.3333333333333333,\"#9c179e\"],[0.4444444444444444,\"#bd3786\"],[0.5555555555555556,\"#d8576b\"],[0.6666666666666666,\"#ed7953\"],[0.7777777777777778,\"#fb9f3a\"],[0.8888888888888888,\"#fdca26\"],[1.0,\"#f0f921\"]],\"diverging\":[[0,\"#8e0152\"],[0.1,\"#c51b7d\"],[0.2,\"#de77ae\"],[0.3,\"#f1b6da\"],[0.4,\"#fde0ef\"],[0.5,\"#f7f7f7\"],[0.6,\"#e6f5d0\"],[0.7,\"#b8e186\"],[0.8,\"#7fbc41\"],[0.9,\"#4d9221\"],[1,\"#276419\"]]},\"xaxis\":{\"gridcolor\":\"white\",\"linecolor\":\"white\",\"ticks\":\"\",\"title\":{\"standoff\":15},\"zerolinecolor\":\"white\",\"automargin\":true,\"zerolinewidth\":2},\"yaxis\":{\"gridcolor\":\"white\",\"linecolor\":\"white\",\"ticks\":\"\",\"title\":{\"standoff\":15},\"zerolinecolor\":\"white\",\"automargin\":true,\"zerolinewidth\":2},\"scene\":{\"xaxis\":{\"backgroundcolor\":\"#E5ECF6\",\"gridcolor\":\"white\",\"linecolor\":\"white\",\"showbackground\":true,\"ticks\":\"\",\"zerolinecolor\":\"white\",\"gridwidth\":2},\"yaxis\":{\"backgroundcolor\":\"#E5ECF6\",\"gridcolor\":\"white\",\"linecolor\":\"white\",\"showbackground\":true,\"ticks\":\"\",\"zerolinecolor\":\"white\",\"gridwidth\":2},\"zaxis\":{\"backgroundcolor\":\"#E5ECF6\",\"gridcolor\":\"white\",\"linecolor\":\"white\",\"showbackground\":true,\"ticks\":\"\",\"zerolinecolor\":\"white\",\"gridwidth\":2}},\"shapedefaults\":{\"line\":{\"color\":\"#2a3f5f\"}},\"annotationdefaults\":{\"arrowcolor\":\"#2a3f5f\",\"arrowhead\":0,\"arrowwidth\":1},\"geo\":{\"bgcolor\":\"white\",\"landcolor\":\"#E5ECF6\",\"subunitcolor\":\"white\",\"showland\":true,\"showlakes\":true,\"lakecolor\":\"white\"},\"title\":{\"x\":0.05},\"mapbox\":{\"style\":\"light\"}}},\"xaxis\":{\"anchor\":\"y\",\"domain\":[0.0,1.0],\"scaleanchor\":\"y\",\"constrain\":\"domain\",\"title\":{\"text\":\"Child Clusters\"}},\"yaxis\":{\"anchor\":\"x\",\"domain\":[0.0,1.0],\"autorange\":\"reversed\",\"constrain\":\"domain\",\"title\":{\"text\":\"Parent Clusters\"}},\"coloraxis\":{\"colorscale\":[[0.0,\"#0d0887\"],[0.1111111111111111,\"#46039f\"],[0.2222222222222222,\"#7201a8\"],[0.3333333333333333,\"#9c179e\"],[0.4444444444444444,\"#bd3786\"],[0.5555555555555556,\"#d8576b\"],[0.6666666666666666,\"#ed7953\"],[0.7777777777777778,\"#fb9f3a\"],[0.8888888888888888,\"#fdca26\"],[1.0,\"#f0f921\"]]},\"margin\":{\"t\":60}},                        {\"responsive\": true}                    ).then(function(){\n",
       "                            \n",
       "var gd = document.getElementById('6865033c-3ba6-420b-9048-7922af1b4ccf');\n",
       "var x = new MutationObserver(function (mutations, observer) {{\n",
       "        var display = window.getComputedStyle(gd).display;\n",
       "        if (!display || display === 'none') {{\n",
       "            console.log([gd, 'removed!']);\n",
       "            Plotly.purge(gd);\n",
       "            observer.disconnect();\n",
       "        }}\n",
       "}});\n",
       "\n",
       "// Listen for the removal of the full notebook cells\n",
       "var notebookContainer = gd.closest('#notebook-container');\n",
       "if (notebookContainer) {{\n",
       "    x.observe(notebookContainer, {childList: true});\n",
       "}}\n",
       "\n",
       "// Listen for the clearing of the current output cell\n",
       "var outputEl = gd.closest('.output');\n",
       "if (outputEl) {{\n",
       "    x.observe(outputEl, {childList: true});\n",
       "}}\n",
       "\n",
       "                        })                };                });            </script>        </div>"
      ]
     },
     "metadata": {},
     "output_type": "display_data"
    }
   ],
   "source": [
    "fig = get_flow_heatmap(transition_mat)\n",
    "fig.show()"
   ]
  },
  {
   "cell_type": "code",
   "execution_count": 104,
   "metadata": {},
   "outputs": [
    {
     "data": {
      "text/html": [
       "<div>                            <div id=\"c5745340-18fa-4bb4-b5f3-2208ff94a6d2\" class=\"plotly-graph-div\" style=\"height:525px; width:100%;\"></div>            <script type=\"text/javascript\">                require([\"plotly\"], function(Plotly) {                    window.PLOTLYENV=window.PLOTLYENV || {};                                    if (document.getElementById(\"c5745340-18fa-4bb4-b5f3-2208ff94a6d2\")) {                    Plotly.newPlot(                        \"c5745340-18fa-4bb4-b5f3-2208ff94a6d2\",                        [{\"alignmentgroup\":\"True\",\"hovertemplate\":\"cluster=%{x}<br>weight=%{y}<extra></extra>\",\"legendgroup\":\"\",\"marker\":{\"color\":\"#636efa\",\"pattern\":{\"shape\":\"\"}},\"name\":\"\",\"offsetgroup\":\"\",\"orientation\":\"v\",\"showlegend\":false,\"textposition\":\"auto\",\"x\":[\"45\",\"35\",\"38\",\"16\",\"34\",\"46\",\"8\",\"11\",\"1\",\"4\",\"32\",\"23\",\"44\",\"15\",\"29\",\"22\",\"25\",\"7\",\"24\",\"43\",\"27\",\"2\",\"47\",\"0\",\"36\",\"49\",\"28\",\"37\",\"30\",\"19\",\"39\",\"5\",\"40\",\"17\",\"33\",\"3\",\"18\",\"26\",\"9\",\"21\",\"14\",\"6\",\"31\",\"10\",\"20\",\"42\",\"13\",\"48\",\"41\",\"12\"],\"xaxis\":\"x\",\"y\":[0.6862170087976539,0.6194125159642401,0.5018050541516246,0.432157394843962,0.36454592098512056,0.3439306358381503,0.32637571157495254,0.30643611911623436,0.2882623705408516,0.25877574702639977,0.2515991471215352,0.23840206185567012,0.2174721189591078,0.20537897310513448,0.20330578512396694,0.20255775577557755,0.20253164556962025,0.19840213049267644,0.19724137931034483,0.19718309859154928,0.19249201277955272,0.18941398865784498,0.18699186991869918,0.1735973597359736,0.1663417803768681,0.15306122448979592,0.1336996336996337,0.1299897645854657,0.12826603325415678,0.12250453720508167,0.10904255319148937,0.10144124168514412,0.09408926417370325,0.08888888888888889,0.0875,0.08704453441295547,0.08089792460821686,0.07557117750439367,0.06777493606138107,0.06773920406435224,0.06422018348623854,0.06301939058171745,0.06177606177606178,0.061452513966480445,0.061224489795918366,0.048227535037098104,0.04672290720311486,0.03773584905660377,0.029850746268656716,0.022388059701492536],\"yaxis\":\"y\",\"type\":\"bar\"}],                        {\"template\":{\"data\":{\"histogram2dcontour\":[{\"type\":\"histogram2dcontour\",\"colorbar\":{\"outlinewidth\":0,\"ticks\":\"\"},\"colorscale\":[[0.0,\"#0d0887\"],[0.1111111111111111,\"#46039f\"],[0.2222222222222222,\"#7201a8\"],[0.3333333333333333,\"#9c179e\"],[0.4444444444444444,\"#bd3786\"],[0.5555555555555556,\"#d8576b\"],[0.6666666666666666,\"#ed7953\"],[0.7777777777777778,\"#fb9f3a\"],[0.8888888888888888,\"#fdca26\"],[1.0,\"#f0f921\"]]}],\"choropleth\":[{\"type\":\"choropleth\",\"colorbar\":{\"outlinewidth\":0,\"ticks\":\"\"}}],\"histogram2d\":[{\"type\":\"histogram2d\",\"colorbar\":{\"outlinewidth\":0,\"ticks\":\"\"},\"colorscale\":[[0.0,\"#0d0887\"],[0.1111111111111111,\"#46039f\"],[0.2222222222222222,\"#7201a8\"],[0.3333333333333333,\"#9c179e\"],[0.4444444444444444,\"#bd3786\"],[0.5555555555555556,\"#d8576b\"],[0.6666666666666666,\"#ed7953\"],[0.7777777777777778,\"#fb9f3a\"],[0.8888888888888888,\"#fdca26\"],[1.0,\"#f0f921\"]]}],\"heatmap\":[{\"type\":\"heatmap\",\"colorbar\":{\"outlinewidth\":0,\"ticks\":\"\"},\"colorscale\":[[0.0,\"#0d0887\"],[0.1111111111111111,\"#46039f\"],[0.2222222222222222,\"#7201a8\"],[0.3333333333333333,\"#9c179e\"],[0.4444444444444444,\"#bd3786\"],[0.5555555555555556,\"#d8576b\"],[0.6666666666666666,\"#ed7953\"],[0.7777777777777778,\"#fb9f3a\"],[0.8888888888888888,\"#fdca26\"],[1.0,\"#f0f921\"]]}],\"heatmapgl\":[{\"type\":\"heatmapgl\",\"colorbar\":{\"outlinewidth\":0,\"ticks\":\"\"},\"colorscale\":[[0.0,\"#0d0887\"],[0.1111111111111111,\"#46039f\"],[0.2222222222222222,\"#7201a8\"],[0.3333333333333333,\"#9c179e\"],[0.4444444444444444,\"#bd3786\"],[0.5555555555555556,\"#d8576b\"],[0.6666666666666666,\"#ed7953\"],[0.7777777777777778,\"#fb9f3a\"],[0.8888888888888888,\"#fdca26\"],[1.0,\"#f0f921\"]]}],\"contourcarpet\":[{\"type\":\"contourcarpet\",\"colorbar\":{\"outlinewidth\":0,\"ticks\":\"\"}}],\"contour\":[{\"type\":\"contour\",\"colorbar\":{\"outlinewidth\":0,\"ticks\":\"\"},\"colorscale\":[[0.0,\"#0d0887\"],[0.1111111111111111,\"#46039f\"],[0.2222222222222222,\"#7201a8\"],[0.3333333333333333,\"#9c179e\"],[0.4444444444444444,\"#bd3786\"],[0.5555555555555556,\"#d8576b\"],[0.6666666666666666,\"#ed7953\"],[0.7777777777777778,\"#fb9f3a\"],[0.8888888888888888,\"#fdca26\"],[1.0,\"#f0f921\"]]}],\"surface\":[{\"type\":\"surface\",\"colorbar\":{\"outlinewidth\":0,\"ticks\":\"\"},\"colorscale\":[[0.0,\"#0d0887\"],[0.1111111111111111,\"#46039f\"],[0.2222222222222222,\"#7201a8\"],[0.3333333333333333,\"#9c179e\"],[0.4444444444444444,\"#bd3786\"],[0.5555555555555556,\"#d8576b\"],[0.6666666666666666,\"#ed7953\"],[0.7777777777777778,\"#fb9f3a\"],[0.8888888888888888,\"#fdca26\"],[1.0,\"#f0f921\"]]}],\"mesh3d\":[{\"type\":\"mesh3d\",\"colorbar\":{\"outlinewidth\":0,\"ticks\":\"\"}}],\"scatter\":[{\"fillpattern\":{\"fillmode\":\"overlay\",\"size\":10,\"solidity\":0.2},\"type\":\"scatter\"}],\"parcoords\":[{\"type\":\"parcoords\",\"line\":{\"colorbar\":{\"outlinewidth\":0,\"ticks\":\"\"}}}],\"scatterpolargl\":[{\"type\":\"scatterpolargl\",\"marker\":{\"colorbar\":{\"outlinewidth\":0,\"ticks\":\"\"}}}],\"bar\":[{\"error_x\":{\"color\":\"#2a3f5f\"},\"error_y\":{\"color\":\"#2a3f5f\"},\"marker\":{\"line\":{\"color\":\"#E5ECF6\",\"width\":0.5},\"pattern\":{\"fillmode\":\"overlay\",\"size\":10,\"solidity\":0.2}},\"type\":\"bar\"}],\"scattergeo\":[{\"type\":\"scattergeo\",\"marker\":{\"colorbar\":{\"outlinewidth\":0,\"ticks\":\"\"}}}],\"scatterpolar\":[{\"type\":\"scatterpolar\",\"marker\":{\"colorbar\":{\"outlinewidth\":0,\"ticks\":\"\"}}}],\"histogram\":[{\"marker\":{\"pattern\":{\"fillmode\":\"overlay\",\"size\":10,\"solidity\":0.2}},\"type\":\"histogram\"}],\"scattergl\":[{\"type\":\"scattergl\",\"marker\":{\"colorbar\":{\"outlinewidth\":0,\"ticks\":\"\"}}}],\"scatter3d\":[{\"type\":\"scatter3d\",\"line\":{\"colorbar\":{\"outlinewidth\":0,\"ticks\":\"\"}},\"marker\":{\"colorbar\":{\"outlinewidth\":0,\"ticks\":\"\"}}}],\"scattermapbox\":[{\"type\":\"scattermapbox\",\"marker\":{\"colorbar\":{\"outlinewidth\":0,\"ticks\":\"\"}}}],\"scatterternary\":[{\"type\":\"scatterternary\",\"marker\":{\"colorbar\":{\"outlinewidth\":0,\"ticks\":\"\"}}}],\"scattercarpet\":[{\"type\":\"scattercarpet\",\"marker\":{\"colorbar\":{\"outlinewidth\":0,\"ticks\":\"\"}}}],\"carpet\":[{\"aaxis\":{\"endlinecolor\":\"#2a3f5f\",\"gridcolor\":\"white\",\"linecolor\":\"white\",\"minorgridcolor\":\"white\",\"startlinecolor\":\"#2a3f5f\"},\"baxis\":{\"endlinecolor\":\"#2a3f5f\",\"gridcolor\":\"white\",\"linecolor\":\"white\",\"minorgridcolor\":\"white\",\"startlinecolor\":\"#2a3f5f\"},\"type\":\"carpet\"}],\"table\":[{\"cells\":{\"fill\":{\"color\":\"#EBF0F8\"},\"line\":{\"color\":\"white\"}},\"header\":{\"fill\":{\"color\":\"#C8D4E3\"},\"line\":{\"color\":\"white\"}},\"type\":\"table\"}],\"barpolar\":[{\"marker\":{\"line\":{\"color\":\"#E5ECF6\",\"width\":0.5},\"pattern\":{\"fillmode\":\"overlay\",\"size\":10,\"solidity\":0.2}},\"type\":\"barpolar\"}],\"pie\":[{\"automargin\":true,\"type\":\"pie\"}]},\"layout\":{\"autotypenumbers\":\"strict\",\"colorway\":[\"#636efa\",\"#EF553B\",\"#00cc96\",\"#ab63fa\",\"#FFA15A\",\"#19d3f3\",\"#FF6692\",\"#B6E880\",\"#FF97FF\",\"#FECB52\"],\"font\":{\"color\":\"#2a3f5f\"},\"hovermode\":\"closest\",\"hoverlabel\":{\"align\":\"left\"},\"paper_bgcolor\":\"white\",\"plot_bgcolor\":\"#E5ECF6\",\"polar\":{\"bgcolor\":\"#E5ECF6\",\"angularaxis\":{\"gridcolor\":\"white\",\"linecolor\":\"white\",\"ticks\":\"\"},\"radialaxis\":{\"gridcolor\":\"white\",\"linecolor\":\"white\",\"ticks\":\"\"}},\"ternary\":{\"bgcolor\":\"#E5ECF6\",\"aaxis\":{\"gridcolor\":\"white\",\"linecolor\":\"white\",\"ticks\":\"\"},\"baxis\":{\"gridcolor\":\"white\",\"linecolor\":\"white\",\"ticks\":\"\"},\"caxis\":{\"gridcolor\":\"white\",\"linecolor\":\"white\",\"ticks\":\"\"}},\"coloraxis\":{\"colorbar\":{\"outlinewidth\":0,\"ticks\":\"\"}},\"colorscale\":{\"sequential\":[[0.0,\"#0d0887\"],[0.1111111111111111,\"#46039f\"],[0.2222222222222222,\"#7201a8\"],[0.3333333333333333,\"#9c179e\"],[0.4444444444444444,\"#bd3786\"],[0.5555555555555556,\"#d8576b\"],[0.6666666666666666,\"#ed7953\"],[0.7777777777777778,\"#fb9f3a\"],[0.8888888888888888,\"#fdca26\"],[1.0,\"#f0f921\"]],\"sequentialminus\":[[0.0,\"#0d0887\"],[0.1111111111111111,\"#46039f\"],[0.2222222222222222,\"#7201a8\"],[0.3333333333333333,\"#9c179e\"],[0.4444444444444444,\"#bd3786\"],[0.5555555555555556,\"#d8576b\"],[0.6666666666666666,\"#ed7953\"],[0.7777777777777778,\"#fb9f3a\"],[0.8888888888888888,\"#fdca26\"],[1.0,\"#f0f921\"]],\"diverging\":[[0,\"#8e0152\"],[0.1,\"#c51b7d\"],[0.2,\"#de77ae\"],[0.3,\"#f1b6da\"],[0.4,\"#fde0ef\"],[0.5,\"#f7f7f7\"],[0.6,\"#e6f5d0\"],[0.7,\"#b8e186\"],[0.8,\"#7fbc41\"],[0.9,\"#4d9221\"],[1,\"#276419\"]]},\"xaxis\":{\"gridcolor\":\"white\",\"linecolor\":\"white\",\"ticks\":\"\",\"title\":{\"standoff\":15},\"zerolinecolor\":\"white\",\"automargin\":true,\"zerolinewidth\":2},\"yaxis\":{\"gridcolor\":\"white\",\"linecolor\":\"white\",\"ticks\":\"\",\"title\":{\"standoff\":15},\"zerolinecolor\":\"white\",\"automargin\":true,\"zerolinewidth\":2},\"scene\":{\"xaxis\":{\"backgroundcolor\":\"#E5ECF6\",\"gridcolor\":\"white\",\"linecolor\":\"white\",\"showbackground\":true,\"ticks\":\"\",\"zerolinecolor\":\"white\",\"gridwidth\":2},\"yaxis\":{\"backgroundcolor\":\"#E5ECF6\",\"gridcolor\":\"white\",\"linecolor\":\"white\",\"showbackground\":true,\"ticks\":\"\",\"zerolinecolor\":\"white\",\"gridwidth\":2},\"zaxis\":{\"backgroundcolor\":\"#E5ECF6\",\"gridcolor\":\"white\",\"linecolor\":\"white\",\"showbackground\":true,\"ticks\":\"\",\"zerolinecolor\":\"white\",\"gridwidth\":2}},\"shapedefaults\":{\"line\":{\"color\":\"#2a3f5f\"}},\"annotationdefaults\":{\"arrowcolor\":\"#2a3f5f\",\"arrowhead\":0,\"arrowwidth\":1},\"geo\":{\"bgcolor\":\"white\",\"landcolor\":\"#E5ECF6\",\"subunitcolor\":\"white\",\"showland\":true,\"showlakes\":true,\"lakecolor\":\"white\"},\"title\":{\"x\":0.05},\"mapbox\":{\"style\":\"light\"}}},\"xaxis\":{\"anchor\":\"y\",\"domain\":[0.0,1.0],\"title\":{\"text\":\"cluster\"},\"labelalias\":{\"45\":\"road\",\"35\":\"musical instrument\",\"38\":\"toy\",\"16\":\"sports\",\"34\":\"song\",\"46\":\"style\",\"8\":\"eyebrow\",\"11\":\"art\",\"1\":\"music\",\"4\":\"food\",\"32\":\"hand\",\"23\":\"event\",\"44\":\"style\",\"15\":\"hair\",\"29\":\"computer\",\"22\":\"clothing\",\"25\":\"tattoo\",\"7\":\"animal\",\"24\":\"motor vehicle\",\"43\":\"infant\",\"27\":\"person\",\"2\":\"vehicle\",\"47\":\"artwork\",\"0\":\"clothing\",\"36\":\"vehicle\",\"49\":\"underwater\",\"28\":\"plant\",\"37\":\"building\",\"30\":\"sea\",\"19\":\"person\",\"39\":\"hair\",\"5\":\"sports\",\"40\":\"sports\",\"17\":\"food\",\"33\":\"vehicle\",\"3\":\"geographical feature\",\"18\":\"city\",\"26\":\"sky\",\"9\":\"room\",\"21\":\"plant\",\"14\":\"monument\",\"6\":\"food\",\"31\":\"sports\",\"10\":\"person\",\"20\":\"room\",\"42\":\"furniture\",\"13\":\"footwear\",\"48\":\"nature\",\"41\":\"light\",\"12\":\"glasses\"}},\"yaxis\":{\"anchor\":\"x\",\"domain\":[0.0,1.0],\"title\":{\"text\":\"weight\"}},\"legend\":{\"tracegroupgap\":0},\"title\":{\"text\":\"Like Parent, Like Child:'Tight-Knit' and 'Free-Range' Families\"},\"barmode\":\"relative\"},                        {\"responsive\": true}                    ).then(function(){\n",
       "                            \n",
       "var gd = document.getElementById('c5745340-18fa-4bb4-b5f3-2208ff94a6d2');\n",
       "var x = new MutationObserver(function (mutations, observer) {{\n",
       "        var display = window.getComputedStyle(gd).display;\n",
       "        if (!display || display === 'none') {{\n",
       "            console.log([gd, 'removed!']);\n",
       "            Plotly.purge(gd);\n",
       "            observer.disconnect();\n",
       "        }}\n",
       "}});\n",
       "\n",
       "// Listen for the removal of the full notebook cells\n",
       "var notebookContainer = gd.closest('#notebook-container');\n",
       "if (notebookContainer) {{\n",
       "    x.observe(notebookContainer, {childList: true});\n",
       "}}\n",
       "\n",
       "// Listen for the clearing of the current output cell\n",
       "var outputEl = gd.closest('.output');\n",
       "if (outputEl) {{\n",
       "    x.observe(outputEl, {childList: true});\n",
       "}}\n",
       "\n",
       "                        })                };                });            </script>        </div>"
      ]
     },
     "metadata": {},
     "output_type": "display_data"
    }
   ],
   "source": [
    "fig = get_self_flow(transition_mat)\n",
    "fig.show()"
   ]
  },
  {
   "cell_type": "code",
   "execution_count": 105,
   "metadata": {},
   "outputs": [
    {
     "data": {
      "text/html": [
       "<div>                            <div id=\"50a987fc-8357-441e-a00e-11bf5a0e2aaa\" class=\"plotly-graph-div\" style=\"height:525px; width:100%;\"></div>            <script type=\"text/javascript\">                require([\"plotly\"], function(Plotly) {                    window.PLOTLYENV=window.PLOTLYENV || {};                                    if (document.getElementById(\"50a987fc-8357-441e-a00e-11bf5a0e2aaa\")) {                    Plotly.newPlot(                        \"50a987fc-8357-441e-a00e-11bf5a0e2aaa\",                        [{\"alignmentgroup\":\"True\",\"bingroup\":\"x\",\"cumulative\":{\"enabled\":false},\"hovertemplate\":\"variable=0<br>value=%{x}<br>count=%{y}<extra></extra>\",\"legendgroup\":\"0\",\"marker\":{\"color\":\"#636efa\",\"pattern\":{\"shape\":\"\"}},\"name\":\"0\",\"nbinsx\":20,\"offsetgroup\":\"0\",\"orientation\":\"v\",\"showlegend\":true,\"x\":[0.1735973597359736,0.2882623705408516,0.18941398865784498,0.08704453441295547,0.25877574702639977,0.10144124168514412,0.06301939058171745,0.19840213049267644,0.32637571157495254,0.06777493606138107,0.061452513966480445,0.30643611911623436,0.022388059701492536,0.04672290720311486,0.06422018348623854,0.20537897310513448,0.432157394843962,0.08888888888888889,0.08089792460821686,0.12250453720508167,0.061224489795918366,0.06773920406435224,0.20255775577557755,0.23840206185567012,0.19724137931034483,0.20253164556962025,0.07557117750439367,0.19249201277955272,0.1336996336996337,0.20330578512396694,0.12826603325415678,0.06177606177606178,0.2515991471215352,0.0875,0.36454592098512056,0.6194125159642401,0.1663417803768681,0.1299897645854657,0.5018050541516246,0.10904255319148937,0.09408926417370325,0.029850746268656716,0.048227535037098104,0.19718309859154928,0.2174721189591078,0.6862170087976539,0.3439306358381503,0.18699186991869918,0.03773584905660377,0.15306122448979592],\"xaxis\":\"x\",\"yaxis\":\"y\",\"type\":\"histogram\"}],                        {\"template\":{\"data\":{\"histogram2dcontour\":[{\"type\":\"histogram2dcontour\",\"colorbar\":{\"outlinewidth\":0,\"ticks\":\"\"},\"colorscale\":[[0.0,\"#0d0887\"],[0.1111111111111111,\"#46039f\"],[0.2222222222222222,\"#7201a8\"],[0.3333333333333333,\"#9c179e\"],[0.4444444444444444,\"#bd3786\"],[0.5555555555555556,\"#d8576b\"],[0.6666666666666666,\"#ed7953\"],[0.7777777777777778,\"#fb9f3a\"],[0.8888888888888888,\"#fdca26\"],[1.0,\"#f0f921\"]]}],\"choropleth\":[{\"type\":\"choropleth\",\"colorbar\":{\"outlinewidth\":0,\"ticks\":\"\"}}],\"histogram2d\":[{\"type\":\"histogram2d\",\"colorbar\":{\"outlinewidth\":0,\"ticks\":\"\"},\"colorscale\":[[0.0,\"#0d0887\"],[0.1111111111111111,\"#46039f\"],[0.2222222222222222,\"#7201a8\"],[0.3333333333333333,\"#9c179e\"],[0.4444444444444444,\"#bd3786\"],[0.5555555555555556,\"#d8576b\"],[0.6666666666666666,\"#ed7953\"],[0.7777777777777778,\"#fb9f3a\"],[0.8888888888888888,\"#fdca26\"],[1.0,\"#f0f921\"]]}],\"heatmap\":[{\"type\":\"heatmap\",\"colorbar\":{\"outlinewidth\":0,\"ticks\":\"\"},\"colorscale\":[[0.0,\"#0d0887\"],[0.1111111111111111,\"#46039f\"],[0.2222222222222222,\"#7201a8\"],[0.3333333333333333,\"#9c179e\"],[0.4444444444444444,\"#bd3786\"],[0.5555555555555556,\"#d8576b\"],[0.6666666666666666,\"#ed7953\"],[0.7777777777777778,\"#fb9f3a\"],[0.8888888888888888,\"#fdca26\"],[1.0,\"#f0f921\"]]}],\"heatmapgl\":[{\"type\":\"heatmapgl\",\"colorbar\":{\"outlinewidth\":0,\"ticks\":\"\"},\"colorscale\":[[0.0,\"#0d0887\"],[0.1111111111111111,\"#46039f\"],[0.2222222222222222,\"#7201a8\"],[0.3333333333333333,\"#9c179e\"],[0.4444444444444444,\"#bd3786\"],[0.5555555555555556,\"#d8576b\"],[0.6666666666666666,\"#ed7953\"],[0.7777777777777778,\"#fb9f3a\"],[0.8888888888888888,\"#fdca26\"],[1.0,\"#f0f921\"]]}],\"contourcarpet\":[{\"type\":\"contourcarpet\",\"colorbar\":{\"outlinewidth\":0,\"ticks\":\"\"}}],\"contour\":[{\"type\":\"contour\",\"colorbar\":{\"outlinewidth\":0,\"ticks\":\"\"},\"colorscale\":[[0.0,\"#0d0887\"],[0.1111111111111111,\"#46039f\"],[0.2222222222222222,\"#7201a8\"],[0.3333333333333333,\"#9c179e\"],[0.4444444444444444,\"#bd3786\"],[0.5555555555555556,\"#d8576b\"],[0.6666666666666666,\"#ed7953\"],[0.7777777777777778,\"#fb9f3a\"],[0.8888888888888888,\"#fdca26\"],[1.0,\"#f0f921\"]]}],\"surface\":[{\"type\":\"surface\",\"colorbar\":{\"outlinewidth\":0,\"ticks\":\"\"},\"colorscale\":[[0.0,\"#0d0887\"],[0.1111111111111111,\"#46039f\"],[0.2222222222222222,\"#7201a8\"],[0.3333333333333333,\"#9c179e\"],[0.4444444444444444,\"#bd3786\"],[0.5555555555555556,\"#d8576b\"],[0.6666666666666666,\"#ed7953\"],[0.7777777777777778,\"#fb9f3a\"],[0.8888888888888888,\"#fdca26\"],[1.0,\"#f0f921\"]]}],\"mesh3d\":[{\"type\":\"mesh3d\",\"colorbar\":{\"outlinewidth\":0,\"ticks\":\"\"}}],\"scatter\":[{\"fillpattern\":{\"fillmode\":\"overlay\",\"size\":10,\"solidity\":0.2},\"type\":\"scatter\"}],\"parcoords\":[{\"type\":\"parcoords\",\"line\":{\"colorbar\":{\"outlinewidth\":0,\"ticks\":\"\"}}}],\"scatterpolargl\":[{\"type\":\"scatterpolargl\",\"marker\":{\"colorbar\":{\"outlinewidth\":0,\"ticks\":\"\"}}}],\"bar\":[{\"error_x\":{\"color\":\"#2a3f5f\"},\"error_y\":{\"color\":\"#2a3f5f\"},\"marker\":{\"line\":{\"color\":\"#E5ECF6\",\"width\":0.5},\"pattern\":{\"fillmode\":\"overlay\",\"size\":10,\"solidity\":0.2}},\"type\":\"bar\"}],\"scattergeo\":[{\"type\":\"scattergeo\",\"marker\":{\"colorbar\":{\"outlinewidth\":0,\"ticks\":\"\"}}}],\"scatterpolar\":[{\"type\":\"scatterpolar\",\"marker\":{\"colorbar\":{\"outlinewidth\":0,\"ticks\":\"\"}}}],\"histogram\":[{\"marker\":{\"pattern\":{\"fillmode\":\"overlay\",\"size\":10,\"solidity\":0.2}},\"type\":\"histogram\"}],\"scattergl\":[{\"type\":\"scattergl\",\"marker\":{\"colorbar\":{\"outlinewidth\":0,\"ticks\":\"\"}}}],\"scatter3d\":[{\"type\":\"scatter3d\",\"line\":{\"colorbar\":{\"outlinewidth\":0,\"ticks\":\"\"}},\"marker\":{\"colorbar\":{\"outlinewidth\":0,\"ticks\":\"\"}}}],\"scattermapbox\":[{\"type\":\"scattermapbox\",\"marker\":{\"colorbar\":{\"outlinewidth\":0,\"ticks\":\"\"}}}],\"scatterternary\":[{\"type\":\"scatterternary\",\"marker\":{\"colorbar\":{\"outlinewidth\":0,\"ticks\":\"\"}}}],\"scattercarpet\":[{\"type\":\"scattercarpet\",\"marker\":{\"colorbar\":{\"outlinewidth\":0,\"ticks\":\"\"}}}],\"carpet\":[{\"aaxis\":{\"endlinecolor\":\"#2a3f5f\",\"gridcolor\":\"white\",\"linecolor\":\"white\",\"minorgridcolor\":\"white\",\"startlinecolor\":\"#2a3f5f\"},\"baxis\":{\"endlinecolor\":\"#2a3f5f\",\"gridcolor\":\"white\",\"linecolor\":\"white\",\"minorgridcolor\":\"white\",\"startlinecolor\":\"#2a3f5f\"},\"type\":\"carpet\"}],\"table\":[{\"cells\":{\"fill\":{\"color\":\"#EBF0F8\"},\"line\":{\"color\":\"white\"}},\"header\":{\"fill\":{\"color\":\"#C8D4E3\"},\"line\":{\"color\":\"white\"}},\"type\":\"table\"}],\"barpolar\":[{\"marker\":{\"line\":{\"color\":\"#E5ECF6\",\"width\":0.5},\"pattern\":{\"fillmode\":\"overlay\",\"size\":10,\"solidity\":0.2}},\"type\":\"barpolar\"}],\"pie\":[{\"automargin\":true,\"type\":\"pie\"}]},\"layout\":{\"autotypenumbers\":\"strict\",\"colorway\":[\"#636efa\",\"#EF553B\",\"#00cc96\",\"#ab63fa\",\"#FFA15A\",\"#19d3f3\",\"#FF6692\",\"#B6E880\",\"#FF97FF\",\"#FECB52\"],\"font\":{\"color\":\"#2a3f5f\"},\"hovermode\":\"closest\",\"hoverlabel\":{\"align\":\"left\"},\"paper_bgcolor\":\"white\",\"plot_bgcolor\":\"#E5ECF6\",\"polar\":{\"bgcolor\":\"#E5ECF6\",\"angularaxis\":{\"gridcolor\":\"white\",\"linecolor\":\"white\",\"ticks\":\"\"},\"radialaxis\":{\"gridcolor\":\"white\",\"linecolor\":\"white\",\"ticks\":\"\"}},\"ternary\":{\"bgcolor\":\"#E5ECF6\",\"aaxis\":{\"gridcolor\":\"white\",\"linecolor\":\"white\",\"ticks\":\"\"},\"baxis\":{\"gridcolor\":\"white\",\"linecolor\":\"white\",\"ticks\":\"\"},\"caxis\":{\"gridcolor\":\"white\",\"linecolor\":\"white\",\"ticks\":\"\"}},\"coloraxis\":{\"colorbar\":{\"outlinewidth\":0,\"ticks\":\"\"}},\"colorscale\":{\"sequential\":[[0.0,\"#0d0887\"],[0.1111111111111111,\"#46039f\"],[0.2222222222222222,\"#7201a8\"],[0.3333333333333333,\"#9c179e\"],[0.4444444444444444,\"#bd3786\"],[0.5555555555555556,\"#d8576b\"],[0.6666666666666666,\"#ed7953\"],[0.7777777777777778,\"#fb9f3a\"],[0.8888888888888888,\"#fdca26\"],[1.0,\"#f0f921\"]],\"sequentialminus\":[[0.0,\"#0d0887\"],[0.1111111111111111,\"#46039f\"],[0.2222222222222222,\"#7201a8\"],[0.3333333333333333,\"#9c179e\"],[0.4444444444444444,\"#bd3786\"],[0.5555555555555556,\"#d8576b\"],[0.6666666666666666,\"#ed7953\"],[0.7777777777777778,\"#fb9f3a\"],[0.8888888888888888,\"#fdca26\"],[1.0,\"#f0f921\"]],\"diverging\":[[0,\"#8e0152\"],[0.1,\"#c51b7d\"],[0.2,\"#de77ae\"],[0.3,\"#f1b6da\"],[0.4,\"#fde0ef\"],[0.5,\"#f7f7f7\"],[0.6,\"#e6f5d0\"],[0.7,\"#b8e186\"],[0.8,\"#7fbc41\"],[0.9,\"#4d9221\"],[1,\"#276419\"]]},\"xaxis\":{\"gridcolor\":\"white\",\"linecolor\":\"white\",\"ticks\":\"\",\"title\":{\"standoff\":15},\"zerolinecolor\":\"white\",\"automargin\":true,\"zerolinewidth\":2},\"yaxis\":{\"gridcolor\":\"white\",\"linecolor\":\"white\",\"ticks\":\"\",\"title\":{\"standoff\":15},\"zerolinecolor\":\"white\",\"automargin\":true,\"zerolinewidth\":2},\"scene\":{\"xaxis\":{\"backgroundcolor\":\"#E5ECF6\",\"gridcolor\":\"white\",\"linecolor\":\"white\",\"showbackground\":true,\"ticks\":\"\",\"zerolinecolor\":\"white\",\"gridwidth\":2},\"yaxis\":{\"backgroundcolor\":\"#E5ECF6\",\"gridcolor\":\"white\",\"linecolor\":\"white\",\"showbackground\":true,\"ticks\":\"\",\"zerolinecolor\":\"white\",\"gridwidth\":2},\"zaxis\":{\"backgroundcolor\":\"#E5ECF6\",\"gridcolor\":\"white\",\"linecolor\":\"white\",\"showbackground\":true,\"ticks\":\"\",\"zerolinecolor\":\"white\",\"gridwidth\":2}},\"shapedefaults\":{\"line\":{\"color\":\"#2a3f5f\"}},\"annotationdefaults\":{\"arrowcolor\":\"#2a3f5f\",\"arrowhead\":0,\"arrowwidth\":1},\"geo\":{\"bgcolor\":\"white\",\"landcolor\":\"#E5ECF6\",\"subunitcolor\":\"white\",\"showland\":true,\"showlakes\":true,\"lakecolor\":\"white\"},\"title\":{\"x\":0.05},\"mapbox\":{\"style\":\"light\"}}},\"xaxis\":{\"anchor\":\"y\",\"domain\":[0.0,1.0],\"title\":{\"text\":\"value\"}},\"yaxis\":{\"anchor\":\"x\",\"domain\":[0.0,1.0],\"title\":{\"text\":\"count\"}},\"legend\":{\"title\":{\"text\":\"variable\"},\"tracegroupgap\":0},\"title\":{\"text\":\"Prob. of Parent's Tag Presented in Child\"},\"barmode\":\"relative\"},                        {\"responsive\": true}                    ).then(function(){\n",
       "                            \n",
       "var gd = document.getElementById('50a987fc-8357-441e-a00e-11bf5a0e2aaa');\n",
       "var x = new MutationObserver(function (mutations, observer) {{\n",
       "        var display = window.getComputedStyle(gd).display;\n",
       "        if (!display || display === 'none') {{\n",
       "            console.log([gd, 'removed!']);\n",
       "            Plotly.purge(gd);\n",
       "            observer.disconnect();\n",
       "        }}\n",
       "}});\n",
       "\n",
       "// Listen for the removal of the full notebook cells\n",
       "var notebookContainer = gd.closest('#notebook-container');\n",
       "if (notebookContainer) {{\n",
       "    x.observe(notebookContainer, {childList: true});\n",
       "}}\n",
       "\n",
       "// Listen for the clearing of the current output cell\n",
       "var outputEl = gd.closest('.output');\n",
       "if (outputEl) {{\n",
       "    x.observe(outputEl, {childList: true});\n",
       "}}\n",
       "\n",
       "                        })                };                });            </script>        </div>"
      ]
     },
     "metadata": {},
     "output_type": "display_data"
    }
   ],
   "source": [
    "fig=get_hist_flow(transition_mat)\n",
    "fig.show()"
   ]
  },
  {
   "cell_type": "code",
   "execution_count": 106,
   "metadata": {},
   "outputs": [
    {
     "data": {
      "text/html": [
       "<div>                            <div id=\"f698f09f-90ba-4034-9b8d-38efecc774f4\" class=\"plotly-graph-div\" style=\"height:525px; width:100%;\"></div>            <script type=\"text/javascript\">                require([\"plotly\"], function(Plotly) {                    window.PLOTLYENV=window.PLOTLYENV || {};                                    if (document.getElementById(\"f698f09f-90ba-4034-9b8d-38efecc774f4\")) {                    Plotly.newPlot(                        \"f698f09f-90ba-4034-9b8d-38efecc774f4\",                        [{\"alignmentgroup\":\"True\",\"bingroup\":\"x\",\"cumulative\":{\"enabled\":true},\"hovertemplate\":\"variable=0<br>value=%{x}<br>count=%{y}<extra></extra>\",\"legendgroup\":\"0\",\"marker\":{\"color\":\"#636efa\",\"pattern\":{\"shape\":\"\"}},\"name\":\"0\",\"nbinsx\":20,\"offsetgroup\":\"0\",\"orientation\":\"v\",\"showlegend\":true,\"x\":[0.1735973597359736,0.2882623705408516,0.18941398865784498,0.08704453441295547,0.25877574702639977,0.10144124168514412,0.06301939058171745,0.19840213049267644,0.32637571157495254,0.06777493606138107,0.061452513966480445,0.30643611911623436,0.022388059701492536,0.04672290720311486,0.06422018348623854,0.20537897310513448,0.432157394843962,0.08888888888888889,0.08089792460821686,0.12250453720508167,0.061224489795918366,0.06773920406435224,0.20255775577557755,0.23840206185567012,0.19724137931034483,0.20253164556962025,0.07557117750439367,0.19249201277955272,0.1336996336996337,0.20330578512396694,0.12826603325415678,0.06177606177606178,0.2515991471215352,0.0875,0.36454592098512056,0.6194125159642401,0.1663417803768681,0.1299897645854657,0.5018050541516246,0.10904255319148937,0.09408926417370325,0.029850746268656716,0.048227535037098104,0.19718309859154928,0.2174721189591078,0.6862170087976539,0.3439306358381503,0.18699186991869918,0.03773584905660377,0.15306122448979592],\"xaxis\":\"x\",\"yaxis\":\"y\",\"type\":\"histogram\"}],                        {\"template\":{\"data\":{\"histogram2dcontour\":[{\"type\":\"histogram2dcontour\",\"colorbar\":{\"outlinewidth\":0,\"ticks\":\"\"},\"colorscale\":[[0.0,\"#0d0887\"],[0.1111111111111111,\"#46039f\"],[0.2222222222222222,\"#7201a8\"],[0.3333333333333333,\"#9c179e\"],[0.4444444444444444,\"#bd3786\"],[0.5555555555555556,\"#d8576b\"],[0.6666666666666666,\"#ed7953\"],[0.7777777777777778,\"#fb9f3a\"],[0.8888888888888888,\"#fdca26\"],[1.0,\"#f0f921\"]]}],\"choropleth\":[{\"type\":\"choropleth\",\"colorbar\":{\"outlinewidth\":0,\"ticks\":\"\"}}],\"histogram2d\":[{\"type\":\"histogram2d\",\"colorbar\":{\"outlinewidth\":0,\"ticks\":\"\"},\"colorscale\":[[0.0,\"#0d0887\"],[0.1111111111111111,\"#46039f\"],[0.2222222222222222,\"#7201a8\"],[0.3333333333333333,\"#9c179e\"],[0.4444444444444444,\"#bd3786\"],[0.5555555555555556,\"#d8576b\"],[0.6666666666666666,\"#ed7953\"],[0.7777777777777778,\"#fb9f3a\"],[0.8888888888888888,\"#fdca26\"],[1.0,\"#f0f921\"]]}],\"heatmap\":[{\"type\":\"heatmap\",\"colorbar\":{\"outlinewidth\":0,\"ticks\":\"\"},\"colorscale\":[[0.0,\"#0d0887\"],[0.1111111111111111,\"#46039f\"],[0.2222222222222222,\"#7201a8\"],[0.3333333333333333,\"#9c179e\"],[0.4444444444444444,\"#bd3786\"],[0.5555555555555556,\"#d8576b\"],[0.6666666666666666,\"#ed7953\"],[0.7777777777777778,\"#fb9f3a\"],[0.8888888888888888,\"#fdca26\"],[1.0,\"#f0f921\"]]}],\"heatmapgl\":[{\"type\":\"heatmapgl\",\"colorbar\":{\"outlinewidth\":0,\"ticks\":\"\"},\"colorscale\":[[0.0,\"#0d0887\"],[0.1111111111111111,\"#46039f\"],[0.2222222222222222,\"#7201a8\"],[0.3333333333333333,\"#9c179e\"],[0.4444444444444444,\"#bd3786\"],[0.5555555555555556,\"#d8576b\"],[0.6666666666666666,\"#ed7953\"],[0.7777777777777778,\"#fb9f3a\"],[0.8888888888888888,\"#fdca26\"],[1.0,\"#f0f921\"]]}],\"contourcarpet\":[{\"type\":\"contourcarpet\",\"colorbar\":{\"outlinewidth\":0,\"ticks\":\"\"}}],\"contour\":[{\"type\":\"contour\",\"colorbar\":{\"outlinewidth\":0,\"ticks\":\"\"},\"colorscale\":[[0.0,\"#0d0887\"],[0.1111111111111111,\"#46039f\"],[0.2222222222222222,\"#7201a8\"],[0.3333333333333333,\"#9c179e\"],[0.4444444444444444,\"#bd3786\"],[0.5555555555555556,\"#d8576b\"],[0.6666666666666666,\"#ed7953\"],[0.7777777777777778,\"#fb9f3a\"],[0.8888888888888888,\"#fdca26\"],[1.0,\"#f0f921\"]]}],\"surface\":[{\"type\":\"surface\",\"colorbar\":{\"outlinewidth\":0,\"ticks\":\"\"},\"colorscale\":[[0.0,\"#0d0887\"],[0.1111111111111111,\"#46039f\"],[0.2222222222222222,\"#7201a8\"],[0.3333333333333333,\"#9c179e\"],[0.4444444444444444,\"#bd3786\"],[0.5555555555555556,\"#d8576b\"],[0.6666666666666666,\"#ed7953\"],[0.7777777777777778,\"#fb9f3a\"],[0.8888888888888888,\"#fdca26\"],[1.0,\"#f0f921\"]]}],\"mesh3d\":[{\"type\":\"mesh3d\",\"colorbar\":{\"outlinewidth\":0,\"ticks\":\"\"}}],\"scatter\":[{\"fillpattern\":{\"fillmode\":\"overlay\",\"size\":10,\"solidity\":0.2},\"type\":\"scatter\"}],\"parcoords\":[{\"type\":\"parcoords\",\"line\":{\"colorbar\":{\"outlinewidth\":0,\"ticks\":\"\"}}}],\"scatterpolargl\":[{\"type\":\"scatterpolargl\",\"marker\":{\"colorbar\":{\"outlinewidth\":0,\"ticks\":\"\"}}}],\"bar\":[{\"error_x\":{\"color\":\"#2a3f5f\"},\"error_y\":{\"color\":\"#2a3f5f\"},\"marker\":{\"line\":{\"color\":\"#E5ECF6\",\"width\":0.5},\"pattern\":{\"fillmode\":\"overlay\",\"size\":10,\"solidity\":0.2}},\"type\":\"bar\"}],\"scattergeo\":[{\"type\":\"scattergeo\",\"marker\":{\"colorbar\":{\"outlinewidth\":0,\"ticks\":\"\"}}}],\"scatterpolar\":[{\"type\":\"scatterpolar\",\"marker\":{\"colorbar\":{\"outlinewidth\":0,\"ticks\":\"\"}}}],\"histogram\":[{\"marker\":{\"pattern\":{\"fillmode\":\"overlay\",\"size\":10,\"solidity\":0.2}},\"type\":\"histogram\"}],\"scattergl\":[{\"type\":\"scattergl\",\"marker\":{\"colorbar\":{\"outlinewidth\":0,\"ticks\":\"\"}}}],\"scatter3d\":[{\"type\":\"scatter3d\",\"line\":{\"colorbar\":{\"outlinewidth\":0,\"ticks\":\"\"}},\"marker\":{\"colorbar\":{\"outlinewidth\":0,\"ticks\":\"\"}}}],\"scattermapbox\":[{\"type\":\"scattermapbox\",\"marker\":{\"colorbar\":{\"outlinewidth\":0,\"ticks\":\"\"}}}],\"scatterternary\":[{\"type\":\"scatterternary\",\"marker\":{\"colorbar\":{\"outlinewidth\":0,\"ticks\":\"\"}}}],\"scattercarpet\":[{\"type\":\"scattercarpet\",\"marker\":{\"colorbar\":{\"outlinewidth\":0,\"ticks\":\"\"}}}],\"carpet\":[{\"aaxis\":{\"endlinecolor\":\"#2a3f5f\",\"gridcolor\":\"white\",\"linecolor\":\"white\",\"minorgridcolor\":\"white\",\"startlinecolor\":\"#2a3f5f\"},\"baxis\":{\"endlinecolor\":\"#2a3f5f\",\"gridcolor\":\"white\",\"linecolor\":\"white\",\"minorgridcolor\":\"white\",\"startlinecolor\":\"#2a3f5f\"},\"type\":\"carpet\"}],\"table\":[{\"cells\":{\"fill\":{\"color\":\"#EBF0F8\"},\"line\":{\"color\":\"white\"}},\"header\":{\"fill\":{\"color\":\"#C8D4E3\"},\"line\":{\"color\":\"white\"}},\"type\":\"table\"}],\"barpolar\":[{\"marker\":{\"line\":{\"color\":\"#E5ECF6\",\"width\":0.5},\"pattern\":{\"fillmode\":\"overlay\",\"size\":10,\"solidity\":0.2}},\"type\":\"barpolar\"}],\"pie\":[{\"automargin\":true,\"type\":\"pie\"}]},\"layout\":{\"autotypenumbers\":\"strict\",\"colorway\":[\"#636efa\",\"#EF553B\",\"#00cc96\",\"#ab63fa\",\"#FFA15A\",\"#19d3f3\",\"#FF6692\",\"#B6E880\",\"#FF97FF\",\"#FECB52\"],\"font\":{\"color\":\"#2a3f5f\"},\"hovermode\":\"closest\",\"hoverlabel\":{\"align\":\"left\"},\"paper_bgcolor\":\"white\",\"plot_bgcolor\":\"#E5ECF6\",\"polar\":{\"bgcolor\":\"#E5ECF6\",\"angularaxis\":{\"gridcolor\":\"white\",\"linecolor\":\"white\",\"ticks\":\"\"},\"radialaxis\":{\"gridcolor\":\"white\",\"linecolor\":\"white\",\"ticks\":\"\"}},\"ternary\":{\"bgcolor\":\"#E5ECF6\",\"aaxis\":{\"gridcolor\":\"white\",\"linecolor\":\"white\",\"ticks\":\"\"},\"baxis\":{\"gridcolor\":\"white\",\"linecolor\":\"white\",\"ticks\":\"\"},\"caxis\":{\"gridcolor\":\"white\",\"linecolor\":\"white\",\"ticks\":\"\"}},\"coloraxis\":{\"colorbar\":{\"outlinewidth\":0,\"ticks\":\"\"}},\"colorscale\":{\"sequential\":[[0.0,\"#0d0887\"],[0.1111111111111111,\"#46039f\"],[0.2222222222222222,\"#7201a8\"],[0.3333333333333333,\"#9c179e\"],[0.4444444444444444,\"#bd3786\"],[0.5555555555555556,\"#d8576b\"],[0.6666666666666666,\"#ed7953\"],[0.7777777777777778,\"#fb9f3a\"],[0.8888888888888888,\"#fdca26\"],[1.0,\"#f0f921\"]],\"sequentialminus\":[[0.0,\"#0d0887\"],[0.1111111111111111,\"#46039f\"],[0.2222222222222222,\"#7201a8\"],[0.3333333333333333,\"#9c179e\"],[0.4444444444444444,\"#bd3786\"],[0.5555555555555556,\"#d8576b\"],[0.6666666666666666,\"#ed7953\"],[0.7777777777777778,\"#fb9f3a\"],[0.8888888888888888,\"#fdca26\"],[1.0,\"#f0f921\"]],\"diverging\":[[0,\"#8e0152\"],[0.1,\"#c51b7d\"],[0.2,\"#de77ae\"],[0.3,\"#f1b6da\"],[0.4,\"#fde0ef\"],[0.5,\"#f7f7f7\"],[0.6,\"#e6f5d0\"],[0.7,\"#b8e186\"],[0.8,\"#7fbc41\"],[0.9,\"#4d9221\"],[1,\"#276419\"]]},\"xaxis\":{\"gridcolor\":\"white\",\"linecolor\":\"white\",\"ticks\":\"\",\"title\":{\"standoff\":15},\"zerolinecolor\":\"white\",\"automargin\":true,\"zerolinewidth\":2},\"yaxis\":{\"gridcolor\":\"white\",\"linecolor\":\"white\",\"ticks\":\"\",\"title\":{\"standoff\":15},\"zerolinecolor\":\"white\",\"automargin\":true,\"zerolinewidth\":2},\"scene\":{\"xaxis\":{\"backgroundcolor\":\"#E5ECF6\",\"gridcolor\":\"white\",\"linecolor\":\"white\",\"showbackground\":true,\"ticks\":\"\",\"zerolinecolor\":\"white\",\"gridwidth\":2},\"yaxis\":{\"backgroundcolor\":\"#E5ECF6\",\"gridcolor\":\"white\",\"linecolor\":\"white\",\"showbackground\":true,\"ticks\":\"\",\"zerolinecolor\":\"white\",\"gridwidth\":2},\"zaxis\":{\"backgroundcolor\":\"#E5ECF6\",\"gridcolor\":\"white\",\"linecolor\":\"white\",\"showbackground\":true,\"ticks\":\"\",\"zerolinecolor\":\"white\",\"gridwidth\":2}},\"shapedefaults\":{\"line\":{\"color\":\"#2a3f5f\"}},\"annotationdefaults\":{\"arrowcolor\":\"#2a3f5f\",\"arrowhead\":0,\"arrowwidth\":1},\"geo\":{\"bgcolor\":\"white\",\"landcolor\":\"#E5ECF6\",\"subunitcolor\":\"white\",\"showland\":true,\"showlakes\":true,\"lakecolor\":\"white\"},\"title\":{\"x\":0.05},\"mapbox\":{\"style\":\"light\"}}},\"xaxis\":{\"anchor\":\"y\",\"domain\":[0.0,1.0],\"title\":{\"text\":\"value\"}},\"yaxis\":{\"anchor\":\"x\",\"domain\":[0.0,1.0],\"title\":{\"text\":\"count\"}},\"legend\":{\"title\":{\"text\":\"variable\"},\"tracegroupgap\":0},\"title\":{\"text\":\"Prob. of Parent's Tag Presented in Child\"},\"barmode\":\"relative\"},                        {\"responsive\": true}                    ).then(function(){\n",
       "                            \n",
       "var gd = document.getElementById('f698f09f-90ba-4034-9b8d-38efecc774f4');\n",
       "var x = new MutationObserver(function (mutations, observer) {{\n",
       "        var display = window.getComputedStyle(gd).display;\n",
       "        if (!display || display === 'none') {{\n",
       "            console.log([gd, 'removed!']);\n",
       "            Plotly.purge(gd);\n",
       "            observer.disconnect();\n",
       "        }}\n",
       "}});\n",
       "\n",
       "// Listen for the removal of the full notebook cells\n",
       "var notebookContainer = gd.closest('#notebook-container');\n",
       "if (notebookContainer) {{\n",
       "    x.observe(notebookContainer, {childList: true});\n",
       "}}\n",
       "\n",
       "// Listen for the clearing of the current output cell\n",
       "var outputEl = gd.closest('.output');\n",
       "if (outputEl) {{\n",
       "    x.observe(outputEl, {childList: true});\n",
       "}}\n",
       "\n",
       "                        })                };                });            </script>        </div>"
      ]
     },
     "metadata": {},
     "output_type": "display_data"
    }
   ],
   "source": [
    "fig=get_hist_flow(transition_mat, cumulative=True)\n",
    "fig.show()"
   ]
  },
  {
   "cell_type": "code",
   "execution_count": 108,
   "metadata": {},
   "outputs": [
    {
     "name": "stdout",
     "output_type": "stream",
     "text": [
      "0.18349916481822706\n",
      "0.14276385430248553\n"
     ]
    }
   ],
   "source": [
    "print(np.mean(transition_mat.diagonal()))\n",
    "print(np.std(transition_mat.diagonal()))"
   ]
  },
  {
   "cell_type": "code",
   "execution_count": 109,
   "metadata": {},
   "outputs": [],
   "source": [
    "import numpy as np\n",
    "import pandas as pd\n",
    "from scipy.stats import kstest, uniform\n",
    "\n",
    "# Assuming you have a DataFrame named \"tags_flow\" with columns \"parent_tag\" and \"weight_distribution\"\n",
    "\n",
    "# Define a function to perform KS test and return the test statistic\n",
    "def ks_test_statistic(data):\n",
    "    return kstest(data, uniform.cdf)[0]\n",
    "\n",
    "# Group the data by \"parent_tag\" and apply the KS test\n",
    "grouped = tags_flow.groupby('cluster_parent')['weight_normalized'].apply(ks_test_statistic)"
   ]
  },
  {
   "cell_type": "code",
   "execution_count": 110,
   "metadata": {},
   "outputs": [
    {
     "data": {
      "text/html": [
       "<div>                            <div id=\"8aae45c0-d883-43a9-b065-59cdf17e139f\" class=\"plotly-graph-div\" style=\"height:525px; width:100%;\"></div>            <script type=\"text/javascript\">                require([\"plotly\"], function(Plotly) {                    window.PLOTLYENV=window.PLOTLYENV || {};                                    if (document.getElementById(\"8aae45c0-d883-43a9-b065-59cdf17e139f\")) {                    Plotly.newPlot(                        \"8aae45c0-d883-43a9-b065-59cdf17e139f\",                        [{\"alignmentgroup\":\"True\",\"hovertemplate\":\"cluster_parent=%{x}<br>weight_normalized=%{y}<extra></extra>\",\"legendgroup\":\"\",\"marker\":{\"color\":\"#636efa\",\"pattern\":{\"shape\":\"\"}},\"name\":\"\",\"offsetgroup\":\"\",\"orientation\":\"v\",\"showlegend\":false,\"textposition\":\"auto\",\"x\":[\"47\",\"25\",\"43\",\"49\",\"31\",\"11\",\"41\",\"23\",\"33\",\"36\",\"2\",\"0\",\"40\",\"15\",\"5\",\"8\",\"44\",\"32\",\"4\",\"6\",\"17\",\"39\",\"22\",\"14\",\"46\",\"29\",\"42\",\"30\",\"16\",\"18\",\"28\",\"24\",\"1\",\"21\",\"34\",\"12\",\"35\",\"26\",\"38\",\"3\",\"7\",\"19\",\"20\",\"13\",\"37\",\"9\",\"10\",\"27\",\"48\",\"45\"],\"xaxis\":\"x\",\"y\":[0.8852109949670925,0.8887610280015343,0.8902162977867203,0.8934240362811792,0.8951093951093951,0.8951499172236188,0.8955223880597015,0.8959547288211565,0.9,0.9021702404158545,0.902480614173836,0.9026613299627836,0.9030076397265782,0.9058170334148329,0.9078935698447893,0.908052140912466,0.9090045435770342,0.9092293633871459,0.909538729329852,0.9096472383967438,0.909800957420005,0.9100177304964538,0.9104950495049504,0.9109825821034437,0.9113037893384714,0.9144716018990681,0.917757625721352,0.9179532858273951,0.9189846223428313,0.9191020753917831,0.9195604395604395,0.9199999999999999,0.9209340237821251,0.9212531752751905,0.921518727552591,0.9216417910447761,0.921996266823853,0.9244288224956063,0.9262026698010242,0.9263562753036437,0.9272359076786506,0.9278676988036594,0.9285714285714286,0.9286177806619078,0.9288229273285568,0.9322250639386189,0.9385474860335196,0.9388570124535437,0.939203354297694,0.9521493455403762],\"yaxis\":\"y\",\"type\":\"bar\"}],                        {\"template\":{\"data\":{\"histogram2dcontour\":[{\"type\":\"histogram2dcontour\",\"colorbar\":{\"outlinewidth\":0,\"ticks\":\"\"},\"colorscale\":[[0.0,\"#0d0887\"],[0.1111111111111111,\"#46039f\"],[0.2222222222222222,\"#7201a8\"],[0.3333333333333333,\"#9c179e\"],[0.4444444444444444,\"#bd3786\"],[0.5555555555555556,\"#d8576b\"],[0.6666666666666666,\"#ed7953\"],[0.7777777777777778,\"#fb9f3a\"],[0.8888888888888888,\"#fdca26\"],[1.0,\"#f0f921\"]]}],\"choropleth\":[{\"type\":\"choropleth\",\"colorbar\":{\"outlinewidth\":0,\"ticks\":\"\"}}],\"histogram2d\":[{\"type\":\"histogram2d\",\"colorbar\":{\"outlinewidth\":0,\"ticks\":\"\"},\"colorscale\":[[0.0,\"#0d0887\"],[0.1111111111111111,\"#46039f\"],[0.2222222222222222,\"#7201a8\"],[0.3333333333333333,\"#9c179e\"],[0.4444444444444444,\"#bd3786\"],[0.5555555555555556,\"#d8576b\"],[0.6666666666666666,\"#ed7953\"],[0.7777777777777778,\"#fb9f3a\"],[0.8888888888888888,\"#fdca26\"],[1.0,\"#f0f921\"]]}],\"heatmap\":[{\"type\":\"heatmap\",\"colorbar\":{\"outlinewidth\":0,\"ticks\":\"\"},\"colorscale\":[[0.0,\"#0d0887\"],[0.1111111111111111,\"#46039f\"],[0.2222222222222222,\"#7201a8\"],[0.3333333333333333,\"#9c179e\"],[0.4444444444444444,\"#bd3786\"],[0.5555555555555556,\"#d8576b\"],[0.6666666666666666,\"#ed7953\"],[0.7777777777777778,\"#fb9f3a\"],[0.8888888888888888,\"#fdca26\"],[1.0,\"#f0f921\"]]}],\"heatmapgl\":[{\"type\":\"heatmapgl\",\"colorbar\":{\"outlinewidth\":0,\"ticks\":\"\"},\"colorscale\":[[0.0,\"#0d0887\"],[0.1111111111111111,\"#46039f\"],[0.2222222222222222,\"#7201a8\"],[0.3333333333333333,\"#9c179e\"],[0.4444444444444444,\"#bd3786\"],[0.5555555555555556,\"#d8576b\"],[0.6666666666666666,\"#ed7953\"],[0.7777777777777778,\"#fb9f3a\"],[0.8888888888888888,\"#fdca26\"],[1.0,\"#f0f921\"]]}],\"contourcarpet\":[{\"type\":\"contourcarpet\",\"colorbar\":{\"outlinewidth\":0,\"ticks\":\"\"}}],\"contour\":[{\"type\":\"contour\",\"colorbar\":{\"outlinewidth\":0,\"ticks\":\"\"},\"colorscale\":[[0.0,\"#0d0887\"],[0.1111111111111111,\"#46039f\"],[0.2222222222222222,\"#7201a8\"],[0.3333333333333333,\"#9c179e\"],[0.4444444444444444,\"#bd3786\"],[0.5555555555555556,\"#d8576b\"],[0.6666666666666666,\"#ed7953\"],[0.7777777777777778,\"#fb9f3a\"],[0.8888888888888888,\"#fdca26\"],[1.0,\"#f0f921\"]]}],\"surface\":[{\"type\":\"surface\",\"colorbar\":{\"outlinewidth\":0,\"ticks\":\"\"},\"colorscale\":[[0.0,\"#0d0887\"],[0.1111111111111111,\"#46039f\"],[0.2222222222222222,\"#7201a8\"],[0.3333333333333333,\"#9c179e\"],[0.4444444444444444,\"#bd3786\"],[0.5555555555555556,\"#d8576b\"],[0.6666666666666666,\"#ed7953\"],[0.7777777777777778,\"#fb9f3a\"],[0.8888888888888888,\"#fdca26\"],[1.0,\"#f0f921\"]]}],\"mesh3d\":[{\"type\":\"mesh3d\",\"colorbar\":{\"outlinewidth\":0,\"ticks\":\"\"}}],\"scatter\":[{\"fillpattern\":{\"fillmode\":\"overlay\",\"size\":10,\"solidity\":0.2},\"type\":\"scatter\"}],\"parcoords\":[{\"type\":\"parcoords\",\"line\":{\"colorbar\":{\"outlinewidth\":0,\"ticks\":\"\"}}}],\"scatterpolargl\":[{\"type\":\"scatterpolargl\",\"marker\":{\"colorbar\":{\"outlinewidth\":0,\"ticks\":\"\"}}}],\"bar\":[{\"error_x\":{\"color\":\"#2a3f5f\"},\"error_y\":{\"color\":\"#2a3f5f\"},\"marker\":{\"line\":{\"color\":\"#E5ECF6\",\"width\":0.5},\"pattern\":{\"fillmode\":\"overlay\",\"size\":10,\"solidity\":0.2}},\"type\":\"bar\"}],\"scattergeo\":[{\"type\":\"scattergeo\",\"marker\":{\"colorbar\":{\"outlinewidth\":0,\"ticks\":\"\"}}}],\"scatterpolar\":[{\"type\":\"scatterpolar\",\"marker\":{\"colorbar\":{\"outlinewidth\":0,\"ticks\":\"\"}}}],\"histogram\":[{\"marker\":{\"pattern\":{\"fillmode\":\"overlay\",\"size\":10,\"solidity\":0.2}},\"type\":\"histogram\"}],\"scattergl\":[{\"type\":\"scattergl\",\"marker\":{\"colorbar\":{\"outlinewidth\":0,\"ticks\":\"\"}}}],\"scatter3d\":[{\"type\":\"scatter3d\",\"line\":{\"colorbar\":{\"outlinewidth\":0,\"ticks\":\"\"}},\"marker\":{\"colorbar\":{\"outlinewidth\":0,\"ticks\":\"\"}}}],\"scattermapbox\":[{\"type\":\"scattermapbox\",\"marker\":{\"colorbar\":{\"outlinewidth\":0,\"ticks\":\"\"}}}],\"scatterternary\":[{\"type\":\"scatterternary\",\"marker\":{\"colorbar\":{\"outlinewidth\":0,\"ticks\":\"\"}}}],\"scattercarpet\":[{\"type\":\"scattercarpet\",\"marker\":{\"colorbar\":{\"outlinewidth\":0,\"ticks\":\"\"}}}],\"carpet\":[{\"aaxis\":{\"endlinecolor\":\"#2a3f5f\",\"gridcolor\":\"white\",\"linecolor\":\"white\",\"minorgridcolor\":\"white\",\"startlinecolor\":\"#2a3f5f\"},\"baxis\":{\"endlinecolor\":\"#2a3f5f\",\"gridcolor\":\"white\",\"linecolor\":\"white\",\"minorgridcolor\":\"white\",\"startlinecolor\":\"#2a3f5f\"},\"type\":\"carpet\"}],\"table\":[{\"cells\":{\"fill\":{\"color\":\"#EBF0F8\"},\"line\":{\"color\":\"white\"}},\"header\":{\"fill\":{\"color\":\"#C8D4E3\"},\"line\":{\"color\":\"white\"}},\"type\":\"table\"}],\"barpolar\":[{\"marker\":{\"line\":{\"color\":\"#E5ECF6\",\"width\":0.5},\"pattern\":{\"fillmode\":\"overlay\",\"size\":10,\"solidity\":0.2}},\"type\":\"barpolar\"}],\"pie\":[{\"automargin\":true,\"type\":\"pie\"}]},\"layout\":{\"autotypenumbers\":\"strict\",\"colorway\":[\"#636efa\",\"#EF553B\",\"#00cc96\",\"#ab63fa\",\"#FFA15A\",\"#19d3f3\",\"#FF6692\",\"#B6E880\",\"#FF97FF\",\"#FECB52\"],\"font\":{\"color\":\"#2a3f5f\"},\"hovermode\":\"closest\",\"hoverlabel\":{\"align\":\"left\"},\"paper_bgcolor\":\"white\",\"plot_bgcolor\":\"#E5ECF6\",\"polar\":{\"bgcolor\":\"#E5ECF6\",\"angularaxis\":{\"gridcolor\":\"white\",\"linecolor\":\"white\",\"ticks\":\"\"},\"radialaxis\":{\"gridcolor\":\"white\",\"linecolor\":\"white\",\"ticks\":\"\"}},\"ternary\":{\"bgcolor\":\"#E5ECF6\",\"aaxis\":{\"gridcolor\":\"white\",\"linecolor\":\"white\",\"ticks\":\"\"},\"baxis\":{\"gridcolor\":\"white\",\"linecolor\":\"white\",\"ticks\":\"\"},\"caxis\":{\"gridcolor\":\"white\",\"linecolor\":\"white\",\"ticks\":\"\"}},\"coloraxis\":{\"colorbar\":{\"outlinewidth\":0,\"ticks\":\"\"}},\"colorscale\":{\"sequential\":[[0.0,\"#0d0887\"],[0.1111111111111111,\"#46039f\"],[0.2222222222222222,\"#7201a8\"],[0.3333333333333333,\"#9c179e\"],[0.4444444444444444,\"#bd3786\"],[0.5555555555555556,\"#d8576b\"],[0.6666666666666666,\"#ed7953\"],[0.7777777777777778,\"#fb9f3a\"],[0.8888888888888888,\"#fdca26\"],[1.0,\"#f0f921\"]],\"sequentialminus\":[[0.0,\"#0d0887\"],[0.1111111111111111,\"#46039f\"],[0.2222222222222222,\"#7201a8\"],[0.3333333333333333,\"#9c179e\"],[0.4444444444444444,\"#bd3786\"],[0.5555555555555556,\"#d8576b\"],[0.6666666666666666,\"#ed7953\"],[0.7777777777777778,\"#fb9f3a\"],[0.8888888888888888,\"#fdca26\"],[1.0,\"#f0f921\"]],\"diverging\":[[0,\"#8e0152\"],[0.1,\"#c51b7d\"],[0.2,\"#de77ae\"],[0.3,\"#f1b6da\"],[0.4,\"#fde0ef\"],[0.5,\"#f7f7f7\"],[0.6,\"#e6f5d0\"],[0.7,\"#b8e186\"],[0.8,\"#7fbc41\"],[0.9,\"#4d9221\"],[1,\"#276419\"]]},\"xaxis\":{\"gridcolor\":\"white\",\"linecolor\":\"white\",\"ticks\":\"\",\"title\":{\"standoff\":15},\"zerolinecolor\":\"white\",\"automargin\":true,\"zerolinewidth\":2},\"yaxis\":{\"gridcolor\":\"white\",\"linecolor\":\"white\",\"ticks\":\"\",\"title\":{\"standoff\":15},\"zerolinecolor\":\"white\",\"automargin\":true,\"zerolinewidth\":2},\"scene\":{\"xaxis\":{\"backgroundcolor\":\"#E5ECF6\",\"gridcolor\":\"white\",\"linecolor\":\"white\",\"showbackground\":true,\"ticks\":\"\",\"zerolinecolor\":\"white\",\"gridwidth\":2},\"yaxis\":{\"backgroundcolor\":\"#E5ECF6\",\"gridcolor\":\"white\",\"linecolor\":\"white\",\"showbackground\":true,\"ticks\":\"\",\"zerolinecolor\":\"white\",\"gridwidth\":2},\"zaxis\":{\"backgroundcolor\":\"#E5ECF6\",\"gridcolor\":\"white\",\"linecolor\":\"white\",\"showbackground\":true,\"ticks\":\"\",\"zerolinecolor\":\"white\",\"gridwidth\":2}},\"shapedefaults\":{\"line\":{\"color\":\"#2a3f5f\"}},\"annotationdefaults\":{\"arrowcolor\":\"#2a3f5f\",\"arrowhead\":0,\"arrowwidth\":1},\"geo\":{\"bgcolor\":\"white\",\"landcolor\":\"#E5ECF6\",\"subunitcolor\":\"white\",\"showland\":true,\"showlakes\":true,\"lakecolor\":\"white\"},\"title\":{\"x\":0.05},\"mapbox\":{\"style\":\"light\"}}},\"xaxis\":{\"anchor\":\"y\",\"domain\":[0.0,1.0],\"title\":{\"text\":\"cluster_parent\"},\"labelalias\":{\"0\":\"clothing\",\"1\":\"music\",\"2\":\"vehicle\",\"3\":\"geographical feature\",\"4\":\"food\",\"5\":\"sports\",\"6\":\"food\",\"7\":\"animal\",\"8\":\"eyebrow\",\"9\":\"room\",\"10\":\"person\",\"11\":\"art\",\"12\":\"glasses\",\"13\":\"footwear\",\"14\":\"monument\",\"15\":\"hair\",\"16\":\"sports\",\"17\":\"food\",\"18\":\"city\",\"19\":\"person\",\"20\":\"room\",\"21\":\"plant\",\"22\":\"clothing\",\"23\":\"event\",\"24\":\"motor vehicle\",\"25\":\"tattoo\",\"26\":\"sky\",\"27\":\"person\",\"28\":\"plant\",\"29\":\"computer\",\"30\":\"sea\",\"31\":\"sports\",\"32\":\"hand\",\"33\":\"vehicle\",\"34\":\"song\",\"35\":\"musical instrument\",\"36\":\"vehicle\",\"37\":\"building\",\"38\":\"toy\",\"39\":\"hair\",\"40\":\"sports\",\"41\":\"light\",\"42\":\"furniture\",\"43\":\"infant\",\"44\":\"style\",\"45\":\"road\",\"46\":\"style\",\"47\":\"artwork\",\"48\":\"nature\",\"49\":\"underwater\"}},\"yaxis\":{\"anchor\":\"x\",\"domain\":[0.0,1.0],\"title\":{\"text\":\"weight_normalized\"}},\"legend\":{\"tracegroupgap\":0},\"margin\":{\"t\":60},\"barmode\":\"relative\"},                        {\"responsive\": true}                    ).then(function(){\n",
       "                            \n",
       "var gd = document.getElementById('8aae45c0-d883-43a9-b065-59cdf17e139f');\n",
       "var x = new MutationObserver(function (mutations, observer) {{\n",
       "        var display = window.getComputedStyle(gd).display;\n",
       "        if (!display || display === 'none') {{\n",
       "            console.log([gd, 'removed!']);\n",
       "            Plotly.purge(gd);\n",
       "            observer.disconnect();\n",
       "        }}\n",
       "}});\n",
       "\n",
       "// Listen for the removal of the full notebook cells\n",
       "var notebookContainer = gd.closest('#notebook-container');\n",
       "if (notebookContainer) {{\n",
       "    x.observe(notebookContainer, {childList: true});\n",
       "}}\n",
       "\n",
       "// Listen for the clearing of the current output cell\n",
       "var outputEl = gd.closest('.output');\n",
       "if (outputEl) {{\n",
       "    x.observe(outputEl, {childList: true});\n",
       "}}\n",
       "\n",
       "                        })                };                });            </script>        </div>"
      ]
     },
     "metadata": {},
     "output_type": "display_data"
    }
   ],
   "source": [
    "fig = px.bar(grouped.reset_index().sort_values(by=\"weight_normalized\"), \n",
    "             x=\"cluster_parent\", y=\"weight_normalized\")\n",
    "fig.update_xaxes(labelalias=dict(dict(zip(most_defining.cluster,most_defining.tag))))\n",
    "fig"
   ]
  },
  {
   "cell_type": "code",
   "execution_count": 118,
   "metadata": {},
   "outputs": [],
   "source": [
    "def data_clusters(df, **kwargs):\n",
    "    from networkx import community\n",
    "    G=nx.from_pandas_edgelist(df, source=\"cluster_parent\", target=\"cluster_child\", edge_attr=\"weight_normalized\")\n",
    "    clusters=community.louvain_communities(G, weight=\"weight_normalized\")\n",
    "    dicts = [{item: i} for i, item_set in enumerate(clusters) for item in (item_set if isinstance(item_set, set) else [item_set])]\n",
    "    clusters_df = pd.DataFrame([(key, value) for d in dicts for key, value in d.items()], columns=['key', 'value'])\n",
    "    basic_df = filter_flow(df, **kwargs)\n",
    "    \n",
    "    # colors\n",
    "    \n",
    "    iter = len(clusters)\n",
    "    palette = list(reversed(sns.color_palette(\"Spectral_r\", iter).as_hex()))\n",
    "    colors_df = pd.DataFrame(palette, columns=['color']).reset_index()\n",
    "    \n",
    "    cluster_data = basic_df.merge(clusters_df, left_on=\"cluster_parent\", right_on=\"key\")\n",
    "    cluster_data = cluster_data.merge(colors_df, left_on=\"value\", right_on=\"index\")\n",
    "    \n",
    "    net=Network(notebook=True, select_menu=True, filter_menu=True, cdn_resources='in_line',\n",
    "                height=\"750px\", width=\"100%\", bgcolor=\"#222222\", font_color=\"white\", directed=True)\n",
    "    net.repulsion()\n",
    "\n",
    "    sources = cluster_data['tag_parent']\n",
    "    targets = cluster_data['tag_child']\n",
    "    weights = cluster_data['weight_normalized']\n",
    "    colors = cluster_data['color']\n",
    "\n",
    "    edge_data = zip(sources, targets, weights, colors)\n",
    "\n",
    "    for e in edge_data:\n",
    "                    src = e[0]\n",
    "                    dst = e[1]\n",
    "                    w = e[2]\n",
    "                    color = e[3]\n",
    "\n",
    "                    net.add_node(src, src, title=src, color=color)\n",
    "                    net.add_node(dst, dst, title=dst, color=color)\n",
    "                    net.add_edge(src, dst, value=w)\n",
    "\n",
    "    neighbor_map = net.get_adj_list()\n",
    "\n",
    "    # add neighbor data to node hover data\n",
    "    for node in net.nodes:\n",
    "                    node[\"title\"] += \" Neighbors:\\n\" + \"\\n\".join(neighbor_map[node[\"id\"]])\n",
    "                    node[\"value\"] = len(neighbor_map[node[\"id\"]])\n",
    "\n",
    "    return net\n",
    "\n",
    "    \n"
   ]
  },
  {
   "cell_type": "code",
   "execution_count": 119,
   "metadata": {},
   "outputs": [
    {
     "name": "stdout",
     "output_type": "stream",
     "text": [
      "DataFrame has 154 edges\n",
      "example2.html\n"
     ]
    },
    {
     "data": {
      "text/html": [
       "\n",
       "        <iframe\n",
       "            width=\"100%\"\n",
       "            height=\"750px\"\n",
       "            src=\"example2.html\"\n",
       "            frameborder=\"0\"\n",
       "            allowfullscreen\n",
       "            \n",
       "        ></iframe>\n",
       "        "
      ],
      "text/plain": [
       "<IPython.lib.display.IFrame at 0x3da07adf0>"
      ]
     },
     "execution_count": 119,
     "metadata": {},
     "output_type": "execute_result"
    }
   ],
   "source": [
    "net = data_clusters(tags_flow, weight=0.05)\n",
    "net.show('example2.html')"
   ]
  },
  {
   "cell_type": "code",
   "execution_count": 117,
   "metadata": {},
   "outputs": [
    {
     "data": {
      "text/html": [
       "<div>\n",
       "<style scoped>\n",
       "    .dataframe tbody tr th:only-of-type {\n",
       "        vertical-align: middle;\n",
       "    }\n",
       "\n",
       "    .dataframe tbody tr th {\n",
       "        vertical-align: top;\n",
       "    }\n",
       "\n",
       "    .dataframe thead th {\n",
       "        text-align: right;\n",
       "    }\n",
       "</style>\n",
       "<table border=\"1\" class=\"dataframe\">\n",
       "  <thead>\n",
       "    <tr style=\"text-align: right;\">\n",
       "      <th></th>\n",
       "      <th>cluster_parent</th>\n",
       "      <th>cluster_child</th>\n",
       "      <th>weight</th>\n",
       "      <th>weight_normalized</th>\n",
       "      <th>tag_parent</th>\n",
       "      <th>tag_child</th>\n",
       "    </tr>\n",
       "  </thead>\n",
       "  <tbody>\n",
       "    <tr>\n",
       "      <th>0</th>\n",
       "      <td>0</td>\n",
       "      <td>0</td>\n",
       "      <td>263</td>\n",
       "      <td>0.173597</td>\n",
       "      <td>clothing</td>\n",
       "      <td>clothing</td>\n",
       "    </tr>\n",
       "    <tr>\n",
       "      <th>1</th>\n",
       "      <td>1</td>\n",
       "      <td>0</td>\n",
       "      <td>42</td>\n",
       "      <td>0.024166</td>\n",
       "      <td>music</td>\n",
       "      <td>clothing</td>\n",
       "    </tr>\n",
       "    <tr>\n",
       "      <th>2</th>\n",
       "      <td>10</td>\n",
       "      <td>0</td>\n",
       "      <td>18</td>\n",
       "      <td>0.050279</td>\n",
       "      <td>person</td>\n",
       "      <td>clothing</td>\n",
       "    </tr>\n",
       "    <tr>\n",
       "      <th>3</th>\n",
       "      <td>11</td>\n",
       "      <td>0</td>\n",
       "      <td>19</td>\n",
       "      <td>0.018252</td>\n",
       "      <td>art</td>\n",
       "      <td>clothing</td>\n",
       "    </tr>\n",
       "    <tr>\n",
       "      <th>4</th>\n",
       "      <td>12</td>\n",
       "      <td>0</td>\n",
       "      <td>13</td>\n",
       "      <td>0.048507</td>\n",
       "      <td>glasses</td>\n",
       "      <td>clothing</td>\n",
       "    </tr>\n",
       "    <tr>\n",
       "      <th>...</th>\n",
       "      <td>...</td>\n",
       "      <td>...</td>\n",
       "      <td>...</td>\n",
       "      <td>...</td>\n",
       "      <td>...</td>\n",
       "      <td>...</td>\n",
       "    </tr>\n",
       "    <tr>\n",
       "      <th>2329</th>\n",
       "      <td>43</td>\n",
       "      <td>14</td>\n",
       "      <td>1</td>\n",
       "      <td>0.001006</td>\n",
       "      <td>infant</td>\n",
       "      <td>monument</td>\n",
       "    </tr>\n",
       "    <tr>\n",
       "      <th>2330</th>\n",
       "      <td>47</td>\n",
       "      <td>14</td>\n",
       "      <td>1</td>\n",
       "      <td>0.002710</td>\n",
       "      <td>artwork</td>\n",
       "      <td>monument</td>\n",
       "    </tr>\n",
       "    <tr>\n",
       "      <th>2331</th>\n",
       "      <td>5</td>\n",
       "      <td>14</td>\n",
       "      <td>41</td>\n",
       "      <td>0.022727</td>\n",
       "      <td>sports</td>\n",
       "      <td>monument</td>\n",
       "    </tr>\n",
       "    <tr>\n",
       "      <th>2332</th>\n",
       "      <td>6</td>\n",
       "      <td>14</td>\n",
       "      <td>2</td>\n",
       "      <td>0.001385</td>\n",
       "      <td>food</td>\n",
       "      <td>monument</td>\n",
       "    </tr>\n",
       "    <tr>\n",
       "      <th>2333</th>\n",
       "      <td>9</td>\n",
       "      <td>14</td>\n",
       "      <td>1</td>\n",
       "      <td>0.001279</td>\n",
       "      <td>room</td>\n",
       "      <td>monument</td>\n",
       "    </tr>\n",
       "  </tbody>\n",
       "</table>\n",
       "<p>2334 rows × 6 columns</p>\n",
       "</div>"
      ],
      "text/plain": [
       "     cluster_parent cluster_child  weight  weight_normalized tag_parent   \n",
       "0                 0             0     263           0.173597   clothing  \\\n",
       "1                 1             0      42           0.024166      music   \n",
       "2                10             0      18           0.050279     person   \n",
       "3                11             0      19           0.018252        art   \n",
       "4                12             0      13           0.048507    glasses   \n",
       "...             ...           ...     ...                ...        ...   \n",
       "2329             43            14       1           0.001006     infant   \n",
       "2330             47            14       1           0.002710    artwork   \n",
       "2331              5            14      41           0.022727     sports   \n",
       "2332              6            14       2           0.001385       food   \n",
       "2333              9            14       1           0.001279       room   \n",
       "\n",
       "     tag_child  \n",
       "0     clothing  \n",
       "1     clothing  \n",
       "2     clothing  \n",
       "3     clothing  \n",
       "4     clothing  \n",
       "...        ...  \n",
       "2329  monument  \n",
       "2330  monument  \n",
       "2331  monument  \n",
       "2332  monument  \n",
       "2333  monument  \n",
       "\n",
       "[2334 rows x 6 columns]"
      ]
     },
     "execution_count": 117,
     "metadata": {},
     "output_type": "execute_result"
    }
   ],
   "source": [
    "tags_flow"
   ]
  },
  {
   "cell_type": "code",
   "execution_count": null,
   "metadata": {},
   "outputs": [],
   "source": []
  }
 ],
 "metadata": {
  "kernelspec": {
   "display_name": "Python 3 (ipykernel)",
   "language": "python",
   "name": "python3"
  },
  "language_info": {
   "codemirror_mode": {
    "name": "ipython",
    "version": 3
   },
   "file_extension": ".py",
   "mimetype": "text/x-python",
   "name": "python",
   "nbconvert_exporter": "python",
   "pygments_lexer": "ipython3",
   "version": "3.9.6"
  }
 },
 "nbformat": 4,
 "nbformat_minor": 1
}
